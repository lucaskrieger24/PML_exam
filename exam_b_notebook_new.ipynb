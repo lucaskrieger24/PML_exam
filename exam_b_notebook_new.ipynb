{
 "cells": [
  {
   "cell_type": "code",
   "execution_count": 89,
   "metadata": {},
   "outputs": [],
   "source": [
    "import arviz\n",
    "import pyro\n",
    "import torch\n",
    "import numpy as np\n",
    "import pyro.contrib.gp as gp\n",
    "import pyro.distributions as dist\n",
    "import matplotlib.pyplot as plt\n",
    "from torch.distributions import constraints\n",
    "from scipy.stats import multivariate_normal"
   ]
  },
  {
   "cell_type": "code",
   "execution_count": 90,
   "metadata": {},
   "outputs": [
    {
     "name": "stdout",
     "output_type": "stream",
     "text": [
      "mkdir: images: File exists\n"
     ]
    }
   ],
   "source": [
    "!mkdir images"
   ]
  },
  {
   "cell_type": "code",
   "execution_count": 91,
   "metadata": {},
   "outputs": [],
   "source": [
    "# The function\n",
    "g = lambda x: (-(np.sin(6*torch.pi*x))**2) + 6*(x**2) - 5*(x**4) + (3/2)"
   ]
  },
  {
   "cell_type": "code",
   "execution_count": 92,
   "metadata": {},
   "outputs": [],
   "source": [
    "# create dataset\n",
    "SIZE = 30\n",
    "X = torch.linspace(0, 1, SIZE)\n",
    "y = g(X) + np.random.normal(scale = 0.01, size = (SIZE,))\n",
    "choose = np.random.choice(SIZE, int(SIZE * 2/3), replace= False)\n",
    "non_choosen = np.setdiff1d(np.arange(SIZE), choose)\n",
    "X_train, X_test = X[choose], X[non_choosen]\n",
    "y_train, y_test = y[choose], y[non_choosen]"
   ]
  },
  {
   "cell_type": "code",
   "execution_count": 93,
   "metadata": {},
   "outputs": [
    {
     "data": {
      "image/png": "[encoded data removed]",
      "text/plain": [
       "<Figure size 640x480 with 1 Axes>"
      ]
     },
     "metadata": {},
     "output_type": "display_data"
    }
   ],
   "source": [
    "plt.scatter(X, y)\n",
    "plt.title(\"Generated data\")\n",
    "plt.show()\n",
    "plt.close()"
   ]
  },
  {
   "cell_type": "markdown",
   "metadata": {},
   "source": [
    "Visually inspecting the dataset shows that there is a general upwards trend, and a periodicity around this trend. \n",
    "\n",
    "Thus, we have chosen sum an RBF kernel and a Periodic kernel, hoping that the first will model the overall trend, and the latter will capture the periodicity. We fix the variance at 1.0 for both kernels too allow faster training."
   ]
  },
  {
   "attachments": {},
   "cell_type": "markdown",
   "metadata": {},
   "source": [
    "Inspired from https://pyro.ai/examples/gp.html\n",
    "and https://pyro.ai/examples/mle_map.html"
   ]
  },
  {
   "cell_type": "code",
   "execution_count": 94,
   "metadata": {},
   "outputs": [],
   "source": [
    "# function for creating the GPRegression object with priors\n",
    "\n",
    "def gen_model(priors = True, period = torch.tensor(1.), lengthPer = torch.tensor(1.), \n",
    "              lengthRBF = torch.tensor(1.), varPer = torch.tensor(1.), varRBF= torch.tensor(1.)):\n",
    "    \n",
    "    # defining kernels\n",
    "    periodic = gp.kernels.Periodic(input_dim=1, period=period, lengthscale=lengthPer, variance=varPer)\n",
    "    rbf = gp.kernels.RBF(input_dim=1, lengthscale=lengthRBF, variance=varRBF)\n",
    "    k = gp.kernels.Sum(kern0=rbf, kern1=periodic)\n",
    "\n",
    "    model = gp.models.GPRegression(\n",
    "        X=X_train,\n",
    "        y=y_train,\n",
    "        kernel=k,\n",
    "        noise= torch.tensor(0.1),\n",
    "    )\n",
    "    if priors == True: \n",
    "        # RBF Kernel               \n",
    "        model.kernel.kern0.variance_unconstrained.detach_()\n",
    "        model.kernel.kern0.lengthscale = pyro.nn.PyroSample(dist.LogNormal(0.0, 0.5))\n",
    "        # Periodic Kernel\n",
    "        model.kernel.kern1.variance_unconstrained.detach_()\n",
    "        model.kernel.kern1.lengthscale = pyro.nn.PyroSample(dist.LogNormal(-1, 0.5))\n",
    "        model.kernel.kern1.period = pyro.nn.PyroSample(dist.LogNormal(-1, 0.5))\n",
    "            \n",
    "    return model"
   ]
  },
  {
   "cell_type": "code",
   "execution_count": 95,
   "metadata": {},
   "outputs": [],
   "source": [
    "# training the model to find MAP-estimates\n",
    "\n",
    "def train_model(model, print_map = False):\n",
    "    optimizer = torch.optim.Adam(model.parameters(), lr=0.005)\n",
    "    loss_fn = pyro.infer.Trace_ELBO().differentiable_loss\n",
    "    losses = []\n",
    "    num_steps = 2000 \n",
    "    for i in range(num_steps):\n",
    "        optimizer.zero_grad()\n",
    "        loss = loss_fn(model.model, model.guide)\n",
    "        loss.backward()\n",
    "        optimizer.step()\n",
    "        losses.append(loss.item())\n",
    "\n",
    "    if print_map == True:\n",
    "        model.set_mode(\"guide\")\n",
    "        # MAP\n",
    "        # print(f\"Linear, Variance: {model.kernel.kern0.variance.item()}\\n\")\n",
    "\n",
    "        print(f\"RBF, Variance: {model.kernel.kern0.variance.item()}\")\n",
    "        print(f\"RBF, Lengthscale: {model.kernel.kern0.lengthscale.item()}\\n\")\n",
    "        print(f\"Periodic Kernel, Variance: {model.kernel.kern1.variance.item()}\")\n",
    "        print(f\"Periodic Kernel, Lengthscale: {model.kernel.kern1.lengthscale.item()}\\n\")\n",
    "        print(f\"Periodic Kernel, Period: {model.kernel.kern1.period.item()}\")\n",
    "        print(f\"Noise: {model.noise.item()}\")\n",
    "    \n",
    "    return model"
   ]
  },
  {
   "cell_type": "code",
   "execution_count": 96,
   "metadata": {},
   "outputs": [],
   "source": [
    "# plotting model predictions\n",
    "def plot_model(model, X_train, X_test, y_train, y_test):\n",
    "    plt.scatter(X_test, y_test, label = \"Test data\")\n",
    "    plt.scatter(X_train, y_train, label = \"Training data\")\n",
    "    x_space = np.linspace(0, 1, 300)\n",
    "    y_space = g(x_space)\n",
    "    plt.plot(x_space, y_space, label = \"G(x)\")\n",
    "    with torch.no_grad():\n",
    "        mean, var = model(X_test, noiseless = False) # a.k.a posterior predictive\n",
    "    plt.plot(X_test, mean, color=\"C3\", label = \"Predictions\")\n",
    "    plt.scatter(X_test, mean, color = \"C3\", s = 2, )\n",
    "    plt.fill_between(X_test, (mean + 1.95*var.sqrt()), (mean - 1.95*var.sqrt()), alpha = 0.1, color = \"C0\")\n",
    "    plt.legend()\n"
   ]
  },
  {
   "cell_type": "code",
   "execution_count": 97,
   "metadata": {},
   "outputs": [],
   "source": [
    "# calculate posterior likelihood on test data with trained model/MAP estimates\n",
    "def MAP_likelihood(model, X_test, y_test):\n",
    "    with torch.no_grad():\n",
    "        mean, cov = model(X_test, full_cov = True, noiseless = False)\n",
    "    return multivariate_normal.pdf(y_test, mean, cov)"
   ]
  },
  {
   "cell_type": "code",
   "execution_count": 98,
   "metadata": {},
   "outputs": [],
   "source": [
    "# train GP model using MCMC to allow sampling from posterior for parameters\n",
    "def MCMC(model, i = 0):\n",
    "    nuts_kernel = pyro.infer.NUTS(model.model, jit_compile=True)\n",
    "    mcmc = pyro.infer.MCMC(nuts_kernel, num_samples=250, num_chains=2, warmup_steps=100)\n",
    "    mcmc.run()\n",
    "\n",
    "    data = arviz.from_pyro(mcmc)\n",
    "    summary = arviz.summary(data)\n",
    "    print(summary)\n",
    "\n",
    "    arviz.plot_posterior(data)\n",
    "    plt.tight_layout()\n",
    "    plt.savefig(f\"./images/nuts_posterior_{i}.png\")\n",
    "    plt.close()\n",
    "    arviz.plot_trace(data)\n",
    "    plt.tight_layout()\n",
    "    plt.savefig(f\"./images/nuts_trace_{i}.png\")\n",
    "    plt.close()\n",
    "    samples = mcmc.get_samples()\n",
    "\n",
    "    return samples\n",
    "\n",
    "# calculate posterior likelihood of test data using samples from posterior on parameters\n",
    "def NUTS_likelihood(model, X_test, y_test, n_samples = 500, i = 0):\n",
    "    samples = MCMC(model, i)\n",
    "    plot_model(model, X_train, X_test, y_train, y_test)\n",
    "    plt.tight_layout()\n",
    "    plt.savefig(\"./images/nuts_predictions_\" + str(i) + \".png\")\n",
    "    plt.close()\n",
    "    posterior_predictive = []\n",
    "    \n",
    "    for i in range(n_samples):\n",
    "        pyro.clear_param_store()\n",
    "        fixed_model = gen_model(\n",
    "            priors = False,\n",
    "            lengthRBF=samples['kernel.kern0.lengthscale'][i], \n",
    "            lengthPer=samples['kernel.kern1.lengthscale'][i],\n",
    "            period=samples[\"kernel.kern1.period\"][i]\n",
    "            )\n",
    "\n",
    "        with torch.no_grad():\n",
    "            mean, cov = fixed_model(X_test, full_cov=True, noiseless = False)\n",
    "            posterior_predictive.append((mean, cov))\n",
    "            \n",
    "    likelihood = [multivariate_normal.pdf(y_test, mean, cov) for mean, cov in posterior_predictive]\n",
    "    likelihood = torch.mean(torch.tensor(likelihood))\n",
    "    \n",
    "    return likelihood"
   ]
  },
  {
   "cell_type": "code",
   "execution_count": 99,
   "metadata": {},
   "outputs": [
    {
     "data": {
      "application/vnd.jupyter.widget-view+json": {
       "model_id": "37ce7845c5aa4cabac49cced4cb2318a",
       "version_major": 2,
       "version_minor": 0
      },
      "text/plain": [
       "Warmup [1]:   0%|          | 0/350 [00:00, ?it/s]"
      ]
     },
     "metadata": {},
     "output_type": "display_data"
    },
    {
     "data": {
      "application/vnd.jupyter.widget-view+json": {
       "model_id": "ef8f1449444c4ee88b1360edbe82e070",
       "version_major": 2,
       "version_minor": 0
      },
      "text/plain": [
       "Warmup [2]:   0%|          | 0/350 [00:00, ?it/s]"
      ]
     },
     "metadata": {},
     "output_type": "display_data"
    },
    {
     "name": "stderr",
     "output_type": "stream",
     "text": [
      "/Users/lucaskrieger/Documents/NLP-Project/NLP-Assignment/.conda/lib/python3.10/site-packages/torch/__init__.py:614: UserWarning: torch.set_default_tensor_type() is deprecated as of PyTorch 2.1, please use torch.set_default_dtype() and torch.set_default_device() as alternatives. (Triggered internally at /Users/runner/work/pytorch/pytorch/pytorch/torch/csrc/tensor/python_tensor.cpp:453.)\n",
      "  _C._set_default_tensor_type(t)\n",
      "/Users/lucaskrieger/Documents/NLP-Project/NLP-Assignment/.conda/lib/python3.10/site-packages/torch/__init__.py:614: UserWarning: torch.set_default_tensor_type() is deprecated as of PyTorch 2.1, please use torch.set_default_dtype() and torch.set_default_device() as alternatives. (Triggered internally at /Users/runner/work/pytorch/pytorch/pytorch/torch/csrc/tensor/python_tensor.cpp:453.)\n",
      "  _C._set_default_tensor_type(t)\n",
      "/Users/lucaskrieger/Documents/NLP-Project/NLP-Assignment/.conda/lib/python3.10/site-packages/pyro/contrib/gp/kernels/isotropic.py:49: TracerWarning: Converting a tensor to a Python boolean might cause the trace to be incorrect. We can't record the data flow of Python values, so this value will be treated as a constant in the future. This means that the trace might not generalize to other inputs!\n",
      "  if X.size(1) != Z.size(1):\n",
      "/Users/lucaskrieger/Documents/NLP-Project/NLP-Assignment/.conda/lib/python3.10/site-packages/pyro/contrib/gp/kernels/isotropic.py:49: TracerWarning: Converting a tensor to a Python boolean might cause the trace to be incorrect. We can't record the data flow of Python values, so this value will be treated as a constant in the future. This means that the trace might not generalize to other inputs!\n",
      "  if X.size(1) != Z.size(1):\n",
      "/Users/lucaskrieger/Documents/NLP-Project/NLP-Assignment/.conda/lib/python3.10/site-packages/pyro/contrib/gp/kernels/periodic.py:73: TracerWarning: Converting a tensor to a Python boolean might cause the trace to be incorrect. We can't record the data flow of Python values, so this value will be treated as a constant in the future. This means that the trace might not generalize to other inputs!\n",
      "  if X.size(1) != Z.size(1):\n",
      "/Users/lucaskrieger/Documents/NLP-Project/NLP-Assignment/.conda/lib/python3.10/site-packages/pyro/contrib/gp/kernels/periodic.py:73: TracerWarning: Converting a tensor to a Python boolean might cause the trace to be incorrect. We can't record the data flow of Python values, so this value will be treated as a constant in the future. This means that the trace might not generalize to other inputs!\n",
      "  if X.size(1) != Z.size(1):\n",
      "/Users/lucaskrieger/Documents/NLP-Project/NLP-Assignment/.conda/lib/python3.10/site-packages/pyro/contrib/gp/kernels/isotropic.py:49: TracerWarning: Converting a tensor to a Python boolean might cause the trace to be incorrect. We can't record the data flow of Python values, so this value will be treated as a constant in the future. This means that the trace might not generalize to other inputs!\n",
      "  if X.size(1) != Z.size(1):\n",
      "/Users/lucaskrieger/Documents/NLP-Project/NLP-Assignment/.conda/lib/python3.10/site-packages/pyro/contrib/gp/kernels/periodic.py:73: TracerWarning: Converting a tensor to a Python boolean might cause the trace to be incorrect. We can't record the data flow of Python values, so this value will be treated as a constant in the future. This means that the trace might not generalize to other inputs!\n",
      "  if X.size(1) != Z.size(1):\n"
     ]
    },
    {
     "name": "stdout",
     "output_type": "stream",
     "text": [
      "                           mean     sd  hdi_3%  hdi_97%  mcse_mean  mcse_sd  \\\n",
      "kernel.kern0.lengthscale  0.680  0.240   0.309    1.096      0.022    0.016   \n",
      "kernel.kern1.lengthscale  0.939  0.311   0.433    1.542      0.066    0.047   \n",
      "kernel.kern1.period       0.376  0.101   0.300    0.656      0.055    0.043   \n",
      "\n",
      "                          ess_bulk  ess_tail  r_hat  \n",
      "kernel.kern0.lengthscale     116.0     167.0   1.01  \n",
      "kernel.kern1.lengthscale      15.0      59.0   1.10  \n",
      "kernel.kern1.period            6.0      37.0   1.33  \n"
     ]
    },
    {
     "data": {
      "application/vnd.jupyter.widget-view+json": {
       "model_id": "e586fcc452fb406f9b4e120584375f5f",
       "version_major": 2,
       "version_minor": 0
      },
      "text/plain": [
       "Warmup [1]:   0%|          | 0/350 [00:00, ?it/s]"
      ]
     },
     "metadata": {},
     "output_type": "display_data"
    },
    {
     "data": {
      "application/vnd.jupyter.widget-view+json": {
       "model_id": "7d9ffb42ba33475ab1645a014772c955",
       "version_major": 2,
       "version_minor": 0
      },
      "text/plain": [
       "Warmup [2]:   0%|          | 0/350 [00:00, ?it/s]"
      ]
     },
     "metadata": {},
     "output_type": "display_data"
    },
    {
     "name": "stderr",
     "output_type": "stream",
     "text": [
      "/Users/lucaskrieger/Documents/NLP-Project/NLP-Assignment/.conda/lib/python3.10/site-packages/torch/__init__.py:614: UserWarning: torch.set_default_tensor_type() is deprecated as of PyTorch 2.1, please use torch.set_default_dtype() and torch.set_default_device() as alternatives. (Triggered internally at /Users/runner/work/pytorch/pytorch/pytorch/torch/csrc/tensor/python_tensor.cpp:453.)\n",
      "  _C._set_default_tensor_type(t)\n",
      "/Users/lucaskrieger/Documents/NLP-Project/NLP-Assignment/.conda/lib/python3.10/site-packages/torch/__init__.py:614: UserWarning: torch.set_default_tensor_type() is deprecated as of PyTorch 2.1, please use torch.set_default_dtype() and torch.set_default_device() as alternatives. (Triggered internally at /Users/runner/work/pytorch/pytorch/pytorch/torch/csrc/tensor/python_tensor.cpp:453.)\n",
      "  _C._set_default_tensor_type(t)\n",
      "/Users/lucaskrieger/Documents/NLP-Project/NLP-Assignment/.conda/lib/python3.10/site-packages/pyro/contrib/gp/kernels/isotropic.py:49: TracerWarning: Converting a tensor to a Python boolean might cause the trace to be incorrect. We can't record the data flow of Python values, so this value will be treated as a constant in the future. This means that the trace might not generalize to other inputs!\n",
      "  if X.size(1) != Z.size(1):\n",
      "/Users/lucaskrieger/Documents/NLP-Project/NLP-Assignment/.conda/lib/python3.10/site-packages/pyro/contrib/gp/kernels/isotropic.py:49: TracerWarning: Converting a tensor to a Python boolean might cause the trace to be incorrect. We can't record the data flow of Python values, so this value will be treated as a constant in the future. This means that the trace might not generalize to other inputs!\n",
      "  if X.size(1) != Z.size(1):\n",
      "/Users/lucaskrieger/Documents/NLP-Project/NLP-Assignment/.conda/lib/python3.10/site-packages/pyro/contrib/gp/kernels/periodic.py:73: TracerWarning: Converting a tensor to a Python boolean might cause the trace to be incorrect. We can't record the data flow of Python values, so this value will be treated as a constant in the future. This means that the trace might not generalize to other inputs!\n",
      "  if X.size(1) != Z.size(1):\n",
      "/Users/lucaskrieger/Documents/NLP-Project/NLP-Assignment/.conda/lib/python3.10/site-packages/pyro/contrib/gp/kernels/periodic.py:73: TracerWarning: Converting a tensor to a Python boolean might cause the trace to be incorrect. We can't record the data flow of Python values, so this value will be treated as a constant in the future. This means that the trace might not generalize to other inputs!\n",
      "  if X.size(1) != Z.size(1):\n",
      "/Users/lucaskrieger/Documents/NLP-Project/NLP-Assignment/.conda/lib/python3.10/site-packages/pyro/contrib/gp/kernels/isotropic.py:49: TracerWarning: Converting a tensor to a Python boolean might cause the trace to be incorrect. We can't record the data flow of Python values, so this value will be treated as a constant in the future. This means that the trace might not generalize to other inputs!\n",
      "  if X.size(1) != Z.size(1):\n",
      "/Users/lucaskrieger/Documents/NLP-Project/NLP-Assignment/.conda/lib/python3.10/site-packages/pyro/contrib/gp/kernels/periodic.py:73: TracerWarning: Converting a tensor to a Python boolean might cause the trace to be incorrect. We can't record the data flow of Python values, so this value will be treated as a constant in the future. This means that the trace might not generalize to other inputs!\n",
      "  if X.size(1) != Z.size(1):\n"
     ]
    },
    {
     "name": "stdout",
     "output_type": "stream",
     "text": [
      "                           mean     sd  hdi_3%  hdi_97%  mcse_mean  mcse_sd  \\\n",
      "kernel.kern0.lengthscale  0.655  0.201   0.312    0.991      0.012    0.008   \n",
      "kernel.kern1.lengthscale  0.954  0.284   0.441    1.484      0.015    0.011   \n",
      "kernel.kern1.period       0.337  0.009   0.320    0.353      0.000    0.000   \n",
      "\n",
      "                          ess_bulk  ess_tail  r_hat  \n",
      "kernel.kern0.lengthscale     276.0     317.0   1.00  \n",
      "kernel.kern1.lengthscale     365.0     314.0   1.00  \n",
      "kernel.kern1.period          410.0     282.0   1.01  \n"
     ]
    },
    {
     "data": {
      "application/vnd.jupyter.widget-view+json": {
       "model_id": "c13d9db89b7e4688b92badadc1f8a8eb",
       "version_major": 2,
       "version_minor": 0
      },
      "text/plain": [
       "Warmup [1]:   0%|          | 0/350 [00:00, ?it/s]"
      ]
     },
     "metadata": {},
     "output_type": "display_data"
    },
    {
     "data": {
      "application/vnd.jupyter.widget-view+json": {
       "model_id": "2e313c5cb5d04e95829954aa0ed43bae",
       "version_major": 2,
       "version_minor": 0
      },
      "text/plain": [
       "Warmup [2]:   0%|          | 0/350 [00:00, ?it/s]"
      ]
     },
     "metadata": {},
     "output_type": "display_data"
    },
    {
     "name": "stderr",
     "output_type": "stream",
     "text": [
      "/Users/lucaskrieger/Documents/NLP-Project/NLP-Assignment/.conda/lib/python3.10/site-packages/torch/__init__.py:614: UserWarning: torch.set_default_tensor_type() is deprecated as of PyTorch 2.1, please use torch.set_default_dtype() and torch.set_default_device() as alternatives. (Triggered internally at /Users/runner/work/pytorch/pytorch/pytorch/torch/csrc/tensor/python_tensor.cpp:453.)\n",
      "  _C._set_default_tensor_type(t)\n",
      "/Users/lucaskrieger/Documents/NLP-Project/NLP-Assignment/.conda/lib/python3.10/site-packages/torch/__init__.py:614: UserWarning: torch.set_default_tensor_type() is deprecated as of PyTorch 2.1, please use torch.set_default_dtype() and torch.set_default_device() as alternatives. (Triggered internally at /Users/runner/work/pytorch/pytorch/pytorch/torch/csrc/tensor/python_tensor.cpp:453.)\n",
      "  _C._set_default_tensor_type(t)\n",
      "/Users/lucaskrieger/Documents/NLP-Project/NLP-Assignment/.conda/lib/python3.10/site-packages/pyro/contrib/gp/kernels/isotropic.py:49: TracerWarning: Converting a tensor to a Python boolean might cause the trace to be incorrect. We can't record the data flow of Python values, so this value will be treated as a constant in the future. This means that the trace might not generalize to other inputs!\n",
      "  if X.size(1) != Z.size(1):\n",
      "/Users/lucaskrieger/Documents/NLP-Project/NLP-Assignment/.conda/lib/python3.10/site-packages/pyro/contrib/gp/kernels/periodic.py:73: TracerWarning: Converting a tensor to a Python boolean might cause the trace to be incorrect. We can't record the data flow of Python values, so this value will be treated as a constant in the future. This means that the trace might not generalize to other inputs!\n",
      "  if X.size(1) != Z.size(1):\n",
      "/Users/lucaskrieger/Documents/NLP-Project/NLP-Assignment/.conda/lib/python3.10/site-packages/pyro/contrib/gp/kernels/isotropic.py:49: TracerWarning: Converting a tensor to a Python boolean might cause the trace to be incorrect. We can't record the data flow of Python values, so this value will be treated as a constant in the future. This means that the trace might not generalize to other inputs!\n",
      "  if X.size(1) != Z.size(1):\n",
      "/Users/lucaskrieger/Documents/NLP-Project/NLP-Assignment/.conda/lib/python3.10/site-packages/pyro/contrib/gp/kernels/periodic.py:73: TracerWarning: Converting a tensor to a Python boolean might cause the trace to be incorrect. We can't record the data flow of Python values, so this value will be treated as a constant in the future. This means that the trace might not generalize to other inputs!\n",
      "  if X.size(1) != Z.size(1):\n",
      "/Users/lucaskrieger/Documents/NLP-Project/NLP-Assignment/.conda/lib/python3.10/site-packages/pyro/contrib/gp/kernels/isotropic.py:49: TracerWarning: Converting a tensor to a Python boolean might cause the trace to be incorrect. We can't record the data flow of Python values, so this value will be treated as a constant in the future. This means that the trace might not generalize to other inputs!\n",
      "  if X.size(1) != Z.size(1):\n",
      "/Users/lucaskrieger/Documents/NLP-Project/NLP-Assignment/.conda/lib/python3.10/site-packages/pyro/contrib/gp/kernels/periodic.py:73: TracerWarning: Converting a tensor to a Python boolean might cause the trace to be incorrect. We can't record the data flow of Python values, so this value will be treated as a constant in the future. This means that the trace might not generalize to other inputs!\n",
      "  if X.size(1) != Z.size(1):\n"
     ]
    },
    {
     "name": "stdout",
     "output_type": "stream",
     "text": [
      "                           mean     sd  hdi_3%  hdi_97%  mcse_mean  mcse_sd  \\\n",
      "kernel.kern0.lengthscale  0.604  0.199   0.321    0.977      0.010    0.007   \n",
      "kernel.kern1.lengthscale  0.826  0.288   0.386    1.445      0.113    0.084   \n",
      "kernel.kern1.period       0.415  0.082   0.322    0.521      0.057    0.047   \n",
      "\n",
      "                          ess_bulk  ess_tail  r_hat  \n",
      "kernel.kern0.lengthscale     506.0     439.0   1.01  \n",
      "kernel.kern1.lengthscale       6.0      69.0   1.29  \n",
      "kernel.kern1.period            3.0     159.0   1.84  \n"
     ]
    },
    {
     "data": {
      "application/vnd.jupyter.widget-view+json": {
       "model_id": "c7c921a877384277ac3a21d989251a89",
       "version_major": 2,
       "version_minor": 0
      },
      "text/plain": [
       "Warmup [1]:   0%|          | 0/350 [00:00, ?it/s]"
      ]
     },
     "metadata": {},
     "output_type": "display_data"
    },
    {
     "data": {
      "application/vnd.jupyter.widget-view+json": {
       "model_id": "41d434b1a37546758944df8caa204bd7",
       "version_major": 2,
       "version_minor": 0
      },
      "text/plain": [
       "Warmup [2]:   0%|          | 0/350 [00:00, ?it/s]"
      ]
     },
     "metadata": {},
     "output_type": "display_data"
    },
    {
     "name": "stderr",
     "output_type": "stream",
     "text": [
      "/Users/lucaskrieger/Documents/NLP-Project/NLP-Assignment/.conda/lib/python3.10/site-packages/torch/__init__.py:614: UserWarning: torch.set_default_tensor_type() is deprecated as of PyTorch 2.1, please use torch.set_default_dtype() and torch.set_default_device() as alternatives. (Triggered internally at /Users/runner/work/pytorch/pytorch/pytorch/torch/csrc/tensor/python_tensor.cpp:453.)\n",
      "  _C._set_default_tensor_type(t)\n",
      "/Users/lucaskrieger/Documents/NLP-Project/NLP-Assignment/.conda/lib/python3.10/site-packages/torch/__init__.py:614: UserWarning: torch.set_default_tensor_type() is deprecated as of PyTorch 2.1, please use torch.set_default_dtype() and torch.set_default_device() as alternatives. (Triggered internally at /Users/runner/work/pytorch/pytorch/pytorch/torch/csrc/tensor/python_tensor.cpp:453.)\n",
      "  _C._set_default_tensor_type(t)\n",
      "/Users/lucaskrieger/Documents/NLP-Project/NLP-Assignment/.conda/lib/python3.10/site-packages/pyro/contrib/gp/kernels/isotropic.py:49: TracerWarning: Converting a tensor to a Python boolean might cause the trace to be incorrect. We can't record the data flow of Python values, so this value will be treated as a constant in the future. This means that the trace might not generalize to other inputs!\n",
      "  if X.size(1) != Z.size(1):\n",
      "/Users/lucaskrieger/Documents/NLP-Project/NLP-Assignment/.conda/lib/python3.10/site-packages/pyro/contrib/gp/kernels/periodic.py:73: TracerWarning: Converting a tensor to a Python boolean might cause the trace to be incorrect. We can't record the data flow of Python values, so this value will be treated as a constant in the future. This means that the trace might not generalize to other inputs!\n",
      "  if X.size(1) != Z.size(1):\n",
      "/Users/lucaskrieger/Documents/NLP-Project/NLP-Assignment/.conda/lib/python3.10/site-packages/pyro/contrib/gp/kernels/isotropic.py:49: TracerWarning: Converting a tensor to a Python boolean might cause the trace to be incorrect. We can't record the data flow of Python values, so this value will be treated as a constant in the future. This means that the trace might not generalize to other inputs!\n",
      "  if X.size(1) != Z.size(1):\n",
      "/Users/lucaskrieger/Documents/NLP-Project/NLP-Assignment/.conda/lib/python3.10/site-packages/pyro/contrib/gp/kernels/periodic.py:73: TracerWarning: Converting a tensor to a Python boolean might cause the trace to be incorrect. We can't record the data flow of Python values, so this value will be treated as a constant in the future. This means that the trace might not generalize to other inputs!\n",
      "  if X.size(1) != Z.size(1):\n",
      "/Users/lucaskrieger/Documents/NLP-Project/NLP-Assignment/.conda/lib/python3.10/site-packages/pyro/contrib/gp/kernels/isotropic.py:49: TracerWarning: Converting a tensor to a Python boolean might cause the trace to be incorrect. We can't record the data flow of Python values, so this value will be treated as a constant in the future. This means that the trace might not generalize to other inputs!\n",
      "  if X.size(1) != Z.size(1):\n",
      "/Users/lucaskrieger/Documents/NLP-Project/NLP-Assignment/.conda/lib/python3.10/site-packages/pyro/contrib/gp/kernels/periodic.py:73: TracerWarning: Converting a tensor to a Python boolean might cause the trace to be incorrect. We can't record the data flow of Python values, so this value will be treated as a constant in the future. This means that the trace might not generalize to other inputs!\n",
      "  if X.size(1) != Z.size(1):\n"
     ]
    },
    {
     "name": "stdout",
     "output_type": "stream",
     "text": [
      "                           mean     sd  hdi_3%  hdi_97%  mcse_mean  mcse_sd  \\\n",
      "kernel.kern0.lengthscale  0.592  0.172   0.327    0.931      0.010    0.007   \n",
      "kernel.kern1.lengthscale  0.985  0.276   0.483    1.487      0.014    0.010   \n",
      "kernel.kern1.period       0.338  0.009   0.323    0.358      0.001    0.000   \n",
      "\n",
      "                          ess_bulk  ess_tail  r_hat  \n",
      "kernel.kern0.lengthscale     330.0     236.0   1.01  \n",
      "kernel.kern1.lengthscale     384.0     275.0   1.00  \n",
      "kernel.kern1.period          316.0     223.0   1.01  \n"
     ]
    },
    {
     "data": {
      "application/vnd.jupyter.widget-view+json": {
       "model_id": "35834b4b926e4c0d8ab960c8dcf92408",
       "version_major": 2,
       "version_minor": 0
      },
      "text/plain": [
       "Warmup [1]:   0%|          | 0/350 [00:00, ?it/s]"
      ]
     },
     "metadata": {},
     "output_type": "display_data"
    },
    {
     "data": {
      "application/vnd.jupyter.widget-view+json": {
       "model_id": "270cf049f32343c5a4ef7aa7fd89533b",
       "version_major": 2,
       "version_minor": 0
      },
      "text/plain": [
       "Warmup [2]:   0%|          | 0/350 [00:00, ?it/s]"
      ]
     },
     "metadata": {},
     "output_type": "display_data"
    },
    {
     "name": "stderr",
     "output_type": "stream",
     "text": [
      "/Users/lucaskrieger/Documents/NLP-Project/NLP-Assignment/.conda/lib/python3.10/site-packages/torch/__init__.py:614: UserWarning: torch.set_default_tensor_type() is deprecated as of PyTorch 2.1, please use torch.set_default_dtype() and torch.set_default_device() as alternatives. (Triggered internally at /Users/runner/work/pytorch/pytorch/pytorch/torch/csrc/tensor/python_tensor.cpp:453.)\n",
      "  _C._set_default_tensor_type(t)\n",
      "/Users/lucaskrieger/Documents/NLP-Project/NLP-Assignment/.conda/lib/python3.10/site-packages/pyro/contrib/gp/kernels/isotropic.py:49: TracerWarning: Converting a tensor to a Python boolean might cause the trace to be incorrect. We can't record the data flow of Python values, so this value will be treated as a constant in the future. This means that the trace might not generalize to other inputs!\n",
      "  if X.size(1) != Z.size(1):\n",
      "/Users/lucaskrieger/Documents/NLP-Project/NLP-Assignment/.conda/lib/python3.10/site-packages/torch/__init__.py:614: UserWarning: torch.set_default_tensor_type() is deprecated as of PyTorch 2.1, please use torch.set_default_dtype() and torch.set_default_device() as alternatives. (Triggered internally at /Users/runner/work/pytorch/pytorch/pytorch/torch/csrc/tensor/python_tensor.cpp:453.)\n",
      "  _C._set_default_tensor_type(t)\n",
      "/Users/lucaskrieger/Documents/NLP-Project/NLP-Assignment/.conda/lib/python3.10/site-packages/pyro/contrib/gp/kernels/periodic.py:73: TracerWarning: Converting a tensor to a Python boolean might cause the trace to be incorrect. We can't record the data flow of Python values, so this value will be treated as a constant in the future. This means that the trace might not generalize to other inputs!\n",
      "  if X.size(1) != Z.size(1):\n",
      "/Users/lucaskrieger/Documents/NLP-Project/NLP-Assignment/.conda/lib/python3.10/site-packages/pyro/contrib/gp/kernels/isotropic.py:49: TracerWarning: Converting a tensor to a Python boolean might cause the trace to be incorrect. We can't record the data flow of Python values, so this value will be treated as a constant in the future. This means that the trace might not generalize to other inputs!\n",
      "  if X.size(1) != Z.size(1):\n",
      "/Users/lucaskrieger/Documents/NLP-Project/NLP-Assignment/.conda/lib/python3.10/site-packages/pyro/contrib/gp/kernels/periodic.py:73: TracerWarning: Converting a tensor to a Python boolean might cause the trace to be incorrect. We can't record the data flow of Python values, so this value will be treated as a constant in the future. This means that the trace might not generalize to other inputs!\n",
      "  if X.size(1) != Z.size(1):\n",
      "/Users/lucaskrieger/Documents/NLP-Project/NLP-Assignment/.conda/lib/python3.10/site-packages/pyro/contrib/gp/kernels/isotropic.py:49: TracerWarning: Converting a tensor to a Python boolean might cause the trace to be incorrect. We can't record the data flow of Python values, so this value will be treated as a constant in the future. This means that the trace might not generalize to other inputs!\n",
      "  if X.size(1) != Z.size(1):\n",
      "/Users/lucaskrieger/Documents/NLP-Project/NLP-Assignment/.conda/lib/python3.10/site-packages/pyro/contrib/gp/kernels/periodic.py:73: TracerWarning: Converting a tensor to a Python boolean might cause the trace to be incorrect. We can't record the data flow of Python values, so this value will be treated as a constant in the future. This means that the trace might not generalize to other inputs!\n",
      "  if X.size(1) != Z.size(1):\n"
     ]
    },
    {
     "name": "stdout",
     "output_type": "stream",
     "text": [
      "                           mean     sd  hdi_3%  hdi_97%  mcse_mean  mcse_sd  \\\n",
      "kernel.kern0.lengthscale  0.622  0.189   0.329    0.960      0.013    0.009   \n",
      "kernel.kern1.lengthscale  0.981  0.380   0.318    1.640      0.033    0.024   \n",
      "kernel.kern1.period       0.316  0.058   0.166    0.356      0.022    0.016   \n",
      "\n",
      "                          ess_bulk  ess_tail  r_hat  \n",
      "kernel.kern0.lengthscale     231.0     254.0   1.01  \n",
      "kernel.kern1.lengthscale     116.0      80.0   1.01  \n",
      "kernel.kern1.period           16.0      12.0   1.09  \n"
     ]
    },
    {
     "data": {
      "application/vnd.jupyter.widget-view+json": {
       "model_id": "8e9beb2413844892b1c0529040ba165e",
       "version_major": 2,
       "version_minor": 0
      },
      "text/plain": [
       "Warmup [1]:   0%|          | 0/350 [00:00, ?it/s]"
      ]
     },
     "metadata": {},
     "output_type": "display_data"
    },
    {
     "data": {
      "application/vnd.jupyter.widget-view+json": {
       "model_id": "f84a6a6e50524b619517fc234de66bce",
       "version_major": 2,
       "version_minor": 0
      },
      "text/plain": [
       "Warmup [2]:   0%|          | 0/350 [00:00, ?it/s]"
      ]
     },
     "metadata": {},
     "output_type": "display_data"
    },
    {
     "name": "stderr",
     "output_type": "stream",
     "text": [
      "/Users/lucaskrieger/Documents/NLP-Project/NLP-Assignment/.conda/lib/python3.10/site-packages/torch/__init__.py:614: UserWarning: torch.set_default_tensor_type() is deprecated as of PyTorch 2.1, please use torch.set_default_dtype() and torch.set_default_device() as alternatives. (Triggered internally at /Users/runner/work/pytorch/pytorch/pytorch/torch/csrc/tensor/python_tensor.cpp:453.)\n",
      "  _C._set_default_tensor_type(t)\n",
      "/Users/lucaskrieger/Documents/NLP-Project/NLP-Assignment/.conda/lib/python3.10/site-packages/torch/__init__.py:614: UserWarning: torch.set_default_tensor_type() is deprecated as of PyTorch 2.1, please use torch.set_default_dtype() and torch.set_default_device() as alternatives. (Triggered internally at /Users/runner/work/pytorch/pytorch/pytorch/torch/csrc/tensor/python_tensor.cpp:453.)\n",
      "  _C._set_default_tensor_type(t)\n",
      "/Users/lucaskrieger/Documents/NLP-Project/NLP-Assignment/.conda/lib/python3.10/site-packages/pyro/contrib/gp/kernels/isotropic.py:49: TracerWarning: Converting a tensor to a Python boolean might cause the trace to be incorrect. We can't record the data flow of Python values, so this value will be treated as a constant in the future. This means that the trace might not generalize to other inputs!\n",
      "  if X.size(1) != Z.size(1):\n",
      "/Users/lucaskrieger/Documents/NLP-Project/NLP-Assignment/.conda/lib/python3.10/site-packages/pyro/contrib/gp/kernels/isotropic.py:49: TracerWarning: Converting a tensor to a Python boolean might cause the trace to be incorrect. We can't record the data flow of Python values, so this value will be treated as a constant in the future. This means that the trace might not generalize to other inputs!\n",
      "  if X.size(1) != Z.size(1):\n",
      "/Users/lucaskrieger/Documents/NLP-Project/NLP-Assignment/.conda/lib/python3.10/site-packages/pyro/contrib/gp/kernels/periodic.py:73: TracerWarning: Converting a tensor to a Python boolean might cause the trace to be incorrect. We can't record the data flow of Python values, so this value will be treated as a constant in the future. This means that the trace might not generalize to other inputs!\n",
      "  if X.size(1) != Z.size(1):\n",
      "/Users/lucaskrieger/Documents/NLP-Project/NLP-Assignment/.conda/lib/python3.10/site-packages/pyro/contrib/gp/kernels/periodic.py:73: TracerWarning: Converting a tensor to a Python boolean might cause the trace to be incorrect. We can't record the data flow of Python values, so this value will be treated as a constant in the future. This means that the trace might not generalize to other inputs!\n",
      "  if X.size(1) != Z.size(1):\n",
      "/Users/lucaskrieger/Documents/NLP-Project/NLP-Assignment/.conda/lib/python3.10/site-packages/pyro/contrib/gp/kernels/isotropic.py:49: TracerWarning: Converting a tensor to a Python boolean might cause the trace to be incorrect. We can't record the data flow of Python values, so this value will be treated as a constant in the future. This means that the trace might not generalize to other inputs!\n",
      "  if X.size(1) != Z.size(1):\n",
      "/Users/lucaskrieger/Documents/NLP-Project/NLP-Assignment/.conda/lib/python3.10/site-packages/pyro/contrib/gp/kernels/periodic.py:73: TracerWarning: Converting a tensor to a Python boolean might cause the trace to be incorrect. We can't record the data flow of Python values, so this value will be treated as a constant in the future. This means that the trace might not generalize to other inputs!\n",
      "  if X.size(1) != Z.size(1):\n"
     ]
    },
    {
     "name": "stdout",
     "output_type": "stream",
     "text": [
      "                           mean     sd  hdi_3%  hdi_97%  mcse_mean  mcse_sd  \\\n",
      "kernel.kern0.lengthscale  0.793  0.434   0.266    1.493      0.081    0.058   \n",
      "kernel.kern1.lengthscale  0.781  0.295   0.283    1.295      0.113    0.084   \n",
      "kernel.kern1.period       0.584  0.352   0.318    1.185      0.184    0.142   \n",
      "\n",
      "                          ess_bulk  ess_tail  r_hat  \n",
      "kernel.kern0.lengthscale      36.0     130.0   1.04  \n",
      "kernel.kern1.lengthscale       6.0     103.0   1.24  \n",
      "kernel.kern1.period            3.0      77.0   1.83  \n"
     ]
    },
    {
     "data": {
      "application/vnd.jupyter.widget-view+json": {
       "model_id": "45c557c1652349a7b891dec6af6c361c",
       "version_major": 2,
       "version_minor": 0
      },
      "text/plain": [
       "Warmup [1]:   0%|          | 0/350 [00:00, ?it/s]"
      ]
     },
     "metadata": {},
     "output_type": "display_data"
    },
    {
     "data": {
      "application/vnd.jupyter.widget-view+json": {
       "model_id": "f88ac131319d485d823e6009c83052e2",
       "version_major": 2,
       "version_minor": 0
      },
      "text/plain": [
       "Warmup [2]:   0%|          | 0/350 [00:00, ?it/s]"
      ]
     },
     "metadata": {},
     "output_type": "display_data"
    },
    {
     "name": "stderr",
     "output_type": "stream",
     "text": [
      "/Users/lucaskrieger/Documents/NLP-Project/NLP-Assignment/.conda/lib/python3.10/site-packages/torch/__init__.py:614: UserWarning: torch.set_default_tensor_type() is deprecated as of PyTorch 2.1, please use torch.set_default_dtype() and torch.set_default_device() as alternatives. (Triggered internally at /Users/runner/work/pytorch/pytorch/pytorch/torch/csrc/tensor/python_tensor.cpp:453.)\n",
      "  _C._set_default_tensor_type(t)\n",
      "/Users/lucaskrieger/Documents/NLP-Project/NLP-Assignment/.conda/lib/python3.10/site-packages/torch/__init__.py:614: UserWarning: torch.set_default_tensor_type() is deprecated as of PyTorch 2.1, please use torch.set_default_dtype() and torch.set_default_device() as alternatives. (Triggered internally at /Users/runner/work/pytorch/pytorch/pytorch/torch/csrc/tensor/python_tensor.cpp:453.)\n",
      "  _C._set_default_tensor_type(t)\n",
      "/Users/lucaskrieger/Documents/NLP-Project/NLP-Assignment/.conda/lib/python3.10/site-packages/pyro/contrib/gp/kernels/isotropic.py:49: TracerWarning: Converting a tensor to a Python boolean might cause the trace to be incorrect. We can't record the data flow of Python values, so this value will be treated as a constant in the future. This means that the trace might not generalize to other inputs!\n",
      "  if X.size(1) != Z.size(1):\n",
      "/Users/lucaskrieger/Documents/NLP-Project/NLP-Assignment/.conda/lib/python3.10/site-packages/pyro/contrib/gp/kernels/periodic.py:73: TracerWarning: Converting a tensor to a Python boolean might cause the trace to be incorrect. We can't record the data flow of Python values, so this value will be treated as a constant in the future. This means that the trace might not generalize to other inputs!\n",
      "  if X.size(1) != Z.size(1):\n",
      "/Users/lucaskrieger/Documents/NLP-Project/NLP-Assignment/.conda/lib/python3.10/site-packages/pyro/contrib/gp/kernels/isotropic.py:49: TracerWarning: Converting a tensor to a Python boolean might cause the trace to be incorrect. We can't record the data flow of Python values, so this value will be treated as a constant in the future. This means that the trace might not generalize to other inputs!\n",
      "  if X.size(1) != Z.size(1):\n",
      "/Users/lucaskrieger/Documents/NLP-Project/NLP-Assignment/.conda/lib/python3.10/site-packages/pyro/contrib/gp/kernels/periodic.py:73: TracerWarning: Converting a tensor to a Python boolean might cause the trace to be incorrect. We can't record the data flow of Python values, so this value will be treated as a constant in the future. This means that the trace might not generalize to other inputs!\n",
      "  if X.size(1) != Z.size(1):\n",
      "/Users/lucaskrieger/Documents/NLP-Project/NLP-Assignment/.conda/lib/python3.10/site-packages/pyro/contrib/gp/kernels/isotropic.py:49: TracerWarning: Converting a tensor to a Python boolean might cause the trace to be incorrect. We can't record the data flow of Python values, so this value will be treated as a constant in the future. This means that the trace might not generalize to other inputs!\n",
      "  if X.size(1) != Z.size(1):\n",
      "/Users/lucaskrieger/Documents/NLP-Project/NLP-Assignment/.conda/lib/python3.10/site-packages/pyro/contrib/gp/kernels/periodic.py:73: TracerWarning: Converting a tensor to a Python boolean might cause the trace to be incorrect. We can't record the data flow of Python values, so this value will be treated as a constant in the future. This means that the trace might not generalize to other inputs!\n",
      "  if X.size(1) != Z.size(1):\n"
     ]
    },
    {
     "name": "stdout",
     "output_type": "stream",
     "text": [
      "                           mean     sd  hdi_3%  hdi_97%  mcse_mean  mcse_sd  \\\n",
      "kernel.kern0.lengthscale  0.597  0.188   0.256    0.916      0.010    0.007   \n",
      "kernel.kern1.lengthscale  0.986  0.298   0.445    1.497      0.015    0.010   \n",
      "kernel.kern1.period       0.337  0.011   0.321    0.363      0.001    0.000   \n",
      "\n",
      "                          ess_bulk  ess_tail  r_hat  \n",
      "kernel.kern0.lengthscale     380.0     315.0   1.01  \n",
      "kernel.kern1.lengthscale     378.0     320.0   1.01  \n",
      "kernel.kern1.period          375.0     269.0   1.01  \n"
     ]
    },
    {
     "data": {
      "application/vnd.jupyter.widget-view+json": {
       "model_id": "a42c2b17736c4d30af463c1f0b00f8cb",
       "version_major": 2,
       "version_minor": 0
      },
      "text/plain": [
       "Warmup [1]:   0%|          | 0/350 [00:00, ?it/s]"
      ]
     },
     "metadata": {},
     "output_type": "display_data"
    },
    {
     "data": {
      "application/vnd.jupyter.widget-view+json": {
       "model_id": "52eda6a99c6242c291abc1bea7b36e16",
       "version_major": 2,
       "version_minor": 0
      },
      "text/plain": [
       "Warmup [2]:   0%|          | 0/350 [00:00, ?it/s]"
      ]
     },
     "metadata": {},
     "output_type": "display_data"
    },
    {
     "name": "stderr",
     "output_type": "stream",
     "text": [
      "/Users/lucaskrieger/Documents/NLP-Project/NLP-Assignment/.conda/lib/python3.10/site-packages/torch/__init__.py:614: UserWarning: torch.set_default_tensor_type() is deprecated as of PyTorch 2.1, please use torch.set_default_dtype() and torch.set_default_device() as alternatives. (Triggered internally at /Users/runner/work/pytorch/pytorch/pytorch/torch/csrc/tensor/python_tensor.cpp:453.)\n",
      "  _C._set_default_tensor_type(t)\n",
      "/Users/lucaskrieger/Documents/NLP-Project/NLP-Assignment/.conda/lib/python3.10/site-packages/pyro/contrib/gp/kernels/isotropic.py:49: TracerWarning: Converting a tensor to a Python boolean might cause the trace to be incorrect. We can't record the data flow of Python values, so this value will be treated as a constant in the future. This means that the trace might not generalize to other inputs!\n",
      "  if X.size(1) != Z.size(1):\n",
      "/Users/lucaskrieger/Documents/NLP-Project/NLP-Assignment/.conda/lib/python3.10/site-packages/torch/__init__.py:614: UserWarning: torch.set_default_tensor_type() is deprecated as of PyTorch 2.1, please use torch.set_default_dtype() and torch.set_default_device() as alternatives. (Triggered internally at /Users/runner/work/pytorch/pytorch/pytorch/torch/csrc/tensor/python_tensor.cpp:453.)\n",
      "  _C._set_default_tensor_type(t)\n",
      "/Users/lucaskrieger/Documents/NLP-Project/NLP-Assignment/.conda/lib/python3.10/site-packages/pyro/contrib/gp/kernels/periodic.py:73: TracerWarning: Converting a tensor to a Python boolean might cause the trace to be incorrect. We can't record the data flow of Python values, so this value will be treated as a constant in the future. This means that the trace might not generalize to other inputs!\n",
      "  if X.size(1) != Z.size(1):\n",
      "/Users/lucaskrieger/Documents/NLP-Project/NLP-Assignment/.conda/lib/python3.10/site-packages/pyro/contrib/gp/kernels/isotropic.py:49: TracerWarning: Converting a tensor to a Python boolean might cause the trace to be incorrect. We can't record the data flow of Python values, so this value will be treated as a constant in the future. This means that the trace might not generalize to other inputs!\n",
      "  if X.size(1) != Z.size(1):\n",
      "/Users/lucaskrieger/Documents/NLP-Project/NLP-Assignment/.conda/lib/python3.10/site-packages/pyro/contrib/gp/kernels/periodic.py:73: TracerWarning: Converting a tensor to a Python boolean might cause the trace to be incorrect. We can't record the data flow of Python values, so this value will be treated as a constant in the future. This means that the trace might not generalize to other inputs!\n",
      "  if X.size(1) != Z.size(1):\n",
      "/Users/lucaskrieger/Documents/NLP-Project/NLP-Assignment/.conda/lib/python3.10/site-packages/pyro/contrib/gp/kernels/isotropic.py:49: TracerWarning: Converting a tensor to a Python boolean might cause the trace to be incorrect. We can't record the data flow of Python values, so this value will be treated as a constant in the future. This means that the trace might not generalize to other inputs!\n",
      "  if X.size(1) != Z.size(1):\n",
      "/Users/lucaskrieger/Documents/NLP-Project/NLP-Assignment/.conda/lib/python3.10/site-packages/pyro/contrib/gp/kernels/periodic.py:73: TracerWarning: Converting a tensor to a Python boolean might cause the trace to be incorrect. We can't record the data flow of Python values, so this value will be treated as a constant in the future. This means that the trace might not generalize to other inputs!\n",
      "  if X.size(1) != Z.size(1):\n"
     ]
    },
    {
     "name": "stdout",
     "output_type": "stream",
     "text": [
      "                           mean     sd  hdi_3%  hdi_97%  mcse_mean  mcse_sd  \\\n",
      "kernel.kern0.lengthscale  0.656  0.207   0.324    1.045      0.012    0.009   \n",
      "kernel.kern1.lengthscale  0.836  0.250   0.424    1.343      0.086    0.063   \n",
      "kernel.kern1.period       0.421  0.086   0.321    0.527      0.059    0.050   \n",
      "\n",
      "                          ess_bulk  ess_tail  r_hat  \n",
      "kernel.kern0.lengthscale     304.0     235.0   1.01  \n",
      "kernel.kern1.lengthscale      10.0     131.0   1.16  \n",
      "kernel.kern1.period            3.0     144.0   1.83  \n"
     ]
    },
    {
     "data": {
      "application/vnd.jupyter.widget-view+json": {
       "model_id": "2cc4e929edbf4791ab5eb122171cc229",
       "version_major": 2,
       "version_minor": 0
      },
      "text/plain": [
       "Warmup [1]:   0%|          | 0/350 [00:00, ?it/s]"
      ]
     },
     "metadata": {},
     "output_type": "display_data"
    },
    {
     "data": {
      "application/vnd.jupyter.widget-view+json": {
       "model_id": "9e10f757dabe486ba4c9a565d5923a31",
       "version_major": 2,
       "version_minor": 0
      },
      "text/plain": [
       "Warmup [2]:   0%|          | 0/350 [00:00, ?it/s]"
      ]
     },
     "metadata": {},
     "output_type": "display_data"
    },
    {
     "name": "stderr",
     "output_type": "stream",
     "text": [
      "/Users/lucaskrieger/Documents/NLP-Project/NLP-Assignment/.conda/lib/python3.10/site-packages/torch/__init__.py:614: UserWarning: torch.set_default_tensor_type() is deprecated as of PyTorch 2.1, please use torch.set_default_dtype() and torch.set_default_device() as alternatives. (Triggered internally at /Users/runner/work/pytorch/pytorch/pytorch/torch/csrc/tensor/python_tensor.cpp:453.)\n",
      "  _C._set_default_tensor_type(t)\n",
      "/Users/lucaskrieger/Documents/NLP-Project/NLP-Assignment/.conda/lib/python3.10/site-packages/torch/__init__.py:614: UserWarning: torch.set_default_tensor_type() is deprecated as of PyTorch 2.1, please use torch.set_default_dtype() and torch.set_default_device() as alternatives. (Triggered internally at /Users/runner/work/pytorch/pytorch/pytorch/torch/csrc/tensor/python_tensor.cpp:453.)\n",
      "  _C._set_default_tensor_type(t)\n",
      "/Users/lucaskrieger/Documents/NLP-Project/NLP-Assignment/.conda/lib/python3.10/site-packages/pyro/contrib/gp/kernels/isotropic.py:49: TracerWarning: Converting a tensor to a Python boolean might cause the trace to be incorrect. We can't record the data flow of Python values, so this value will be treated as a constant in the future. This means that the trace might not generalize to other inputs!\n",
      "  if X.size(1) != Z.size(1):\n",
      "/Users/lucaskrieger/Documents/NLP-Project/NLP-Assignment/.conda/lib/python3.10/site-packages/pyro/contrib/gp/kernels/isotropic.py:49: TracerWarning: Converting a tensor to a Python boolean might cause the trace to be incorrect. We can't record the data flow of Python values, so this value will be treated as a constant in the future. This means that the trace might not generalize to other inputs!\n",
      "  if X.size(1) != Z.size(1):\n",
      "/Users/lucaskrieger/Documents/NLP-Project/NLP-Assignment/.conda/lib/python3.10/site-packages/pyro/contrib/gp/kernels/periodic.py:73: TracerWarning: Converting a tensor to a Python boolean might cause the trace to be incorrect. We can't record the data flow of Python values, so this value will be treated as a constant in the future. This means that the trace might not generalize to other inputs!\n",
      "  if X.size(1) != Z.size(1):\n",
      "/Users/lucaskrieger/Documents/NLP-Project/NLP-Assignment/.conda/lib/python3.10/site-packages/pyro/contrib/gp/kernels/periodic.py:73: TracerWarning: Converting a tensor to a Python boolean might cause the trace to be incorrect. We can't record the data flow of Python values, so this value will be treated as a constant in the future. This means that the trace might not generalize to other inputs!\n",
      "  if X.size(1) != Z.size(1):\n",
      "/Users/lucaskrieger/Documents/NLP-Project/NLP-Assignment/.conda/lib/python3.10/site-packages/pyro/contrib/gp/kernels/isotropic.py:49: TracerWarning: Converting a tensor to a Python boolean might cause the trace to be incorrect. We can't record the data flow of Python values, so this value will be treated as a constant in the future. This means that the trace might not generalize to other inputs!\n",
      "  if X.size(1) != Z.size(1):\n",
      "/Users/lucaskrieger/Documents/NLP-Project/NLP-Assignment/.conda/lib/python3.10/site-packages/pyro/contrib/gp/kernels/periodic.py:73: TracerWarning: Converting a tensor to a Python boolean might cause the trace to be incorrect. We can't record the data flow of Python values, so this value will be treated as a constant in the future. This means that the trace might not generalize to other inputs!\n",
      "  if X.size(1) != Z.size(1):\n"
     ]
    },
    {
     "name": "stdout",
     "output_type": "stream",
     "text": [
      "                           mean     sd  hdi_3%  hdi_97%  mcse_mean  mcse_sd  \\\n",
      "kernel.kern0.lengthscale  0.601  0.178   0.284    0.923      0.011    0.008   \n",
      "kernel.kern1.lengthscale  0.665  0.174   0.292    0.957      0.012    0.009   \n",
      "kernel.kern1.period       0.502  0.014   0.475    0.527      0.001    0.000   \n",
      "\n",
      "                          ess_bulk  ess_tail  r_hat  \n",
      "kernel.kern0.lengthscale     271.0     229.0   1.01  \n",
      "kernel.kern1.lengthscale     190.0     114.0   1.01  \n",
      "kernel.kern1.period          476.0     352.0   1.00  \n"
     ]
    },
    {
     "data": {
      "application/vnd.jupyter.widget-view+json": {
       "model_id": "fb7c37b79b1a44f9afddcce6092e9cc5",
       "version_major": 2,
       "version_minor": 0
      },
      "text/plain": [
       "Warmup [1]:   0%|          | 0/350 [00:00, ?it/s]"
      ]
     },
     "metadata": {},
     "output_type": "display_data"
    },
    {
     "data": {
      "application/vnd.jupyter.widget-view+json": {
       "model_id": "48cad089b04c401e99ac521ead3aa7b4",
       "version_major": 2,
       "version_minor": 0
      },
      "text/plain": [
       "Warmup [2]:   0%|          | 0/350 [00:00, ?it/s]"
      ]
     },
     "metadata": {},
     "output_type": "display_data"
    },
    {
     "name": "stderr",
     "output_type": "stream",
     "text": [
      "/Users/lucaskrieger/Documents/NLP-Project/NLP-Assignment/.conda/lib/python3.10/site-packages/torch/__init__.py:614: UserWarning: torch.set_default_tensor_type() is deprecated as of PyTorch 2.1, please use torch.set_default_dtype() and torch.set_default_device() as alternatives. (Triggered internally at /Users/runner/work/pytorch/pytorch/pytorch/torch/csrc/tensor/python_tensor.cpp:453.)\n",
      "  _C._set_default_tensor_type(t)\n",
      "/Users/lucaskrieger/Documents/NLP-Project/NLP-Assignment/.conda/lib/python3.10/site-packages/torch/__init__.py:614: UserWarning: torch.set_default_tensor_type() is deprecated as of PyTorch 2.1, please use torch.set_default_dtype() and torch.set_default_device() as alternatives. (Triggered internally at /Users/runner/work/pytorch/pytorch/pytorch/torch/csrc/tensor/python_tensor.cpp:453.)\n",
      "  _C._set_default_tensor_type(t)\n",
      "/Users/lucaskrieger/Documents/NLP-Project/NLP-Assignment/.conda/lib/python3.10/site-packages/pyro/contrib/gp/kernels/isotropic.py:49: TracerWarning: Converting a tensor to a Python boolean might cause the trace to be incorrect. We can't record the data flow of Python values, so this value will be treated as a constant in the future. This means that the trace might not generalize to other inputs!\n",
      "  if X.size(1) != Z.size(1):\n",
      "/Users/lucaskrieger/Documents/NLP-Project/NLP-Assignment/.conda/lib/python3.10/site-packages/pyro/contrib/gp/kernels/periodic.py:73: TracerWarning: Converting a tensor to a Python boolean might cause the trace to be incorrect. We can't record the data flow of Python values, so this value will be treated as a constant in the future. This means that the trace might not generalize to other inputs!\n",
      "  if X.size(1) != Z.size(1):\n",
      "/Users/lucaskrieger/Documents/NLP-Project/NLP-Assignment/.conda/lib/python3.10/site-packages/pyro/contrib/gp/kernels/isotropic.py:49: TracerWarning: Converting a tensor to a Python boolean might cause the trace to be incorrect. We can't record the data flow of Python values, so this value will be treated as a constant in the future. This means that the trace might not generalize to other inputs!\n",
      "  if X.size(1) != Z.size(1):\n",
      "/Users/lucaskrieger/Documents/NLP-Project/NLP-Assignment/.conda/lib/python3.10/site-packages/pyro/contrib/gp/kernels/periodic.py:73: TracerWarning: Converting a tensor to a Python boolean might cause the trace to be incorrect. We can't record the data flow of Python values, so this value will be treated as a constant in the future. This means that the trace might not generalize to other inputs!\n",
      "  if X.size(1) != Z.size(1):\n",
      "/Users/lucaskrieger/Documents/NLP-Project/NLP-Assignment/.conda/lib/python3.10/site-packages/pyro/contrib/gp/kernels/isotropic.py:49: TracerWarning: Converting a tensor to a Python boolean might cause the trace to be incorrect. We can't record the data flow of Python values, so this value will be treated as a constant in the future. This means that the trace might not generalize to other inputs!\n",
      "  if X.size(1) != Z.size(1):\n",
      "/Users/lucaskrieger/Documents/NLP-Project/NLP-Assignment/.conda/lib/python3.10/site-packages/pyro/contrib/gp/kernels/periodic.py:73: TracerWarning: Converting a tensor to a Python boolean might cause the trace to be incorrect. We can't record the data flow of Python values, so this value will be treated as a constant in the future. This means that the trace might not generalize to other inputs!\n",
      "  if X.size(1) != Z.size(1):\n"
     ]
    },
    {
     "name": "stdout",
     "output_type": "stream",
     "text": [
      "                           mean     sd  hdi_3%  hdi_97%  mcse_mean  mcse_sd  \\\n",
      "kernel.kern0.lengthscale  0.728  0.255   0.322    1.225      0.020    0.014   \n",
      "kernel.kern1.lengthscale  0.758  0.257   0.330    1.223      0.087    0.063   \n",
      "kernel.kern1.period       0.509  0.182   0.322    0.710      0.121    0.100   \n",
      "\n",
      "                          ess_bulk  ess_tail  r_hat  \n",
      "kernel.kern0.lengthscale     157.0     232.0   1.00  \n",
      "kernel.kern1.lengthscale      10.0      94.0   1.15  \n",
      "kernel.kern1.period            3.0      60.0   1.87  \n"
     ]
    },
    {
     "data": {
      "application/vnd.jupyter.widget-view+json": {
       "model_id": "85bda753726e4d19b0002c1f1cd90edc",
       "version_major": 2,
       "version_minor": 0
      },
      "text/plain": [
       "Warmup [1]:   0%|          | 0/350 [00:00, ?it/s]"
      ]
     },
     "metadata": {},
     "output_type": "display_data"
    },
    {
     "data": {
      "application/vnd.jupyter.widget-view+json": {
       "model_id": "51e68d30fe8d45bc80025fabb597160a",
       "version_major": 2,
       "version_minor": 0
      },
      "text/plain": [
       "Warmup [2]:   0%|          | 0/350 [00:00, ?it/s]"
      ]
     },
     "metadata": {},
     "output_type": "display_data"
    },
    {
     "name": "stderr",
     "output_type": "stream",
     "text": [
      "/Users/lucaskrieger/Documents/NLP-Project/NLP-Assignment/.conda/lib/python3.10/site-packages/torch/__init__.py:614: UserWarning: torch.set_default_tensor_type() is deprecated as of PyTorch 2.1, please use torch.set_default_dtype() and torch.set_default_device() as alternatives. (Triggered internally at /Users/runner/work/pytorch/pytorch/pytorch/torch/csrc/tensor/python_tensor.cpp:453.)\n",
      "  _C._set_default_tensor_type(t)\n",
      "/Users/lucaskrieger/Documents/NLP-Project/NLP-Assignment/.conda/lib/python3.10/site-packages/torch/__init__.py:614: UserWarning: torch.set_default_tensor_type() is deprecated as of PyTorch 2.1, please use torch.set_default_dtype() and torch.set_default_device() as alternatives. (Triggered internally at /Users/runner/work/pytorch/pytorch/pytorch/torch/csrc/tensor/python_tensor.cpp:453.)\n",
      "  _C._set_default_tensor_type(t)\n",
      "/Users/lucaskrieger/Documents/NLP-Project/NLP-Assignment/.conda/lib/python3.10/site-packages/pyro/contrib/gp/kernels/isotropic.py:49: TracerWarning: Converting a tensor to a Python boolean might cause the trace to be incorrect. We can't record the data flow of Python values, so this value will be treated as a constant in the future. This means that the trace might not generalize to other inputs!\n",
      "  if X.size(1) != Z.size(1):\n",
      "/Users/lucaskrieger/Documents/NLP-Project/NLP-Assignment/.conda/lib/python3.10/site-packages/pyro/contrib/gp/kernels/isotropic.py:49: TracerWarning: Converting a tensor to a Python boolean might cause the trace to be incorrect. We can't record the data flow of Python values, so this value will be treated as a constant in the future. This means that the trace might not generalize to other inputs!\n",
      "  if X.size(1) != Z.size(1):\n",
      "/Users/lucaskrieger/Documents/NLP-Project/NLP-Assignment/.conda/lib/python3.10/site-packages/pyro/contrib/gp/kernels/periodic.py:73: TracerWarning: Converting a tensor to a Python boolean might cause the trace to be incorrect. We can't record the data flow of Python values, so this value will be treated as a constant in the future. This means that the trace might not generalize to other inputs!\n",
      "  if X.size(1) != Z.size(1):\n",
      "/Users/lucaskrieger/Documents/NLP-Project/NLP-Assignment/.conda/lib/python3.10/site-packages/pyro/contrib/gp/kernels/periodic.py:73: TracerWarning: Converting a tensor to a Python boolean might cause the trace to be incorrect. We can't record the data flow of Python values, so this value will be treated as a constant in the future. This means that the trace might not generalize to other inputs!\n",
      "  if X.size(1) != Z.size(1):\n",
      "/Users/lucaskrieger/Documents/NLP-Project/NLP-Assignment/.conda/lib/python3.10/site-packages/pyro/contrib/gp/kernels/isotropic.py:49: TracerWarning: Converting a tensor to a Python boolean might cause the trace to be incorrect. We can't record the data flow of Python values, so this value will be treated as a constant in the future. This means that the trace might not generalize to other inputs!\n",
      "  if X.size(1) != Z.size(1):\n",
      "/Users/lucaskrieger/Documents/NLP-Project/NLP-Assignment/.conda/lib/python3.10/site-packages/pyro/contrib/gp/kernels/periodic.py:73: TracerWarning: Converting a tensor to a Python boolean might cause the trace to be incorrect. We can't record the data flow of Python values, so this value will be treated as a constant in the future. This means that the trace might not generalize to other inputs!\n",
      "  if X.size(1) != Z.size(1):\n"
     ]
    },
    {
     "name": "stdout",
     "output_type": "stream",
     "text": [
      "                           mean     sd  hdi_3%  hdi_97%  mcse_mean  mcse_sd  \\\n",
      "kernel.kern0.lengthscale  0.594  0.179   0.281    0.910      0.009    0.006   \n",
      "kernel.kern1.lengthscale  0.957  0.265   0.482    1.444      0.012    0.008   \n",
      "kernel.kern1.period       0.333  0.007   0.318    0.345      0.000    0.000   \n",
      "\n",
      "                          ess_bulk  ess_tail  r_hat  \n",
      "kernel.kern0.lengthscale     447.0     226.0   1.01  \n",
      "kernel.kern1.lengthscale     451.0     251.0   1.00  \n",
      "kernel.kern1.period          321.0     240.0   1.00  \n"
     ]
    },
    {
     "data": {
      "application/vnd.jupyter.widget-view+json": {
       "model_id": "367ce6717e854a16be8c37cc68fe7983",
       "version_major": 2,
       "version_minor": 0
      },
      "text/plain": [
       "Warmup [1]:   0%|          | 0/350 [00:00, ?it/s]"
      ]
     },
     "metadata": {},
     "output_type": "display_data"
    },
    {
     "data": {
      "application/vnd.jupyter.widget-view+json": {
       "model_id": "9dfe2e632fbe4ed2bd557cf404b1f385",
       "version_major": 2,
       "version_minor": 0
      },
      "text/plain": [
       "Warmup [2]:   0%|          | 0/350 [00:00, ?it/s]"
      ]
     },
     "metadata": {},
     "output_type": "display_data"
    },
    {
     "name": "stderr",
     "output_type": "stream",
     "text": [
      "/Users/lucaskrieger/Documents/NLP-Project/NLP-Assignment/.conda/lib/python3.10/site-packages/torch/__init__.py:614: UserWarning: torch.set_default_tensor_type() is deprecated as of PyTorch 2.1, please use torch.set_default_dtype() and torch.set_default_device() as alternatives. (Triggered internally at /Users/runner/work/pytorch/pytorch/pytorch/torch/csrc/tensor/python_tensor.cpp:453.)\n",
      "  _C._set_default_tensor_type(t)\n",
      "/Users/lucaskrieger/Documents/NLP-Project/NLP-Assignment/.conda/lib/python3.10/site-packages/torch/__init__.py:614: UserWarning: torch.set_default_tensor_type() is deprecated as of PyTorch 2.1, please use torch.set_default_dtype() and torch.set_default_device() as alternatives. (Triggered internally at /Users/runner/work/pytorch/pytorch/pytorch/torch/csrc/tensor/python_tensor.cpp:453.)\n",
      "  _C._set_default_tensor_type(t)\n",
      "/Users/lucaskrieger/Documents/NLP-Project/NLP-Assignment/.conda/lib/python3.10/site-packages/pyro/contrib/gp/kernels/isotropic.py:49: TracerWarning: Converting a tensor to a Python boolean might cause the trace to be incorrect. We can't record the data flow of Python values, so this value will be treated as a constant in the future. This means that the trace might not generalize to other inputs!\n",
      "  if X.size(1) != Z.size(1):\n",
      "/Users/lucaskrieger/Documents/NLP-Project/NLP-Assignment/.conda/lib/python3.10/site-packages/pyro/contrib/gp/kernels/periodic.py:73: TracerWarning: Converting a tensor to a Python boolean might cause the trace to be incorrect. We can't record the data flow of Python values, so this value will be treated as a constant in the future. This means that the trace might not generalize to other inputs!\n",
      "  if X.size(1) != Z.size(1):\n",
      "/Users/lucaskrieger/Documents/NLP-Project/NLP-Assignment/.conda/lib/python3.10/site-packages/pyro/contrib/gp/kernels/isotropic.py:49: TracerWarning: Converting a tensor to a Python boolean might cause the trace to be incorrect. We can't record the data flow of Python values, so this value will be treated as a constant in the future. This means that the trace might not generalize to other inputs!\n",
      "  if X.size(1) != Z.size(1):\n",
      "/Users/lucaskrieger/Documents/NLP-Project/NLP-Assignment/.conda/lib/python3.10/site-packages/pyro/contrib/gp/kernels/periodic.py:73: TracerWarning: Converting a tensor to a Python boolean might cause the trace to be incorrect. We can't record the data flow of Python values, so this value will be treated as a constant in the future. This means that the trace might not generalize to other inputs!\n",
      "  if X.size(1) != Z.size(1):\n",
      "/Users/lucaskrieger/Documents/NLP-Project/NLP-Assignment/.conda/lib/python3.10/site-packages/pyro/contrib/gp/kernels/isotropic.py:49: TracerWarning: Converting a tensor to a Python boolean might cause the trace to be incorrect. We can't record the data flow of Python values, so this value will be treated as a constant in the future. This means that the trace might not generalize to other inputs!\n",
      "  if X.size(1) != Z.size(1):\n",
      "/Users/lucaskrieger/Documents/NLP-Project/NLP-Assignment/.conda/lib/python3.10/site-packages/pyro/contrib/gp/kernels/periodic.py:73: TracerWarning: Converting a tensor to a Python boolean might cause the trace to be incorrect. We can't record the data flow of Python values, so this value will be treated as a constant in the future. This means that the trace might not generalize to other inputs!\n",
      "  if X.size(1) != Z.size(1):\n"
     ]
    },
    {
     "name": "stdout",
     "output_type": "stream",
     "text": [
      "                           mean     sd  hdi_3%  hdi_97%  mcse_mean  mcse_sd  \\\n",
      "kernel.kern0.lengthscale  0.655  0.195   0.303    0.983      0.017    0.012   \n",
      "kernel.kern1.lengthscale  0.940  0.284   0.436    1.498      0.078    0.057   \n",
      "kernel.kern1.period       0.297  0.112   0.154    0.357      0.029    0.021   \n",
      "\n",
      "                          ess_bulk  ess_tail  r_hat  \n",
      "kernel.kern0.lengthscale     126.0     245.0   1.02  \n",
      "kernel.kern1.lengthscale      14.0      61.0   1.12  \n",
      "kernel.kern1.period           10.0      11.0   1.45  \n"
     ]
    },
    {
     "data": {
      "application/vnd.jupyter.widget-view+json": {
       "model_id": "8ed2efe0f80b4c79a20865cca159de55",
       "version_major": 2,
       "version_minor": 0
      },
      "text/plain": [
       "Warmup [1]:   0%|          | 0/350 [00:00, ?it/s]"
      ]
     },
     "metadata": {},
     "output_type": "display_data"
    },
    {
     "data": {
      "application/vnd.jupyter.widget-view+json": {
       "model_id": "d629d875a8114ffbb4657e65470f28cb",
       "version_major": 2,
       "version_minor": 0
      },
      "text/plain": [
       "Warmup [2]:   0%|          | 0/350 [00:00, ?it/s]"
      ]
     },
     "metadata": {},
     "output_type": "display_data"
    },
    {
     "name": "stderr",
     "output_type": "stream",
     "text": [
      "/Users/lucaskrieger/Documents/NLP-Project/NLP-Assignment/.conda/lib/python3.10/site-packages/torch/__init__.py:614: UserWarning: torch.set_default_tensor_type() is deprecated as of PyTorch 2.1, please use torch.set_default_dtype() and torch.set_default_device() as alternatives. (Triggered internally at /Users/runner/work/pytorch/pytorch/pytorch/torch/csrc/tensor/python_tensor.cpp:453.)\n",
      "  _C._set_default_tensor_type(t)\n",
      "/Users/lucaskrieger/Documents/NLP-Project/NLP-Assignment/.conda/lib/python3.10/site-packages/pyro/contrib/gp/kernels/isotropic.py:49: TracerWarning: Converting a tensor to a Python boolean might cause the trace to be incorrect. We can't record the data flow of Python values, so this value will be treated as a constant in the future. This means that the trace might not generalize to other inputs!\n",
      "  if X.size(1) != Z.size(1):\n",
      "/Users/lucaskrieger/Documents/NLP-Project/NLP-Assignment/.conda/lib/python3.10/site-packages/pyro/contrib/gp/kernels/periodic.py:73: TracerWarning: Converting a tensor to a Python boolean might cause the trace to be incorrect. We can't record the data flow of Python values, so this value will be treated as a constant in the future. This means that the trace might not generalize to other inputs!\n",
      "  if X.size(1) != Z.size(1):\n",
      "/Users/lucaskrieger/Documents/NLP-Project/NLP-Assignment/.conda/lib/python3.10/site-packages/torch/__init__.py:614: UserWarning: torch.set_default_tensor_type() is deprecated as of PyTorch 2.1, please use torch.set_default_dtype() and torch.set_default_device() as alternatives. (Triggered internally at /Users/runner/work/pytorch/pytorch/pytorch/torch/csrc/tensor/python_tensor.cpp:453.)\n",
      "  _C._set_default_tensor_type(t)\n",
      "/Users/lucaskrieger/Documents/NLP-Project/NLP-Assignment/.conda/lib/python3.10/site-packages/pyro/contrib/gp/kernels/isotropic.py:49: TracerWarning: Converting a tensor to a Python boolean might cause the trace to be incorrect. We can't record the data flow of Python values, so this value will be treated as a constant in the future. This means that the trace might not generalize to other inputs!\n",
      "  if X.size(1) != Z.size(1):\n",
      "/Users/lucaskrieger/Documents/NLP-Project/NLP-Assignment/.conda/lib/python3.10/site-packages/pyro/contrib/gp/kernels/periodic.py:73: TracerWarning: Converting a tensor to a Python boolean might cause the trace to be incorrect. We can't record the data flow of Python values, so this value will be treated as a constant in the future. This means that the trace might not generalize to other inputs!\n",
      "  if X.size(1) != Z.size(1):\n",
      "/Users/lucaskrieger/Documents/NLP-Project/NLP-Assignment/.conda/lib/python3.10/site-packages/pyro/contrib/gp/kernels/isotropic.py:49: TracerWarning: Converting a tensor to a Python boolean might cause the trace to be incorrect. We can't record the data flow of Python values, so this value will be treated as a constant in the future. This means that the trace might not generalize to other inputs!\n",
      "  if X.size(1) != Z.size(1):\n",
      "/Users/lucaskrieger/Documents/NLP-Project/NLP-Assignment/.conda/lib/python3.10/site-packages/pyro/contrib/gp/kernels/periodic.py:73: TracerWarning: Converting a tensor to a Python boolean might cause the trace to be incorrect. We can't record the data flow of Python values, so this value will be treated as a constant in the future. This means that the trace might not generalize to other inputs!\n",
      "  if X.size(1) != Z.size(1):\n"
     ]
    },
    {
     "name": "stdout",
     "output_type": "stream",
     "text": [
      "                           mean     sd  hdi_3%  hdi_97%  mcse_mean  mcse_sd  \\\n",
      "kernel.kern0.lengthscale  0.673  0.194   0.368    1.045      0.015    0.011   \n",
      "kernel.kern1.lengthscale  0.762  0.415   0.241    1.554      0.084    0.060   \n",
      "kernel.kern1.period       0.334  0.170   0.129    0.521      0.119    0.100   \n",
      "\n",
      "                          ess_bulk  ess_tail  r_hat  \n",
      "kernel.kern0.lengthscale     194.0     313.0   1.08  \n",
      "kernel.kern1.lengthscale      17.0      17.0   1.20  \n",
      "kernel.kern1.period            3.0      12.0   1.92  \n"
     ]
    }
   ],
   "source": [
    "map_likelihood_collection = []\n",
    "nuts_likelihood_collection = []\n",
    "\n",
    "for i in range(20):    \n",
    "    # create dataset\n",
    "    X = torch.linspace(0, 1, SIZE)\n",
    "    y = g(X) + np.random.normal(scale = 0.01, size = (SIZE,))\n",
    "    choose = np.random.choice(SIZE, int(SIZE * 2/3), replace= False)\n",
    "    non_choosen = np.setdiff1d(np.arange(SIZE), choose)\n",
    "    X_train, X_test = X[choose], X[non_choosen]\n",
    "    y_train, y_test = y[choose], y[non_choosen]\n",
    "    \n",
    "    # train MAP model\n",
    "    pyro.clear_param_store()\n",
    "    model1 = gen_model()\n",
    "    train_model(model1)\n",
    "    plot_model(model1, X_train, X_test, y_train, y_test)\n",
    "    plt.tight_layout()\n",
    "    plt.savefig(\"./images/map_predictions_\" + str(i) + \".png\")\n",
    "    plt.close()\n",
    "    map_likelihood = MAP_likelihood(model1, X_test, y_test)\n",
    "    \n",
    "    #train NUTS model\n",
    "    pyro.clear_param_store()\n",
    "    model2 = gen_model()\n",
    "    nuts_likelihood = NUTS_likelihood(model2, X_test, y_test, i = i)\n",
    "    \n",
    "    map_likelihood_collection.append(map_likelihood)\n",
    "    nuts_likelihood_collection.append(nuts_likelihood.item())"
   ]
  },
  {
   "cell_type": "code",
   "execution_count": null,
   "metadata": {},
   "outputs": [
    {
     "name": "stdout",
     "output_type": "stream",
     "text": [
      "Mean 24872592170.182, SD 69308415580.108\n"
     ]
    }
   ],
   "source": [
    "map_likelihood_collection\n",
    "print(f\"Mean {np.mean(map_likelihood_collection):.3f}, SD {np.std(map_likelihood_collection):.3f}\")"
   ]
  },
  {
   "cell_type": "code",
   "execution_count": null,
   "metadata": {},
   "outputs": [
    {
     "name": "stdout",
     "output_type": "stream",
     "text": [
      "Mean 0.276, SD 0.146\n"
     ]
    }
   ],
   "source": [
    "nuts_likelihood_collection\n",
    "print(f\"Mean {np.mean(nuts_likelihood_collection):.3f}, SD {np.std(nuts_likelihood_collection):.3f}\")"
   ]
  },
  {
   "cell_type": "code",
   "execution_count": null,
   "metadata": {},
   "outputs": [
    {
     "data": {
      "image/png": "[encoded data removed]",
      "text/plain": [
       "<Figure size 640x480 with 1 Axes>"
      ]
     },
     "metadata": {},
     "output_type": "display_data"
    }
   ],
   "source": [
    "plt.scatter(range(1, 21), np.log(map_likelihood_collection), label = \"MAP\")\n",
    "plt.scatter(range(1, 21), np.log(nuts_likelihood_collection), label = \"NUTS\")\n",
    "plt.ylabel(\"Loglikelihood\")\n",
    "plt.xlabel(\"Iteration number\")\n",
    "plt.xticks(range(1, 21))\n",
    "plt.title(\"Comparison of loglikelihoods on test data\")\n",
    "plt.tight_layout()\n",
    "plt.savefig(\"Likelihood_comparison.png\")\n",
    "plt.legend()\n",
    "plt.show()"
   ]
  }
 ],
 "metadata": {
  "kernelspec": {
   "display_name": "Python 3",
   "language": "python",
   "name": "python3"
  },
  "language_info": {
   "codemirror_mode": {
    "name": "ipython",
    "version": 3
   },
   "file_extension": ".py",
   "mimetype": "text/x-python",
   "name": "python",
   "nbconvert_exporter": "python",
   "pygments_lexer": "ipython3",
   "version": "3.10.13"
  },
  "orig_nbformat": 4
 },
 "nbformat": 4,
 "nbformat_minor": 2
}
