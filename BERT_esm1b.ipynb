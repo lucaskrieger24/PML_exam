{
  "nbformat": 4,
  "nbformat_minor": 0,
  "metadata": {
    "colab": {
      "name": "BERT_esm1b.ipynb",
      "provenance": [],
      "include_colab_link": true
    },
    "kernelspec": {
      "name": "python3",
      "display_name": "Python 3"
    },
    "language_info": {
      "name": "python"
    },
    "accelerator": "GPU"
  },
  "cells": [
    {
      "cell_type": "markdown",
      "metadata": {
        "id": "view-in-github",
        "colab_type": "text"
      },
      "source": [
        "<a href=\"https://colab.research.google.com/github/lucaskrieger24/PML_exam/blob/main/BERT_esm1b.ipynb\" target=\"_parent\"><img src=\"https://colab.research.google.com/assets/colab-badge.svg\" alt=\"Open In Colab\"/></a>"
      ]
    },
    {
      "cell_type": "markdown",
      "metadata": {
        "id": "EDGBoR6zgZWx"
      },
      "source": [
        "install and load models"
      ]
    },
    {
      "cell_type": "code",
      "metadata": {
        "colab": {
          "base_uri": "https://localhost:8080/"
        },
        "id": "DtRKmskxgHfs",
        "outputId": "b2d38330-602c-423d-90bb-11204f5ac582"
      },
      "source": [
        "%%time\n",
        "# for other models see: https://github.com/facebookresearch/esm#main-models-you-should-use-\n",
        "\n",
        "# mount google-drive, download to google-drive,\n",
        "# will run faster next time!\n",
        "'''\n",
        "import os\n",
        "import torch\n",
        "hub_dir = \"/content/drive/MyDrive/AlgoSB\"\n",
        "if not os.path.isdir(hub_dir): os.mkdir(hub_dir)\n",
        "torch.hub.set_dir(hub_dir)\n",
        "model, alphabet = torch.hub.load(\"facebookresearch/esm:main\", \"esm1b_t33_650M_UR50S\")\n",
        "'''\n",
        "\n",
        "# this step will take ~3mins\n",
        "import torch\n",
        "import os\n",
        "os.system(\"apt-get install aria2 -qq\")\n",
        "os.system(\"mkdir -p /root/.cache/torch/hub/checkpoints/\")\n",
        "# os.system(\"aria2c -q -x 16 -d /root/.cache/torch/hub/ https://github.com/facebookresearch/esm/archive/main.zip\")\n",
        "# os.system(\"aria2c -q -x 16 -d /root/.cache/torch/hub/checkpoints/ https://dl.fbaipublicfiles.com/fair-esm/models/esm1b_t33_650M_UR50S.pt\")\n",
        "# os.system(\"aria2c -q -x 16 -d /root/.cache/torch/hub/checkpoints/ https://dl.fbaipublicfiles.com/fair-esm/regression/esm1b_t33_650M_UR50S-contact-regression.pt\")\n",
        "# # model, alphabet = torch.hub.load(\"facebookresearch/esm:main\", \"esm1b_t33_650M_UR50S\")"
      ],
      "execution_count": 1,
      "outputs": [
        {
          "output_type": "stream",
          "name": "stdout",
          "text": [
            "CPU times: user 1.25 s, sys: 252 ms, total: 1.51 s\n",
            "Wall time: 4.98 s\n"
          ]
        },
        {
          "output_type": "execute_result",
          "data": {
            "text/plain": [
              "0"
            ]
          },
          "metadata": {},
          "execution_count": 1
        }
      ]
    },
    {
      "cell_type": "code",
      "source": [
        "model, alphabet = torch.hub.load(\"facebookresearch/esm:main\", \"esm2_t33_650M_UR50D\")"
      ],
      "metadata": {
        "colab": {
          "base_uri": "https://localhost:8080/"
        },
        "id": "P9IniK5EGKX6",
        "outputId": "2986dbfe-a21c-4f5d-b539-c68d1e36340a"
      },
      "execution_count": 2,
      "outputs": [
        {
          "output_type": "stream",
          "name": "stderr",
          "text": [
            "Using cache found in /root/.cache/torch/hub/facebookresearch_esm_main\n"
          ]
        }
      ]
    },
    {
      "cell_type": "code",
      "metadata": {
        "id": "3rfMdHYpg1Yl"
      },
      "source": [
        "# put model on GPU if available\n",
        "device = torch.device('cuda:0' if torch.cuda.is_available() else 'cpu')\n",
        "model = model.to(device)\n",
        "model = model.eval()\n",
        "#model.args.token_dropout = False\n",
        "\n",
        "# alphabet size\n",
        "esm_alphabet_len = len(alphabet.all_toks)\n",
        "esm_alphabet = \"\".join(alphabet.all_toks[4:24])+\"-\""
      ],
      "execution_count": 3,
      "outputs": []
    },
    {
      "cell_type": "code",
      "metadata": {
        "id": "9pfufI0YhRyz"
      },
      "source": [
        "!wget -qnc https://raw.githubusercontent.com/sokrypton/algosb_2021/main/utils.py\n",
        "import matplotlib.pyplot as plt\n",
        "import numpy as np\n",
        "from scipy.special import softmax\n",
        "from utils import *"
      ],
      "execution_count": 4,
      "outputs": []
    },
    {
      "cell_type": "code",
      "source": [
        "protein_seq = \"MANINLKEITLIVGVVTACYWNSLFCGFVFDDVSAILDNKDLHPSTPLKTLFQNDFWGTPMSEERSHKSYRPLTVLTFRLNYLLSELKPMSYHLLNMIFHAVVSVIFLKVCKLFLDNKSSVIASLLFAVHPIHTEAVTGVVGRAELLSSIFFLAAFLSYTRSKGPDNSIIWTPIALTVFLVAVATLCKEQGITVVGICCVYEVFIAQGYTLPLLCTTAGQFLRGKGSIPFSMLQTLVKLIVLMFSTLLLVVIRVQVIQSQLPVFTRFDNPAAVSPTPTRQLTFNYLLPVNAWLLLNPSELCCDWTMGTIPLIESLLDIRNLATFTFFCFLGMLGVFSIRYSGDSSKTVLMALCLMALPFIPASNLFFPVGFVVAERVLYVPSMGFCILVAHGWQKISTKSVFKKLSWICLSMVILTHSLKTFHRNWDWESEYTLFMSALKVNKNNAKLWNNVGHALENEKNFERALKYFLQATHVQPDDIGAHMNVGRTYKNLNRTKEAEESYMMAKSLMPQIIPGKKYAARIAPNHLNVYINLANLIRANESRLEEADQLYRQAISMRPDFKQAYISRGELLLKMNKPLKAKEAYLKALELDRNNADLWYNLAIVHIELKEPNEALKKNFNRALELNPKHKLALFNSAIVMQESGEVKLRPEARKRLLSYINEEPLDANGYFNLGMLAMDDKKDNEAEIWMKKAIKLQADFRSALFNLALLYSQTAKELKALPILEELLRYYPDHIKGLILKGDILMNQKKDILGAKKCFERILEMDPSNVQGKHNLCVVYFEEKDLLKAERCLLETLALAPHEEYIQRHLNIVRDKISSSSFIEPIFPTSKISSVEGKKIPTESVKEIRGESRQTQIVKTSDNKSQSKSNKQLGKNGDEETPHKTTKDIKEIEKKRVAALKRLEEIERILNGE\"\n",
        "linker = \"GSGS\"\n",
        "binder = \"MEIDEPLTRRAMPSS\"\n",
        "seq = linker + protein_seq + binder"
      ],
      "metadata": {
        "id": "70bk3gP7HT_6"
      },
      "execution_count": 5,
      "outputs": []
    },
    {
      "cell_type": "code",
      "metadata": {
        "id": "WWoCr2wujs5Z"
      },
      "source": [
        "def get_logits(seq):\n",
        "  x,ln = alphabet.get_batch_converter()([(\"seq\",seq)])[-1],len(seq)\n",
        "  with torch.no_grad():\n",
        "    f = lambda x: model(x)[\"logits\"][0,1:(ln+1),4:24].cpu().numpy()\n",
        "    x = x.to(device)\n",
        "    logits = f(x)\n",
        "    return logits\n",
        "\n",
        "def get_masked_logits(seq, p=None, get_pll=False):\n",
        "  x,ln = alphabet.get_batch_converter()([(None,seq)])[-1],len(seq)\n",
        "  if p is None: p = ln\n",
        "  with torch.no_grad():\n",
        "    def f(x):\n",
        "      fx = model(x)[\"logits\"][:,1:(ln+1),4:24]\n",
        "      return fx\n",
        "\n",
        "    logits = np.zeros((ln,20))\n",
        "    for n in range(0,ln,p):\n",
        "      m = min(n+p,ln)\n",
        "      x_h = torch.tile(torch.clone(x),[m-n,1])\n",
        "      for i in range(m-n):\n",
        "        x_h[i,n+i+1] = alphabet.mask_idx\n",
        "      fx_h = f(x_h.to(device))\n",
        "      for i in range(m-n):\n",
        "        logits[n+i] = fx_h[i,n+i].cpu().numpy()\n",
        "  if get_pll:\n",
        "    logits = np.log(softmax(logits,-1))\n",
        "    x = x.cpu().numpy()[0]\n",
        "    x = x[1:(ln+1)] - 4\n",
        "    return sum([logits[n,i] for n,i in enumerate(x)])\n",
        "  else:\n",
        "    return logits"
      ],
      "execution_count": 6,
      "outputs": []
    },
    {
      "cell_type": "code",
      "metadata": {
        "id": "wB0U1aeEmVn4"
      },
      "source": [
        "def get_categorical_jacobian(seq):\n",
        "  # ∂in/∂out\n",
        "  x,ln = alphabet.get_batch_converter()([(\"seq\",seq)])[-1],len(seq)\n",
        "  with torch.no_grad():\n",
        "    f = lambda x: model(x)[\"logits\"][...,1:(ln+1),4:24].cpu().numpy()\n",
        "    fx = f(x.to(device))[0]\n",
        "    x = torch.tile(x,[20,1]).to(device)\n",
        "    fx_h = np.zeros((ln,20,ln,20))\n",
        "    for n in range(ln): # for each position\n",
        "      x_h = torch.clone(x)\n",
        "      x_h[:,n+1] = torch.arange(4,24) # mutate to all 20 aa\n",
        "      fx_h[n] = f(x_h)\n",
        "    return fx-fx_h"
      ],
      "execution_count": 7,
      "outputs": []
    },
    {
      "cell_type": "code",
      "metadata": {
        "id": "Qr7jjbsVnDD_"
      },
      "source": [
        "# jacobian of the model\n",
        "jac = get_categorical_jacobian(seq)\n",
        "# center & symmetrize\n",
        "for i in range(4): jac -= jac.mean(i,keepdims=True)\n",
        "jac = (jac + jac.transpose(2,3,0,1))/2"
      ],
      "execution_count": null,
      "outputs": []
    },
    {
      "cell_type": "markdown",
      "metadata": {
        "id": "zZOWc_WdoWS4"
      },
      "source": [
        "extract contacts"
      ]
    },
    {
      "cell_type": "code",
      "metadata": {
        "id": "-XImp1TKoYbE"
      },
      "source": [
        "plt.figure(figsize=(10,5))\n",
        "#plt.subplot(1,2,1); plt.title(\"inv_cov(msa)\"); plt.imshow(tmp[\"apc\"])\n",
        "plt.subplot(1,2,2); plt.title(\"jac(esm2(msa[0]))\"); plt.imshow(get_contacts(jac))\n",
        "plt.show()"
      ],
      "execution_count": null,
      "outputs": []
    },
    {
      "cell_type": "code",
      "metadata": {
        "id": "97J0GJaAobB9"
      },
      "source": [
        "i = 9\n",
        "j = 12\n",
        "\n",
        "# plt.figure(figsize=(10,5))\n",
        "# plt.subplot(1,2,1);\n",
        "# plt.title(\"inv_cov(msa)\");\n",
        "# plt.imshow(ic[i,:,j,:],vmin=-1.5,vmax=1.5,cmap=\"bwr_r\")\n",
        "# plt.xticks(range(20),esm_alphabet[:20])\n",
        "# plt.yticks(range(20),esm_alphabet[:20])\n",
        "\n",
        "plt.subplot(1,2,2);\n",
        "plt.title(\"jac(esm1b(msa[0]))\");\n",
        "plt.imshow(jac[i,:,j,:],vmin=-3,vmax=3,cmap=\"bwr_r\")\n",
        "plt.xticks(range(20),esm_alphabet[:20])\n",
        "plt.yticks(range(20),esm_alphabet[:20])\n",
        "plt.show()"
      ],
      "execution_count": null,
      "outputs": []
    }
  ]
}