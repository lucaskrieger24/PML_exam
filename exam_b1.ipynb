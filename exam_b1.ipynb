{
 "cells": [
  {
   "cell_type": "code",
   "execution_count": 118,
   "metadata": {},
   "outputs": [],
   "source": [
    "import arviz\n",
    "import pyro\n",
    "import torch\n",
    "import numpy as np\n",
    "import pyro.contrib.gp as gp\n",
    "import pyro.distributions as dist\n",
    "import matplotlib.pyplot as plt\n",
    "from torch.distributions import constraints\n",
    "from scipy.stats import multivariate_normal"
   ]
  },
  {
   "cell_type": "code",
   "execution_count": 119,
   "metadata": {},
   "outputs": [
    {
     "name": "stdout",
     "output_type": "stream",
     "text": [
      "mkdir: images: File exists\n"
     ]
    }
   ],
   "source": [
    "!mkdir images"
   ]
  },
  {
   "cell_type": "code",
   "execution_count": 120,
   "metadata": {},
   "outputs": [],
   "source": [
    "# The function\n",
    "g = lambda x: (-(np.sin(6*torch.pi*x))**2) + 6*(x**2) - 5*(x**4) + (3/2)"
   ]
  },
  {
   "cell_type": "code",
   "execution_count": 121,
   "metadata": {},
   "outputs": [],
   "source": [
    "# create dataset\n",
    "SIZE = 30\n",
    "X = torch.linspace(0, 1, SIZE)\n",
    "y = g(X) + np.random.normal(scale = 0.01, size = (SIZE,))\n",
    "choose = np.random.choice(SIZE, int(SIZE * 2/3), replace= False)\n",
    "non_choosen = np.setdiff1d(np.arange(SIZE), choose)\n",
    "X_train, X_test = X[choose], X[non_choosen]\n",
    "y_train, y_test = y[choose], y[non_choosen]"
   ]
  },
  {
   "cell_type": "code",
   "execution_count": 122,
   "metadata": {},
   "outputs": [
    {
     "data": {
      "image/png": "[encoded data removed]",
      "text/plain": [
       "<Figure size 640x480 with 1 Axes>"
      ]
     },
     "metadata": {},
     "output_type": "display_data"
    }
   ],
   "source": [
    "plt.scatter(X, y)\n",
    "plt.title(\"Generated data\")\n",
    "plt.show()\n",
    "plt.close()"
   ]
  },
  {
   "cell_type": "markdown",
   "metadata": {},
   "source": [
    "Visually inspecting the dataset shows that there is a general upwards trend, and a periodicity around this trend. \n",
    "\n",
    "Thus, we have chosen sum an RBF kernel and a Periodic kernel, hoping that the first will model the overall trend, and the latter will capture the periodicity. We fix the variance at 1.0 for both kernels too allow faster training."
   ]
  },
  {
   "attachments": {},
   "cell_type": "markdown",
   "metadata": {},
   "source": [
    "Inspired from https://pyro.ai/examples/gp.html\n",
    "and https://pyro.ai/examples/mle_map.html"
   ]
  },
  {
   "cell_type": "code",
   "execution_count": 123,
   "metadata": {},
   "outputs": [],
   "source": [
    "# function for creating the GPRegression object with priors\n",
    "\n",
    "def gen_model(priors = True, period = torch.tensor(1.), lengthPer = torch.tensor(1.), \n",
    "              lengthRBF = torch.tensor(1.), varPer = torch.tensor(1.), varRBF= torch.tensor(1.)):\n",
    "    \n",
    "    # defining kernels\n",
    "    periodic = gp.kernels.Periodic(input_dim=1, period=period, lengthscale=lengthPer, variance=varPer)\n",
    "    rbf = gp.kernels.RBF(input_dim=1, lengthscale=lengthRBF, variance=varRBF)\n",
    "    k = gp.kernels.Sum(kern0=rbf, kern1=periodic)\n",
    "\n",
    "    model = gp.models.GPRegression(\n",
    "        X=X_train,\n",
    "        y=y_train,\n",
    "        kernel=k,\n",
    "        noise= torch.tensor(0.1),\n",
    "    )\n",
    "    if priors == True: \n",
    "        # RBF Kernel               \n",
    "        model.kernel.kern0.variance_unconstrained.detach_()\n",
    "        model.kernel.kern0.lengthscale = pyro.nn.PyroSample(dist.LogNormal(0.0, 0.5))\n",
    "        # Periodic Kernel\n",
    "        model.kernel.kern1.variance_unconstrained.detach_()\n",
    "        model.kernel.kern1.lengthscale = pyro.nn.PyroSample(dist.LogNormal(-1, 0.5))\n",
    "        model.kernel.kern1.period = pyro.nn.PyroSample(dist.LogNormal(-1, 0.5))\n",
    "            \n",
    "    return model"
   ]
  },
  {
   "cell_type": "code",
   "execution_count": 124,
   "metadata": {},
   "outputs": [],
   "source": [
    "# training the model to find MAP-estimates\n",
    "\n",
    "def train_model(model, print_map = False):\n",
    "    optimizer = torch.optim.Adam(model.parameters(), lr=0.005)\n",
    "    loss_fn = pyro.infer.Trace_ELBO().differentiable_loss\n",
    "    losses = []\n",
    "    num_steps = 2000 \n",
    "    for i in range(num_steps):\n",
    "        optimizer.zero_grad()\n",
    "        loss = loss_fn(model.model, model.guide)\n",
    "        loss.backward()\n",
    "        optimizer.step()\n",
    "        losses.append(loss.item())\n",
    "\n",
    "    if print_map == True:\n",
    "        model.set_mode(\"guide\")\n",
    "        # MAP\n",
    "        # print(f\"Linear, Variance: {model.kernel.kern0.variance.item()}\\n\")\n",
    "\n",
    "        print(f\"RBF, Variance: {model.kernel.kern0.variance.item()}\")\n",
    "        print(f\"RBF, Lengthscale: {model.kernel.kern0.lengthscale.item()}\\n\")\n",
    "        print(f\"Periodic Kernel, Variance: {model.kernel.kern1.variance.item()}\")\n",
    "        print(f\"Periodic Kernel, Lengthscale: {model.kernel.kern1.lengthscale.item()}\\n\")\n",
    "        print(f\"Periodic Kernel, Period: {model.kernel.kern1.period.item()}\")\n",
    "        print(f\"Noise: {model.noise.item()}\")\n",
    "    \n",
    "    return model"
   ]
  },
  {
   "cell_type": "code",
   "execution_count": 125,
   "metadata": {},
   "outputs": [],
   "source": [
    "# plotting model predictions\n",
    "def plot_model(model, X_train, X_test, y_train, y_test):\n",
    "    plt.scatter(X_test, y_test, label = \"Test data\")\n",
    "    plt.scatter(X_train, y_train, label = \"Training data\")\n",
    "    x_space = np.linspace(0, 1, 300)\n",
    "    y_space = g(x_space)\n",
    "    plt.plot(x_space, y_space, label = \"G(x)\")\n",
    "    with torch.no_grad():\n",
    "        mean, var = model(X_test, noiseless = False) # a.k.a posterior predictive\n",
    "    plt.plot(X_test, mean, color=\"C3\", label = \"Predictions\")\n",
    "    plt.scatter(X_test, mean, color = \"C3\", s = 2, )\n",
    "    plt.fill_between(X_test, (mean + 1.95*var.sqrt()), (mean - 1.95*var.sqrt()), alpha = 0.1, color = \"C0\")\n",
    "    plt.legend()\n"
   ]
  },
  {
   "cell_type": "code",
   "execution_count": 126,
   "metadata": {},
   "outputs": [],
   "source": [
    "# calculate posterior likelihood on test data with trained model/MAP estimates\n",
    "def MAP_likelihood(model, X_test, y_test):\n",
    "    with torch.no_grad():\n",
    "        mean, cov = model(X_test, full_cov = True, noiseless = False)\n",
    "    return multivariate_normal.pdf(y_test, mean, cov)"
   ]
  },
  {
   "cell_type": "code",
   "execution_count": 127,
   "metadata": {},
   "outputs": [],
   "source": [
    "# train GP model using MCMC to allow sampling from posterior for parameters\n",
    "def MCMC(model, i = 0):\n",
    "    nuts_kernel = pyro.infer.NUTS(model.model, jit_compile=True)\n",
    "    mcmc = pyro.infer.MCMC(nuts_kernel, num_samples=250, num_chains=2, warmup_steps=100)\n",
    "    mcmc.run()\n",
    "\n",
    "    data = arviz.from_pyro(mcmc)\n",
    "    summary = arviz.summary(data)\n",
    "    print(summary)\n",
    "\n",
    "    arviz.plot_posterior(data)\n",
    "    plt.tight_layout()\n",
    "    plt.savefig(f\"./images/nuts_posterior_{i}.png\")\n",
    "    plt.close()\n",
    "    arviz.plot_trace(data)\n",
    "    plt.tight_layout()\n",
    "    plt.savefig(f\"./images/nuts_trace_{i}.png\")\n",
    "    plt.close()\n",
    "    samples = mcmc.get_samples()\n",
    "\n",
    "    return samples\n",
    "\n",
    "# calculate posterior likelihood of test data using samples from posterior on parameters\n",
    "def NUTS_likelihood(model, X_test, y_test, n_samples = 500, i = 0):\n",
    "    samples = MCMC(model, i)\n",
    "    plot_model(model, X_train, X_test, y_train, y_test)\n",
    "    plt.tight_layout()\n",
    "    plt.savefig(\"./images/nuts_predictions_\" + str(i) + \".png\")\n",
    "    plt.close()\n",
    "    posterior_predictive = []\n",
    "    \n",
    "    for i in range(n_samples):\n",
    "        pyro.clear_param_store()\n",
    "        fixed_model = gen_model(\n",
    "            priors = False,\n",
    "            lengthRBF=samples['kernel.kern0.lengthscale'][i], \n",
    "            lengthPer=samples['kernel.kern1.lengthscale'][i],\n",
    "            period=samples[\"kernel.kern1.period\"][i]\n",
    "            )\n",
    "\n",
    "        with torch.no_grad():\n",
    "            mean, cov = fixed_model(X_test, full_cov=True, noiseless = False)\n",
    "            posterior_predictive.append((mean, cov))\n",
    "            \n",
    "    likelihood = [multivariate_normal.pdf(y_test, mean, cov) for mean, cov in posterior_predictive]\n",
    "    likelihood = torch.mean(torch.tensor(likelihood))\n",
    "    \n",
    "    return likelihood"
   ]
  },
  {
   "cell_type": "code",
   "execution_count": 128,
   "metadata": {},
   "outputs": [
    {
     "data": {
      "application/vnd.jupyter.widget-view+json": {
       "model_id": "191767ee343f488894f216d5f880b008",
       "version_major": 2,
       "version_minor": 0
      },
      "text/plain": [
       "Warmup [1]:   0%|          | 0/350 [00:00, ?it/s]"
      ]
     },
     "metadata": {},
     "output_type": "display_data"
    },
    {
     "data": {
      "application/vnd.jupyter.widget-view+json": {
       "model_id": "1457ed22907640589bfa17b25a77864a",
       "version_major": 2,
       "version_minor": 0
      },
      "text/plain": [
       "Warmup [2]:   0%|          | 0/350 [00:00, ?it/s]"
      ]
     },
     "metadata": {},
     "output_type": "display_data"
    },
    {
     "name": "stderr",
     "output_type": "stream",
     "text": [
      "/Users/lucaskrieger/Documents/NLP-Project/NLP-Assignment/.conda/lib/python3.10/site-packages/torch/__init__.py:614: UserWarning: torch.set_default_tensor_type() is deprecated as of PyTorch 2.1, please use torch.set_default_dtype() and torch.set_default_device() as alternatives. (Triggered internally at /Users/runner/work/pytorch/pytorch/pytorch/torch/csrc/tensor/python_tensor.cpp:453.)\n",
      "  _C._set_default_tensor_type(t)\n",
      "/Users/lucaskrieger/Documents/NLP-Project/NLP-Assignment/.conda/lib/python3.10/site-packages/torch/__init__.py:614: UserWarning: torch.set_default_tensor_type() is deprecated as of PyTorch 2.1, please use torch.set_default_dtype() and torch.set_default_device() as alternatives. (Triggered internally at /Users/runner/work/pytorch/pytorch/pytorch/torch/csrc/tensor/python_tensor.cpp:453.)\n",
      "  _C._set_default_tensor_type(t)\n",
      "/Users/lucaskrieger/Documents/NLP-Project/NLP-Assignment/.conda/lib/python3.10/site-packages/pyro/contrib/gp/kernels/isotropic.py:49: TracerWarning: Converting a tensor to a Python boolean might cause the trace to be incorrect. We can't record the data flow of Python values, so this value will be treated as a constant in the future. This means that the trace might not generalize to other inputs!\n",
      "  if X.size(1) != Z.size(1):\n",
      "/Users/lucaskrieger/Documents/NLP-Project/NLP-Assignment/.conda/lib/python3.10/site-packages/pyro/contrib/gp/kernels/isotropic.py:49: TracerWarning: Converting a tensor to a Python boolean might cause the trace to be incorrect. We can't record the data flow of Python values, so this value will be treated as a constant in the future. This means that the trace might not generalize to other inputs!\n",
      "  if X.size(1) != Z.size(1):\n",
      "/Users/lucaskrieger/Documents/NLP-Project/NLP-Assignment/.conda/lib/python3.10/site-packages/pyro/contrib/gp/kernels/periodic.py:73: TracerWarning: Converting a tensor to a Python boolean might cause the trace to be incorrect. We can't record the data flow of Python values, so this value will be treated as a constant in the future. This means that the trace might not generalize to other inputs!\n",
      "  if X.size(1) != Z.size(1):\n",
      "/Users/lucaskrieger/Documents/NLP-Project/NLP-Assignment/.conda/lib/python3.10/site-packages/pyro/contrib/gp/kernels/periodic.py:73: TracerWarning: Converting a tensor to a Python boolean might cause the trace to be incorrect. We can't record the data flow of Python values, so this value will be treated as a constant in the future. This means that the trace might not generalize to other inputs!\n",
      "  if X.size(1) != Z.size(1):\n",
      "/Users/lucaskrieger/Documents/NLP-Project/NLP-Assignment/.conda/lib/python3.10/site-packages/pyro/contrib/gp/kernels/isotropic.py:49: TracerWarning: Converting a tensor to a Python boolean might cause the trace to be incorrect. We can't record the data flow of Python values, so this value will be treated as a constant in the future. This means that the trace might not generalize to other inputs!\n",
      "  if X.size(1) != Z.size(1):\n",
      "/Users/lucaskrieger/Documents/NLP-Project/NLP-Assignment/.conda/lib/python3.10/site-packages/pyro/contrib/gp/kernels/periodic.py:73: TracerWarning: Converting a tensor to a Python boolean might cause the trace to be incorrect. We can't record the data flow of Python values, so this value will be treated as a constant in the future. This means that the trace might not generalize to other inputs!\n",
      "  if X.size(1) != Z.size(1):\n"
     ]
    },
    {
     "name": "stdout",
     "output_type": "stream",
     "text": [
      "                           mean     sd  hdi_3%  hdi_97%  mcse_mean  mcse_sd  \\\n",
      "kernel.kern0.lengthscale  0.659  0.237   0.301    1.026      0.056    0.040   \n",
      "kernel.kern1.lengthscale  0.916  0.291   0.322    1.381      0.023    0.016   \n",
      "kernel.kern1.period       0.386  0.192   0.299    0.510      0.081    0.061   \n",
      "\n",
      "                          ess_bulk  ess_tail  r_hat  \n",
      "kernel.kern0.lengthscale      23.0      84.0   1.07  \n",
      "kernel.kern1.lengthscale     150.0     259.0   1.03  \n",
      "kernel.kern1.period            4.0      14.0   1.57  \n"
     ]
    },
    {
     "data": {
      "application/vnd.jupyter.widget-view+json": {
       "model_id": "53b033670a564d3fb554124409c8f69f",
       "version_major": 2,
       "version_minor": 0
      },
      "text/plain": [
       "Warmup [1]:   0%|          | 0/350 [00:00, ?it/s]"
      ]
     },
     "metadata": {},
     "output_type": "display_data"
    },
    {
     "data": {
      "application/vnd.jupyter.widget-view+json": {
       "model_id": "6d3450f69f744046b170a9a2ce357de6",
       "version_major": 2,
       "version_minor": 0
      },
      "text/plain": [
       "Warmup [2]:   0%|          | 0/350 [00:00, ?it/s]"
      ]
     },
     "metadata": {},
     "output_type": "display_data"
    },
    {
     "name": "stderr",
     "output_type": "stream",
     "text": [
      "/Users/lucaskrieger/Documents/NLP-Project/NLP-Assignment/.conda/lib/python3.10/site-packages/torch/__init__.py:614: UserWarning: torch.set_default_tensor_type() is deprecated as of PyTorch 2.1, please use torch.set_default_dtype() and torch.set_default_device() as alternatives. (Triggered internally at /Users/runner/work/pytorch/pytorch/pytorch/torch/csrc/tensor/python_tensor.cpp:453.)\n",
      "  _C._set_default_tensor_type(t)\n",
      "/Users/lucaskrieger/Documents/NLP-Project/NLP-Assignment/.conda/lib/python3.10/site-packages/torch/__init__.py:614: UserWarning: torch.set_default_tensor_type() is deprecated as of PyTorch 2.1, please use torch.set_default_dtype() and torch.set_default_device() as alternatives. (Triggered internally at /Users/runner/work/pytorch/pytorch/pytorch/torch/csrc/tensor/python_tensor.cpp:453.)\n",
      "  _C._set_default_tensor_type(t)\n",
      "/Users/lucaskrieger/Documents/NLP-Project/NLP-Assignment/.conda/lib/python3.10/site-packages/pyro/contrib/gp/kernels/isotropic.py:49: TracerWarning: Converting a tensor to a Python boolean might cause the trace to be incorrect. We can't record the data flow of Python values, so this value will be treated as a constant in the future. This means that the trace might not generalize to other inputs!\n",
      "  if X.size(1) != Z.size(1):\n",
      "/Users/lucaskrieger/Documents/NLP-Project/NLP-Assignment/.conda/lib/python3.10/site-packages/pyro/contrib/gp/kernels/isotropic.py:49: TracerWarning: Converting a tensor to a Python boolean might cause the trace to be incorrect. We can't record the data flow of Python values, so this value will be treated as a constant in the future. This means that the trace might not generalize to other inputs!\n",
      "  if X.size(1) != Z.size(1):\n",
      "/Users/lucaskrieger/Documents/NLP-Project/NLP-Assignment/.conda/lib/python3.10/site-packages/pyro/contrib/gp/kernels/periodic.py:73: TracerWarning: Converting a tensor to a Python boolean might cause the trace to be incorrect. We can't record the data flow of Python values, so this value will be treated as a constant in the future. This means that the trace might not generalize to other inputs!\n",
      "  if X.size(1) != Z.size(1):\n",
      "/Users/lucaskrieger/Documents/NLP-Project/NLP-Assignment/.conda/lib/python3.10/site-packages/pyro/contrib/gp/kernels/periodic.py:73: TracerWarning: Converting a tensor to a Python boolean might cause the trace to be incorrect. We can't record the data flow of Python values, so this value will be treated as a constant in the future. This means that the trace might not generalize to other inputs!\n",
      "  if X.size(1) != Z.size(1):\n",
      "/Users/lucaskrieger/Documents/NLP-Project/NLP-Assignment/.conda/lib/python3.10/site-packages/pyro/contrib/gp/kernels/isotropic.py:49: TracerWarning: Converting a tensor to a Python boolean might cause the trace to be incorrect. We can't record the data flow of Python values, so this value will be treated as a constant in the future. This means that the trace might not generalize to other inputs!\n",
      "  if X.size(1) != Z.size(1):\n",
      "/Users/lucaskrieger/Documents/NLP-Project/NLP-Assignment/.conda/lib/python3.10/site-packages/pyro/contrib/gp/kernels/periodic.py:73: TracerWarning: Converting a tensor to a Python boolean might cause the trace to be incorrect. We can't record the data flow of Python values, so this value will be treated as a constant in the future. This means that the trace might not generalize to other inputs!\n",
      "  if X.size(1) != Z.size(1):\n"
     ]
    },
    {
     "name": "stdout",
     "output_type": "stream",
     "text": [
      "                           mean     sd  hdi_3%  hdi_97%  mcse_mean  mcse_sd  \\\n",
      "kernel.kern0.lengthscale  0.571  0.199   0.276    0.935      0.012    0.009   \n",
      "kernel.kern1.lengthscale  1.011  0.451   0.222    1.744      0.042    0.030   \n",
      "kernel.kern1.period       0.256  0.086   0.162    0.356      0.060    0.050   \n",
      "\n",
      "                          ess_bulk  ess_tail  r_hat  \n",
      "kernel.kern0.lengthscale     357.0     204.0   1.02  \n",
      "kernel.kern1.lengthscale      87.0      46.0   1.13  \n",
      "kernel.kern1.period            3.0      40.0   1.84  \n"
     ]
    },
    {
     "data": {
      "application/vnd.jupyter.widget-view+json": {
       "model_id": "fa76dd00c3234af7b65c88595a69e53b",
       "version_major": 2,
       "version_minor": 0
      },
      "text/plain": [
       "Warmup [1]:   0%|          | 0/350 [00:00, ?it/s]"
      ]
     },
     "metadata": {},
     "output_type": "display_data"
    },
    {
     "data": {
      "application/vnd.jupyter.widget-view+json": {
       "model_id": "35e4da4df83843bea4e8573954f153a5",
       "version_major": 2,
       "version_minor": 0
      },
      "text/plain": [
       "Warmup [2]:   0%|          | 0/350 [00:00, ?it/s]"
      ]
     },
     "metadata": {},
     "output_type": "display_data"
    },
    {
     "name": "stderr",
     "output_type": "stream",
     "text": [
      "/Users/lucaskrieger/Documents/NLP-Project/NLP-Assignment/.conda/lib/python3.10/site-packages/torch/__init__.py:614: UserWarning: torch.set_default_tensor_type() is deprecated as of PyTorch 2.1, please use torch.set_default_dtype() and torch.set_default_device() as alternatives. (Triggered internally at /Users/runner/work/pytorch/pytorch/pytorch/torch/csrc/tensor/python_tensor.cpp:453.)\n",
      "  _C._set_default_tensor_type(t)\n",
      "/Users/lucaskrieger/Documents/NLP-Project/NLP-Assignment/.conda/lib/python3.10/site-packages/torch/__init__.py:614: UserWarning: torch.set_default_tensor_type() is deprecated as of PyTorch 2.1, please use torch.set_default_dtype() and torch.set_default_device() as alternatives. (Triggered internally at /Users/runner/work/pytorch/pytorch/pytorch/torch/csrc/tensor/python_tensor.cpp:453.)\n",
      "  _C._set_default_tensor_type(t)\n",
      "/Users/lucaskrieger/Documents/NLP-Project/NLP-Assignment/.conda/lib/python3.10/site-packages/pyro/contrib/gp/kernels/isotropic.py:49: TracerWarning: Converting a tensor to a Python boolean might cause the trace to be incorrect. We can't record the data flow of Python values, so this value will be treated as a constant in the future. This means that the trace might not generalize to other inputs!\n",
      "  if X.size(1) != Z.size(1):\n",
      "/Users/lucaskrieger/Documents/NLP-Project/NLP-Assignment/.conda/lib/python3.10/site-packages/pyro/contrib/gp/kernels/isotropic.py:49: TracerWarning: Converting a tensor to a Python boolean might cause the trace to be incorrect. We can't record the data flow of Python values, so this value will be treated as a constant in the future. This means that the trace might not generalize to other inputs!\n",
      "  if X.size(1) != Z.size(1):\n",
      "/Users/lucaskrieger/Documents/NLP-Project/NLP-Assignment/.conda/lib/python3.10/site-packages/pyro/contrib/gp/kernels/periodic.py:73: TracerWarning: Converting a tensor to a Python boolean might cause the trace to be incorrect. We can't record the data flow of Python values, so this value will be treated as a constant in the future. This means that the trace might not generalize to other inputs!\n",
      "  if X.size(1) != Z.size(1):\n",
      "/Users/lucaskrieger/Documents/NLP-Project/NLP-Assignment/.conda/lib/python3.10/site-packages/pyro/contrib/gp/kernels/periodic.py:73: TracerWarning: Converting a tensor to a Python boolean might cause the trace to be incorrect. We can't record the data flow of Python values, so this value will be treated as a constant in the future. This means that the trace might not generalize to other inputs!\n",
      "  if X.size(1) != Z.size(1):\n",
      "/Users/lucaskrieger/Documents/NLP-Project/NLP-Assignment/.conda/lib/python3.10/site-packages/pyro/contrib/gp/kernels/isotropic.py:49: TracerWarning: Converting a tensor to a Python boolean might cause the trace to be incorrect. We can't record the data flow of Python values, so this value will be treated as a constant in the future. This means that the trace might not generalize to other inputs!\n",
      "  if X.size(1) != Z.size(1):\n",
      "/Users/lucaskrieger/Documents/NLP-Project/NLP-Assignment/.conda/lib/python3.10/site-packages/pyro/contrib/gp/kernels/periodic.py:73: TracerWarning: Converting a tensor to a Python boolean might cause the trace to be incorrect. We can't record the data flow of Python values, so this value will be treated as a constant in the future. This means that the trace might not generalize to other inputs!\n",
      "  if X.size(1) != Z.size(1):\n"
     ]
    },
    {
     "name": "stdout",
     "output_type": "stream",
     "text": [
      "                           mean     sd  hdi_3%  hdi_97%  mcse_mean  mcse_sd  \\\n",
      "kernel.kern0.lengthscale  0.587  0.200   0.267    0.954      0.015    0.011   \n",
      "kernel.kern1.lengthscale  0.916  0.405   0.136    1.571      0.024    0.017   \n",
      "kernel.kern1.period       0.255  0.084   0.165    0.350      0.058    0.049   \n",
      "\n",
      "                          ess_bulk  ess_tail  r_hat  \n",
      "kernel.kern0.lengthscale     205.0     175.0   1.00  \n",
      "kernel.kern1.lengthscale     228.0      77.0   1.05  \n",
      "kernel.kern1.period            3.0     125.0   1.84  \n"
     ]
    },
    {
     "data": {
      "application/vnd.jupyter.widget-view+json": {
       "model_id": "da229c8a37244ccaaefea204231c10a4",
       "version_major": 2,
       "version_minor": 0
      },
      "text/plain": [
       "Warmup [1]:   0%|          | 0/350 [00:00, ?it/s]"
      ]
     },
     "metadata": {},
     "output_type": "display_data"
    },
    {
     "data": {
      "application/vnd.jupyter.widget-view+json": {
       "model_id": "ffffd9559344498383f74af36e4d7767",
       "version_major": 2,
       "version_minor": 0
      },
      "text/plain": [
       "Warmup [2]:   0%|          | 0/350 [00:00, ?it/s]"
      ]
     },
     "metadata": {},
     "output_type": "display_data"
    },
    {
     "name": "stderr",
     "output_type": "stream",
     "text": [
      "/Users/lucaskrieger/Documents/NLP-Project/NLP-Assignment/.conda/lib/python3.10/site-packages/torch/__init__.py:614: UserWarning: torch.set_default_tensor_type() is deprecated as of PyTorch 2.1, please use torch.set_default_dtype() and torch.set_default_device() as alternatives. (Triggered internally at /Users/runner/work/pytorch/pytorch/pytorch/torch/csrc/tensor/python_tensor.cpp:453.)\n",
      "  _C._set_default_tensor_type(t)\n",
      "/Users/lucaskrieger/Documents/NLP-Project/NLP-Assignment/.conda/lib/python3.10/site-packages/torch/__init__.py:614: UserWarning: torch.set_default_tensor_type() is deprecated as of PyTorch 2.1, please use torch.set_default_dtype() and torch.set_default_device() as alternatives. (Triggered internally at /Users/runner/work/pytorch/pytorch/pytorch/torch/csrc/tensor/python_tensor.cpp:453.)\n",
      "  _C._set_default_tensor_type(t)\n",
      "/Users/lucaskrieger/Documents/NLP-Project/NLP-Assignment/.conda/lib/python3.10/site-packages/pyro/contrib/gp/kernels/isotropic.py:49: TracerWarning: Converting a tensor to a Python boolean might cause the trace to be incorrect. We can't record the data flow of Python values, so this value will be treated as a constant in the future. This means that the trace might not generalize to other inputs!\n",
      "  if X.size(1) != Z.size(1):\n",
      "/Users/lucaskrieger/Documents/NLP-Project/NLP-Assignment/.conda/lib/python3.10/site-packages/pyro/contrib/gp/kernels/isotropic.py:49: TracerWarning: Converting a tensor to a Python boolean might cause the trace to be incorrect. We can't record the data flow of Python values, so this value will be treated as a constant in the future. This means that the trace might not generalize to other inputs!\n",
      "  if X.size(1) != Z.size(1):\n",
      "/Users/lucaskrieger/Documents/NLP-Project/NLP-Assignment/.conda/lib/python3.10/site-packages/pyro/contrib/gp/kernels/periodic.py:73: TracerWarning: Converting a tensor to a Python boolean might cause the trace to be incorrect. We can't record the data flow of Python values, so this value will be treated as a constant in the future. This means that the trace might not generalize to other inputs!\n",
      "  if X.size(1) != Z.size(1):\n",
      "/Users/lucaskrieger/Documents/NLP-Project/NLP-Assignment/.conda/lib/python3.10/site-packages/pyro/contrib/gp/kernels/periodic.py:73: TracerWarning: Converting a tensor to a Python boolean might cause the trace to be incorrect. We can't record the data flow of Python values, so this value will be treated as a constant in the future. This means that the trace might not generalize to other inputs!\n",
      "  if X.size(1) != Z.size(1):\n",
      "/Users/lucaskrieger/Documents/NLP-Project/NLP-Assignment/.conda/lib/python3.10/site-packages/pyro/contrib/gp/kernels/isotropic.py:49: TracerWarning: Converting a tensor to a Python boolean might cause the trace to be incorrect. We can't record the data flow of Python values, so this value will be treated as a constant in the future. This means that the trace might not generalize to other inputs!\n",
      "  if X.size(1) != Z.size(1):\n",
      "/Users/lucaskrieger/Documents/NLP-Project/NLP-Assignment/.conda/lib/python3.10/site-packages/pyro/contrib/gp/kernels/periodic.py:73: TracerWarning: Converting a tensor to a Python boolean might cause the trace to be incorrect. We can't record the data flow of Python values, so this value will be treated as a constant in the future. This means that the trace might not generalize to other inputs!\n",
      "  if X.size(1) != Z.size(1):\n"
     ]
    },
    {
     "name": "stdout",
     "output_type": "stream",
     "text": [
      "                           mean     sd  hdi_3%  hdi_97%  mcse_mean  mcse_sd  \\\n",
      "kernel.kern0.lengthscale  0.609  0.173   0.353    0.985      0.012    0.009   \n",
      "kernel.kern1.lengthscale  0.987  0.305   0.521    1.617      0.044    0.032   \n",
      "kernel.kern1.period       0.391  0.183   0.303    0.528      0.063    0.046   \n",
      "\n",
      "                          ess_bulk  ess_tail  r_hat  \n",
      "kernel.kern0.lengthscale     222.0     213.0   1.01  \n",
      "kernel.kern1.lengthscale      33.0     149.0   1.08  \n",
      "kernel.kern1.period            5.0      29.0   1.45  \n"
     ]
    },
    {
     "data": {
      "application/vnd.jupyter.widget-view+json": {
       "model_id": "e3b8db8194844e6d90aeb2c1de958207",
       "version_major": 2,
       "version_minor": 0
      },
      "text/plain": [
       "Warmup [1]:   0%|          | 0/350 [00:00, ?it/s]"
      ]
     },
     "metadata": {},
     "output_type": "display_data"
    },
    {
     "data": {
      "application/vnd.jupyter.widget-view+json": {
       "model_id": "5fa9ea3eb3814c2182f9794a09e981eb",
       "version_major": 2,
       "version_minor": 0
      },
      "text/plain": [
       "Warmup [2]:   0%|          | 0/350 [00:00, ?it/s]"
      ]
     },
     "metadata": {},
     "output_type": "display_data"
    },
    {
     "name": "stderr",
     "output_type": "stream",
     "text": [
      "/Users/lucaskrieger/Documents/NLP-Project/NLP-Assignment/.conda/lib/python3.10/site-packages/torch/__init__.py:614: UserWarning: torch.set_default_tensor_type() is deprecated as of PyTorch 2.1, please use torch.set_default_dtype() and torch.set_default_device() as alternatives. (Triggered internally at /Users/runner/work/pytorch/pytorch/pytorch/torch/csrc/tensor/python_tensor.cpp:453.)\n",
      "  _C._set_default_tensor_type(t)\n",
      "/Users/lucaskrieger/Documents/NLP-Project/NLP-Assignment/.conda/lib/python3.10/site-packages/torch/__init__.py:614: UserWarning: torch.set_default_tensor_type() is deprecated as of PyTorch 2.1, please use torch.set_default_dtype() and torch.set_default_device() as alternatives. (Triggered internally at /Users/runner/work/pytorch/pytorch/pytorch/torch/csrc/tensor/python_tensor.cpp:453.)\n",
      "  _C._set_default_tensor_type(t)\n",
      "/Users/lucaskrieger/Documents/NLP-Project/NLP-Assignment/.conda/lib/python3.10/site-packages/pyro/contrib/gp/kernels/isotropic.py:49: TracerWarning: Converting a tensor to a Python boolean might cause the trace to be incorrect. We can't record the data flow of Python values, so this value will be treated as a constant in the future. This means that the trace might not generalize to other inputs!\n",
      "  if X.size(1) != Z.size(1):\n",
      "/Users/lucaskrieger/Documents/NLP-Project/NLP-Assignment/.conda/lib/python3.10/site-packages/pyro/contrib/gp/kernels/isotropic.py:49: TracerWarning: Converting a tensor to a Python boolean might cause the trace to be incorrect. We can't record the data flow of Python values, so this value will be treated as a constant in the future. This means that the trace might not generalize to other inputs!\n",
      "  if X.size(1) != Z.size(1):\n",
      "/Users/lucaskrieger/Documents/NLP-Project/NLP-Assignment/.conda/lib/python3.10/site-packages/pyro/contrib/gp/kernels/periodic.py:73: TracerWarning: Converting a tensor to a Python boolean might cause the trace to be incorrect. We can't record the data flow of Python values, so this value will be treated as a constant in the future. This means that the trace might not generalize to other inputs!\n",
      "  if X.size(1) != Z.size(1):\n",
      "/Users/lucaskrieger/Documents/NLP-Project/NLP-Assignment/.conda/lib/python3.10/site-packages/pyro/contrib/gp/kernels/periodic.py:73: TracerWarning: Converting a tensor to a Python boolean might cause the trace to be incorrect. We can't record the data flow of Python values, so this value will be treated as a constant in the future. This means that the trace might not generalize to other inputs!\n",
      "  if X.size(1) != Z.size(1):\n",
      "/Users/lucaskrieger/Documents/NLP-Project/NLP-Assignment/.conda/lib/python3.10/site-packages/pyro/contrib/gp/kernels/isotropic.py:49: TracerWarning: Converting a tensor to a Python boolean might cause the trace to be incorrect. We can't record the data flow of Python values, so this value will be treated as a constant in the future. This means that the trace might not generalize to other inputs!\n",
      "  if X.size(1) != Z.size(1):\n",
      "/Users/lucaskrieger/Documents/NLP-Project/NLP-Assignment/.conda/lib/python3.10/site-packages/pyro/contrib/gp/kernels/periodic.py:73: TracerWarning: Converting a tensor to a Python boolean might cause the trace to be incorrect. We can't record the data flow of Python values, so this value will be treated as a constant in the future. This means that the trace might not generalize to other inputs!\n",
      "  if X.size(1) != Z.size(1):\n"
     ]
    },
    {
     "name": "stdout",
     "output_type": "stream",
     "text": [
      "                           mean     sd  hdi_3%  hdi_97%  mcse_mean  mcse_sd  \\\n",
      "kernel.kern0.lengthscale  0.632  0.207   0.335    0.996      0.013    0.010   \n",
      "kernel.kern1.lengthscale  0.954  0.278   0.478    1.545      0.013    0.009   \n",
      "kernel.kern1.period       0.332  0.010   0.313    0.351      0.001    0.000   \n",
      "\n",
      "                          ess_bulk  ess_tail  r_hat  \n",
      "kernel.kern0.lengthscale     323.0     222.0    1.0  \n",
      "kernel.kern1.lengthscale     432.0     255.0    1.0  \n",
      "kernel.kern1.period          395.0     313.0    1.0  \n"
     ]
    },
    {
     "data": {
      "application/vnd.jupyter.widget-view+json": {
       "model_id": "a309b91e4c894806b6c2f3942c0aa632",
       "version_major": 2,
       "version_minor": 0
      },
      "text/plain": [
       "Warmup [1]:   0%|          | 0/350 [00:00, ?it/s]"
      ]
     },
     "metadata": {},
     "output_type": "display_data"
    },
    {
     "data": {
      "application/vnd.jupyter.widget-view+json": {
       "model_id": "635c02714e394136a8b81eb2a9982bd0",
       "version_major": 2,
       "version_minor": 0
      },
      "text/plain": [
       "Warmup [2]:   0%|          | 0/350 [00:00, ?it/s]"
      ]
     },
     "metadata": {},
     "output_type": "display_data"
    },
    {
     "name": "stderr",
     "output_type": "stream",
     "text": [
      "/Users/lucaskrieger/Documents/NLP-Project/NLP-Assignment/.conda/lib/python3.10/site-packages/torch/__init__.py:614: UserWarning: torch.set_default_tensor_type() is deprecated as of PyTorch 2.1, please use torch.set_default_dtype() and torch.set_default_device() as alternatives. (Triggered internally at /Users/runner/work/pytorch/pytorch/pytorch/torch/csrc/tensor/python_tensor.cpp:453.)\n",
      "  _C._set_default_tensor_type(t)\n",
      "/Users/lucaskrieger/Documents/NLP-Project/NLP-Assignment/.conda/lib/python3.10/site-packages/torch/__init__.py:614: UserWarning: torch.set_default_tensor_type() is deprecated as of PyTorch 2.1, please use torch.set_default_dtype() and torch.set_default_device() as alternatives. (Triggered internally at /Users/runner/work/pytorch/pytorch/pytorch/torch/csrc/tensor/python_tensor.cpp:453.)\n",
      "  _C._set_default_tensor_type(t)\n",
      "/Users/lucaskrieger/Documents/NLP-Project/NLP-Assignment/.conda/lib/python3.10/site-packages/pyro/contrib/gp/kernels/isotropic.py:49: TracerWarning: Converting a tensor to a Python boolean might cause the trace to be incorrect. We can't record the data flow of Python values, so this value will be treated as a constant in the future. This means that the trace might not generalize to other inputs!\n",
      "  if X.size(1) != Z.size(1):\n",
      "/Users/lucaskrieger/Documents/NLP-Project/NLP-Assignment/.conda/lib/python3.10/site-packages/pyro/contrib/gp/kernels/isotropic.py:49: TracerWarning: Converting a tensor to a Python boolean might cause the trace to be incorrect. We can't record the data flow of Python values, so this value will be treated as a constant in the future. This means that the trace might not generalize to other inputs!\n",
      "  if X.size(1) != Z.size(1):\n",
      "/Users/lucaskrieger/Documents/NLP-Project/NLP-Assignment/.conda/lib/python3.10/site-packages/pyro/contrib/gp/kernels/periodic.py:73: TracerWarning: Converting a tensor to a Python boolean might cause the trace to be incorrect. We can't record the data flow of Python values, so this value will be treated as a constant in the future. This means that the trace might not generalize to other inputs!\n",
      "  if X.size(1) != Z.size(1):\n",
      "/Users/lucaskrieger/Documents/NLP-Project/NLP-Assignment/.conda/lib/python3.10/site-packages/pyro/contrib/gp/kernels/periodic.py:73: TracerWarning: Converting a tensor to a Python boolean might cause the trace to be incorrect. We can't record the data flow of Python values, so this value will be treated as a constant in the future. This means that the trace might not generalize to other inputs!\n",
      "  if X.size(1) != Z.size(1):\n",
      "/Users/lucaskrieger/Documents/NLP-Project/NLP-Assignment/.conda/lib/python3.10/site-packages/pyro/contrib/gp/kernels/isotropic.py:49: TracerWarning: Converting a tensor to a Python boolean might cause the trace to be incorrect. We can't record the data flow of Python values, so this value will be treated as a constant in the future. This means that the trace might not generalize to other inputs!\n",
      "  if X.size(1) != Z.size(1):\n",
      "/Users/lucaskrieger/Documents/NLP-Project/NLP-Assignment/.conda/lib/python3.10/site-packages/pyro/contrib/gp/kernels/periodic.py:73: TracerWarning: Converting a tensor to a Python boolean might cause the trace to be incorrect. We can't record the data flow of Python values, so this value will be treated as a constant in the future. This means that the trace might not generalize to other inputs!\n",
      "  if X.size(1) != Z.size(1):\n"
     ]
    },
    {
     "name": "stdout",
     "output_type": "stream",
     "text": [
      "                           mean     sd  hdi_3%  hdi_97%  mcse_mean  mcse_sd  \\\n",
      "kernel.kern0.lengthscale  0.795  0.362   0.301    1.492      0.085    0.061   \n",
      "kernel.kern1.lengthscale  0.835  0.348   0.242    1.379      0.107    0.078   \n",
      "kernel.kern1.period       0.601  0.393   0.278    1.372      0.213    0.165   \n",
      "\n",
      "                          ess_bulk  ess_tail  r_hat  \n",
      "kernel.kern0.lengthscale      21.0     192.0   1.08  \n",
      "kernel.kern1.lengthscale       9.0     110.0   1.19  \n",
      "kernel.kern1.period            3.0      60.0   1.89  \n"
     ]
    },
    {
     "data": {
      "application/vnd.jupyter.widget-view+json": {
       "model_id": "1488c0d4d0464b0b86c4705ba2704d1e",
       "version_major": 2,
       "version_minor": 0
      },
      "text/plain": [
       "Warmup [1]:   0%|          | 0/350 [00:00, ?it/s]"
      ]
     },
     "metadata": {},
     "output_type": "display_data"
    },
    {
     "data": {
      "application/vnd.jupyter.widget-view+json": {
       "model_id": "d3f25f1877814b3988a89644907c04f6",
       "version_major": 2,
       "version_minor": 0
      },
      "text/plain": [
       "Warmup [2]:   0%|          | 0/350 [00:00, ?it/s]"
      ]
     },
     "metadata": {},
     "output_type": "display_data"
    },
    {
     "name": "stderr",
     "output_type": "stream",
     "text": [
      "/Users/lucaskrieger/Documents/NLP-Project/NLP-Assignment/.conda/lib/python3.10/site-packages/torch/__init__.py:614: UserWarning: torch.set_default_tensor_type() is deprecated as of PyTorch 2.1, please use torch.set_default_dtype() and torch.set_default_device() as alternatives. (Triggered internally at /Users/runner/work/pytorch/pytorch/pytorch/torch/csrc/tensor/python_tensor.cpp:453.)\n",
      "  _C._set_default_tensor_type(t)\n",
      "/Users/lucaskrieger/Documents/NLP-Project/NLP-Assignment/.conda/lib/python3.10/site-packages/torch/__init__.py:614: UserWarning: torch.set_default_tensor_type() is deprecated as of PyTorch 2.1, please use torch.set_default_dtype() and torch.set_default_device() as alternatives. (Triggered internally at /Users/runner/work/pytorch/pytorch/pytorch/torch/csrc/tensor/python_tensor.cpp:453.)\n",
      "  _C._set_default_tensor_type(t)\n",
      "/Users/lucaskrieger/Documents/NLP-Project/NLP-Assignment/.conda/lib/python3.10/site-packages/pyro/contrib/gp/kernels/isotropic.py:49: TracerWarning: Converting a tensor to a Python boolean might cause the trace to be incorrect. We can't record the data flow of Python values, so this value will be treated as a constant in the future. This means that the trace might not generalize to other inputs!\n",
      "  if X.size(1) != Z.size(1):\n",
      "/Users/lucaskrieger/Documents/NLP-Project/NLP-Assignment/.conda/lib/python3.10/site-packages/pyro/contrib/gp/kernels/periodic.py:73: TracerWarning: Converting a tensor to a Python boolean might cause the trace to be incorrect. We can't record the data flow of Python values, so this value will be treated as a constant in the future. This means that the trace might not generalize to other inputs!\n",
      "  if X.size(1) != Z.size(1):\n",
      "/Users/lucaskrieger/Documents/NLP-Project/NLP-Assignment/.conda/lib/python3.10/site-packages/pyro/contrib/gp/kernels/isotropic.py:49: TracerWarning: Converting a tensor to a Python boolean might cause the trace to be incorrect. We can't record the data flow of Python values, so this value will be treated as a constant in the future. This means that the trace might not generalize to other inputs!\n",
      "  if X.size(1) != Z.size(1):\n",
      "/Users/lucaskrieger/Documents/NLP-Project/NLP-Assignment/.conda/lib/python3.10/site-packages/pyro/contrib/gp/kernels/periodic.py:73: TracerWarning: Converting a tensor to a Python boolean might cause the trace to be incorrect. We can't record the data flow of Python values, so this value will be treated as a constant in the future. This means that the trace might not generalize to other inputs!\n",
      "  if X.size(1) != Z.size(1):\n",
      "/Users/lucaskrieger/Documents/NLP-Project/NLP-Assignment/.conda/lib/python3.10/site-packages/pyro/contrib/gp/kernels/isotropic.py:49: TracerWarning: Converting a tensor to a Python boolean might cause the trace to be incorrect. We can't record the data flow of Python values, so this value will be treated as a constant in the future. This means that the trace might not generalize to other inputs!\n",
      "  if X.size(1) != Z.size(1):\n",
      "/Users/lucaskrieger/Documents/NLP-Project/NLP-Assignment/.conda/lib/python3.10/site-packages/pyro/contrib/gp/kernels/periodic.py:73: TracerWarning: Converting a tensor to a Python boolean might cause the trace to be incorrect. We can't record the data flow of Python values, so this value will be treated as a constant in the future. This means that the trace might not generalize to other inputs!\n",
      "  if X.size(1) != Z.size(1):\n"
     ]
    },
    {
     "name": "stdout",
     "output_type": "stream",
     "text": [
      "                           mean     sd  hdi_3%  hdi_97%  mcse_mean  mcse_sd  \\\n",
      "kernel.kern0.lengthscale  0.747  0.303   0.256    1.302      0.064    0.046   \n",
      "kernel.kern1.lengthscale  0.743  0.269   0.322    1.226      0.128    0.098   \n",
      "kernel.kern1.period       0.568  0.275   0.315    1.066      0.170    0.137   \n",
      "\n",
      "                          ess_bulk  ess_tail  r_hat  \n",
      "kernel.kern0.lengthscale      33.0      81.0   1.07  \n",
      "kernel.kern1.lengthscale       4.0     212.0   1.46  \n",
      "kernel.kern1.period            3.0      59.0   1.87  \n"
     ]
    },
    {
     "data": {
      "application/vnd.jupyter.widget-view+json": {
       "model_id": "cb5f90527a454b6fa3e2a77e72e1f7ac",
       "version_major": 2,
       "version_minor": 0
      },
      "text/plain": [
       "Warmup [1]:   0%|          | 0/350 [00:00, ?it/s]"
      ]
     },
     "metadata": {},
     "output_type": "display_data"
    },
    {
     "data": {
      "application/vnd.jupyter.widget-view+json": {
       "model_id": "94991dd0f6b7435eb2bb4463408c3779",
       "version_major": 2,
       "version_minor": 0
      },
      "text/plain": [
       "Warmup [2]:   0%|          | 0/350 [00:00, ?it/s]"
      ]
     },
     "metadata": {},
     "output_type": "display_data"
    },
    {
     "name": "stderr",
     "output_type": "stream",
     "text": [
      "/Users/lucaskrieger/Documents/NLP-Project/NLP-Assignment/.conda/lib/python3.10/site-packages/torch/__init__.py:614: UserWarning: torch.set_default_tensor_type() is deprecated as of PyTorch 2.1, please use torch.set_default_dtype() and torch.set_default_device() as alternatives. (Triggered internally at /Users/runner/work/pytorch/pytorch/pytorch/torch/csrc/tensor/python_tensor.cpp:453.)\n",
      "  _C._set_default_tensor_type(t)\n",
      "/Users/lucaskrieger/Documents/NLP-Project/NLP-Assignment/.conda/lib/python3.10/site-packages/torch/__init__.py:614: UserWarning: torch.set_default_tensor_type() is deprecated as of PyTorch 2.1, please use torch.set_default_dtype() and torch.set_default_device() as alternatives. (Triggered internally at /Users/runner/work/pytorch/pytorch/pytorch/torch/csrc/tensor/python_tensor.cpp:453.)\n",
      "  _C._set_default_tensor_type(t)\n",
      "/Users/lucaskrieger/Documents/NLP-Project/NLP-Assignment/.conda/lib/python3.10/site-packages/pyro/contrib/gp/kernels/isotropic.py:49: TracerWarning: Converting a tensor to a Python boolean might cause the trace to be incorrect. We can't record the data flow of Python values, so this value will be treated as a constant in the future. This means that the trace might not generalize to other inputs!\n",
      "  if X.size(1) != Z.size(1):\n",
      "/Users/lucaskrieger/Documents/NLP-Project/NLP-Assignment/.conda/lib/python3.10/site-packages/pyro/contrib/gp/kernels/periodic.py:73: TracerWarning: Converting a tensor to a Python boolean might cause the trace to be incorrect. We can't record the data flow of Python values, so this value will be treated as a constant in the future. This means that the trace might not generalize to other inputs!\n",
      "  if X.size(1) != Z.size(1):\n",
      "/Users/lucaskrieger/Documents/NLP-Project/NLP-Assignment/.conda/lib/python3.10/site-packages/pyro/contrib/gp/kernels/isotropic.py:49: TracerWarning: Converting a tensor to a Python boolean might cause the trace to be incorrect. We can't record the data flow of Python values, so this value will be treated as a constant in the future. This means that the trace might not generalize to other inputs!\n",
      "  if X.size(1) != Z.size(1):\n",
      "/Users/lucaskrieger/Documents/NLP-Project/NLP-Assignment/.conda/lib/python3.10/site-packages/pyro/contrib/gp/kernels/periodic.py:73: TracerWarning: Converting a tensor to a Python boolean might cause the trace to be incorrect. We can't record the data flow of Python values, so this value will be treated as a constant in the future. This means that the trace might not generalize to other inputs!\n",
      "  if X.size(1) != Z.size(1):\n",
      "/Users/lucaskrieger/Documents/NLP-Project/NLP-Assignment/.conda/lib/python3.10/site-packages/pyro/contrib/gp/kernels/isotropic.py:49: TracerWarning: Converting a tensor to a Python boolean might cause the trace to be incorrect. We can't record the data flow of Python values, so this value will be treated as a constant in the future. This means that the trace might not generalize to other inputs!\n",
      "  if X.size(1) != Z.size(1):\n",
      "/Users/lucaskrieger/Documents/NLP-Project/NLP-Assignment/.conda/lib/python3.10/site-packages/pyro/contrib/gp/kernels/periodic.py:73: TracerWarning: Converting a tensor to a Python boolean might cause the trace to be incorrect. We can't record the data flow of Python values, so this value will be treated as a constant in the future. This means that the trace might not generalize to other inputs!\n",
      "  if X.size(1) != Z.size(1):\n"
     ]
    },
    {
     "name": "stdout",
     "output_type": "stream",
     "text": [
      "                           mean     sd  hdi_3%  hdi_97%  mcse_mean  mcse_sd  \\\n",
      "kernel.kern0.lengthscale  0.808  0.487   0.273    1.636      0.124    0.090   \n",
      "kernel.kern1.lengthscale  0.788  0.320   0.275    1.326      0.149    0.113   \n",
      "kernel.kern1.period       0.593  0.340   0.316    1.171      0.186    0.146   \n",
      "\n",
      "                          ess_bulk  ess_tail  r_hat  \n",
      "kernel.kern0.lengthscale      18.0     109.0   1.13  \n",
      "kernel.kern1.lengthscale       4.0      77.0   1.39  \n",
      "kernel.kern1.period            3.0     124.0   1.72  \n"
     ]
    },
    {
     "data": {
      "application/vnd.jupyter.widget-view+json": {
       "model_id": "d7cfdba49ca946cc8c1b1061038f7af0",
       "version_major": 2,
       "version_minor": 0
      },
      "text/plain": [
       "Warmup [1]:   0%|          | 0/350 [00:00, ?it/s]"
      ]
     },
     "metadata": {},
     "output_type": "display_data"
    },
    {
     "data": {
      "application/vnd.jupyter.widget-view+json": {
       "model_id": "38dffe2cc8654e6b837491a9bbfc584f",
       "version_major": 2,
       "version_minor": 0
      },
      "text/plain": [
       "Warmup [2]:   0%|          | 0/350 [00:00, ?it/s]"
      ]
     },
     "metadata": {},
     "output_type": "display_data"
    },
    {
     "name": "stderr",
     "output_type": "stream",
     "text": [
      "/Users/lucaskrieger/Documents/NLP-Project/NLP-Assignment/.conda/lib/python3.10/site-packages/torch/__init__.py:614: UserWarning: torch.set_default_tensor_type() is deprecated as of PyTorch 2.1, please use torch.set_default_dtype() and torch.set_default_device() as alternatives. (Triggered internally at /Users/runner/work/pytorch/pytorch/pytorch/torch/csrc/tensor/python_tensor.cpp:453.)\n",
      "  _C._set_default_tensor_type(t)\n",
      "/Users/lucaskrieger/Documents/NLP-Project/NLP-Assignment/.conda/lib/python3.10/site-packages/torch/__init__.py:614: UserWarning: torch.set_default_tensor_type() is deprecated as of PyTorch 2.1, please use torch.set_default_dtype() and torch.set_default_device() as alternatives. (Triggered internally at /Users/runner/work/pytorch/pytorch/pytorch/torch/csrc/tensor/python_tensor.cpp:453.)\n",
      "  _C._set_default_tensor_type(t)\n",
      "/Users/lucaskrieger/Documents/NLP-Project/NLP-Assignment/.conda/lib/python3.10/site-packages/pyro/contrib/gp/kernels/isotropic.py:49: TracerWarning: Converting a tensor to a Python boolean might cause the trace to be incorrect. We can't record the data flow of Python values, so this value will be treated as a constant in the future. This means that the trace might not generalize to other inputs!\n",
      "  if X.size(1) != Z.size(1):\n",
      "/Users/lucaskrieger/Documents/NLP-Project/NLP-Assignment/.conda/lib/python3.10/site-packages/pyro/contrib/gp/kernels/isotropic.py:49: TracerWarning: Converting a tensor to a Python boolean might cause the trace to be incorrect. We can't record the data flow of Python values, so this value will be treated as a constant in the future. This means that the trace might not generalize to other inputs!\n",
      "  if X.size(1) != Z.size(1):\n",
      "/Users/lucaskrieger/Documents/NLP-Project/NLP-Assignment/.conda/lib/python3.10/site-packages/pyro/contrib/gp/kernels/periodic.py:73: TracerWarning: Converting a tensor to a Python boolean might cause the trace to be incorrect. We can't record the data flow of Python values, so this value will be treated as a constant in the future. This means that the trace might not generalize to other inputs!\n",
      "  if X.size(1) != Z.size(1):\n",
      "/Users/lucaskrieger/Documents/NLP-Project/NLP-Assignment/.conda/lib/python3.10/site-packages/pyro/contrib/gp/kernels/periodic.py:73: TracerWarning: Converting a tensor to a Python boolean might cause the trace to be incorrect. We can't record the data flow of Python values, so this value will be treated as a constant in the future. This means that the trace might not generalize to other inputs!\n",
      "  if X.size(1) != Z.size(1):\n",
      "/Users/lucaskrieger/Documents/NLP-Project/NLP-Assignment/.conda/lib/python3.10/site-packages/pyro/contrib/gp/kernels/isotropic.py:49: TracerWarning: Converting a tensor to a Python boolean might cause the trace to be incorrect. We can't record the data flow of Python values, so this value will be treated as a constant in the future. This means that the trace might not generalize to other inputs!\n",
      "  if X.size(1) != Z.size(1):\n",
      "/Users/lucaskrieger/Documents/NLP-Project/NLP-Assignment/.conda/lib/python3.10/site-packages/pyro/contrib/gp/kernels/periodic.py:73: TracerWarning: Converting a tensor to a Python boolean might cause the trace to be incorrect. We can't record the data flow of Python values, so this value will be treated as a constant in the future. This means that the trace might not generalize to other inputs!\n",
      "  if X.size(1) != Z.size(1):\n"
     ]
    },
    {
     "name": "stdout",
     "output_type": "stream",
     "text": [
      "                           mean     sd  hdi_3%  hdi_97%  mcse_mean  mcse_sd  \\\n",
      "kernel.kern0.lengthscale  0.658  0.194   0.344    1.000      0.012    0.008   \n",
      "kernel.kern1.lengthscale  0.861  0.254   0.414    1.350      0.083    0.061   \n",
      "kernel.kern1.period       0.418  0.083   0.320    0.522      0.057    0.048   \n",
      "\n",
      "                          ess_bulk  ess_tail  r_hat  \n",
      "kernel.kern0.lengthscale     273.0     246.0   1.00  \n",
      "kernel.kern1.lengthscale      10.0      96.0   1.14  \n",
      "kernel.kern1.period            3.0     199.0   1.83  \n"
     ]
    },
    {
     "data": {
      "application/vnd.jupyter.widget-view+json": {
       "model_id": "aabad637dd4242ecaec5d7f1c54e39bc",
       "version_major": 2,
       "version_minor": 0
      },
      "text/plain": [
       "Warmup [1]:   0%|          | 0/350 [00:00, ?it/s]"
      ]
     },
     "metadata": {},
     "output_type": "display_data"
    },
    {
     "data": {
      "application/vnd.jupyter.widget-view+json": {
       "model_id": "c36d9ee974274744bbd139c9e99833a9",
       "version_major": 2,
       "version_minor": 0
      },
      "text/plain": [
       "Warmup [2]:   0%|          | 0/350 [00:00, ?it/s]"
      ]
     },
     "metadata": {},
     "output_type": "display_data"
    },
    {
     "name": "stderr",
     "output_type": "stream",
     "text": [
      "/Users/lucaskrieger/Documents/NLP-Project/NLP-Assignment/.conda/lib/python3.10/site-packages/torch/__init__.py:614: UserWarning: torch.set_default_tensor_type() is deprecated as of PyTorch 2.1, please use torch.set_default_dtype() and torch.set_default_device() as alternatives. (Triggered internally at /Users/runner/work/pytorch/pytorch/pytorch/torch/csrc/tensor/python_tensor.cpp:453.)\n",
      "  _C._set_default_tensor_type(t)\n",
      "/Users/lucaskrieger/Documents/NLP-Project/NLP-Assignment/.conda/lib/python3.10/site-packages/torch/__init__.py:614: UserWarning: torch.set_default_tensor_type() is deprecated as of PyTorch 2.1, please use torch.set_default_dtype() and torch.set_default_device() as alternatives. (Triggered internally at /Users/runner/work/pytorch/pytorch/pytorch/torch/csrc/tensor/python_tensor.cpp:453.)\n",
      "  _C._set_default_tensor_type(t)\n",
      "/Users/lucaskrieger/Documents/NLP-Project/NLP-Assignment/.conda/lib/python3.10/site-packages/pyro/contrib/gp/kernels/isotropic.py:49: TracerWarning: Converting a tensor to a Python boolean might cause the trace to be incorrect. We can't record the data flow of Python values, so this value will be treated as a constant in the future. This means that the trace might not generalize to other inputs!\n",
      "  if X.size(1) != Z.size(1):\n",
      "/Users/lucaskrieger/Documents/NLP-Project/NLP-Assignment/.conda/lib/python3.10/site-packages/pyro/contrib/gp/kernels/isotropic.py:49: TracerWarning: Converting a tensor to a Python boolean might cause the trace to be incorrect. We can't record the data flow of Python values, so this value will be treated as a constant in the future. This means that the trace might not generalize to other inputs!\n",
      "  if X.size(1) != Z.size(1):\n",
      "/Users/lucaskrieger/Documents/NLP-Project/NLP-Assignment/.conda/lib/python3.10/site-packages/pyro/contrib/gp/kernels/periodic.py:73: TracerWarning: Converting a tensor to a Python boolean might cause the trace to be incorrect. We can't record the data flow of Python values, so this value will be treated as a constant in the future. This means that the trace might not generalize to other inputs!\n",
      "  if X.size(1) != Z.size(1):\n",
      "/Users/lucaskrieger/Documents/NLP-Project/NLP-Assignment/.conda/lib/python3.10/site-packages/pyro/contrib/gp/kernels/periodic.py:73: TracerWarning: Converting a tensor to a Python boolean might cause the trace to be incorrect. We can't record the data flow of Python values, so this value will be treated as a constant in the future. This means that the trace might not generalize to other inputs!\n",
      "  if X.size(1) != Z.size(1):\n",
      "/Users/lucaskrieger/Documents/NLP-Project/NLP-Assignment/.conda/lib/python3.10/site-packages/pyro/contrib/gp/kernels/isotropic.py:49: TracerWarning: Converting a tensor to a Python boolean might cause the trace to be incorrect. We can't record the data flow of Python values, so this value will be treated as a constant in the future. This means that the trace might not generalize to other inputs!\n",
      "  if X.size(1) != Z.size(1):\n",
      "/Users/lucaskrieger/Documents/NLP-Project/NLP-Assignment/.conda/lib/python3.10/site-packages/pyro/contrib/gp/kernels/periodic.py:73: TracerWarning: Converting a tensor to a Python boolean might cause the trace to be incorrect. We can't record the data flow of Python values, so this value will be treated as a constant in the future. This means that the trace might not generalize to other inputs!\n",
      "  if X.size(1) != Z.size(1):\n"
     ]
    },
    {
     "name": "stdout",
     "output_type": "stream",
     "text": [
      "                           mean     sd  hdi_3%  hdi_97%  mcse_mean  mcse_sd  \\\n",
      "kernel.kern0.lengthscale  0.756  0.271   0.317    1.262      0.097    0.071   \n",
      "kernel.kern1.lengthscale  0.798  0.318   0.279    1.353      0.113    0.083   \n",
      "kernel.kern1.period       0.571  0.280   0.311    1.041      0.168    0.134   \n",
      "\n",
      "                          ess_bulk  ess_tail  r_hat  \n",
      "kernel.kern0.lengthscale       8.0     155.0   1.19  \n",
      "kernel.kern1.lengthscale       8.0      91.0   1.19  \n",
      "kernel.kern1.period            3.0      40.0   1.86  \n"
     ]
    },
    {
     "data": {
      "application/vnd.jupyter.widget-view+json": {
       "model_id": "40024c2aa2a4495e968ac7cac8662b22",
       "version_major": 2,
       "version_minor": 0
      },
      "text/plain": [
       "Warmup [1]:   0%|          | 0/350 [00:00, ?it/s]"
      ]
     },
     "metadata": {},
     "output_type": "display_data"
    },
    {
     "data": {
      "application/vnd.jupyter.widget-view+json": {
       "model_id": "2fc05db377be484d83b1f5680d889433",
       "version_major": 2,
       "version_minor": 0
      },
      "text/plain": [
       "Warmup [2]:   0%|          | 0/350 [00:00, ?it/s]"
      ]
     },
     "metadata": {},
     "output_type": "display_data"
    },
    {
     "name": "stderr",
     "output_type": "stream",
     "text": [
      "/Users/lucaskrieger/Documents/NLP-Project/NLP-Assignment/.conda/lib/python3.10/site-packages/torch/__init__.py:614: UserWarning: torch.set_default_tensor_type() is deprecated as of PyTorch 2.1, please use torch.set_default_dtype() and torch.set_default_device() as alternatives. (Triggered internally at /Users/runner/work/pytorch/pytorch/pytorch/torch/csrc/tensor/python_tensor.cpp:453.)\n",
      "  _C._set_default_tensor_type(t)\n",
      "/Users/lucaskrieger/Documents/NLP-Project/NLP-Assignment/.conda/lib/python3.10/site-packages/torch/__init__.py:614: UserWarning: torch.set_default_tensor_type() is deprecated as of PyTorch 2.1, please use torch.set_default_dtype() and torch.set_default_device() as alternatives. (Triggered internally at /Users/runner/work/pytorch/pytorch/pytorch/torch/csrc/tensor/python_tensor.cpp:453.)\n",
      "  _C._set_default_tensor_type(t)\n",
      "/Users/lucaskrieger/Documents/NLP-Project/NLP-Assignment/.conda/lib/python3.10/site-packages/pyro/contrib/gp/kernels/isotropic.py:49: TracerWarning: Converting a tensor to a Python boolean might cause the trace to be incorrect. We can't record the data flow of Python values, so this value will be treated as a constant in the future. This means that the trace might not generalize to other inputs!\n",
      "  if X.size(1) != Z.size(1):\n",
      "/Users/lucaskrieger/Documents/NLP-Project/NLP-Assignment/.conda/lib/python3.10/site-packages/pyro/contrib/gp/kernels/isotropic.py:49: TracerWarning: Converting a tensor to a Python boolean might cause the trace to be incorrect. We can't record the data flow of Python values, so this value will be treated as a constant in the future. This means that the trace might not generalize to other inputs!\n",
      "  if X.size(1) != Z.size(1):\n",
      "/Users/lucaskrieger/Documents/NLP-Project/NLP-Assignment/.conda/lib/python3.10/site-packages/pyro/contrib/gp/kernels/periodic.py:73: TracerWarning: Converting a tensor to a Python boolean might cause the trace to be incorrect. We can't record the data flow of Python values, so this value will be treated as a constant in the future. This means that the trace might not generalize to other inputs!\n",
      "  if X.size(1) != Z.size(1):\n",
      "/Users/lucaskrieger/Documents/NLP-Project/NLP-Assignment/.conda/lib/python3.10/site-packages/pyro/contrib/gp/kernels/periodic.py:73: TracerWarning: Converting a tensor to a Python boolean might cause the trace to be incorrect. We can't record the data flow of Python values, so this value will be treated as a constant in the future. This means that the trace might not generalize to other inputs!\n",
      "  if X.size(1) != Z.size(1):\n",
      "/Users/lucaskrieger/Documents/NLP-Project/NLP-Assignment/.conda/lib/python3.10/site-packages/pyro/contrib/gp/kernels/isotropic.py:49: TracerWarning: Converting a tensor to a Python boolean might cause the trace to be incorrect. We can't record the data flow of Python values, so this value will be treated as a constant in the future. This means that the trace might not generalize to other inputs!\n",
      "  if X.size(1) != Z.size(1):\n",
      "/Users/lucaskrieger/Documents/NLP-Project/NLP-Assignment/.conda/lib/python3.10/site-packages/pyro/contrib/gp/kernels/periodic.py:73: TracerWarning: Converting a tensor to a Python boolean might cause the trace to be incorrect. We can't record the data flow of Python values, so this value will be treated as a constant in the future. This means that the trace might not generalize to other inputs!\n",
      "  if X.size(1) != Z.size(1):\n"
     ]
    },
    {
     "name": "stdout",
     "output_type": "stream",
     "text": [
      "                           mean     sd  hdi_3%  hdi_97%  mcse_mean  mcse_sd  \\\n",
      "kernel.kern0.lengthscale  0.629  0.249   0.322    1.008      0.019    0.014   \n",
      "kernel.kern1.lengthscale  0.941  0.404   0.171    1.650      0.033    0.023   \n",
      "kernel.kern1.period       0.254  0.084   0.163    0.350      0.059    0.050   \n",
      "\n",
      "                          ess_bulk  ess_tail  r_hat  \n",
      "kernel.kern0.lengthscale     287.0     190.0   1.03  \n",
      "kernel.kern1.lengthscale     120.0      44.0   1.09  \n",
      "kernel.kern1.period            3.0     133.0   1.83  \n"
     ]
    },
    {
     "data": {
      "application/vnd.jupyter.widget-view+json": {
       "model_id": "370fcdb816ca45469b1f580cde5b1afb",
       "version_major": 2,
       "version_minor": 0
      },
      "text/plain": [
       "Warmup [1]:   0%|          | 0/350 [00:00, ?it/s]"
      ]
     },
     "metadata": {},
     "output_type": "display_data"
    },
    {
     "data": {
      "application/vnd.jupyter.widget-view+json": {
       "model_id": "d30d461bec4e4cf0934d476be6914550",
       "version_major": 2,
       "version_minor": 0
      },
      "text/plain": [
       "Warmup [2]:   0%|          | 0/350 [00:00, ?it/s]"
      ]
     },
     "metadata": {},
     "output_type": "display_data"
    },
    {
     "name": "stderr",
     "output_type": "stream",
     "text": [
      "/Users/lucaskrieger/Documents/NLP-Project/NLP-Assignment/.conda/lib/python3.10/site-packages/torch/__init__.py:614: UserWarning: torch.set_default_tensor_type() is deprecated as of PyTorch 2.1, please use torch.set_default_dtype() and torch.set_default_device() as alternatives. (Triggered internally at /Users/runner/work/pytorch/pytorch/pytorch/torch/csrc/tensor/python_tensor.cpp:453.)\n",
      "  _C._set_default_tensor_type(t)\n",
      "/Users/lucaskrieger/Documents/NLP-Project/NLP-Assignment/.conda/lib/python3.10/site-packages/torch/__init__.py:614: UserWarning: torch.set_default_tensor_type() is deprecated as of PyTorch 2.1, please use torch.set_default_dtype() and torch.set_default_device() as alternatives. (Triggered internally at /Users/runner/work/pytorch/pytorch/pytorch/torch/csrc/tensor/python_tensor.cpp:453.)\n",
      "  _C._set_default_tensor_type(t)\n",
      "/Users/lucaskrieger/Documents/NLP-Project/NLP-Assignment/.conda/lib/python3.10/site-packages/pyro/contrib/gp/kernels/isotropic.py:49: TracerWarning: Converting a tensor to a Python boolean might cause the trace to be incorrect. We can't record the data flow of Python values, so this value will be treated as a constant in the future. This means that the trace might not generalize to other inputs!\n",
      "  if X.size(1) != Z.size(1):\n",
      "/Users/lucaskrieger/Documents/NLP-Project/NLP-Assignment/.conda/lib/python3.10/site-packages/pyro/contrib/gp/kernels/periodic.py:73: TracerWarning: Converting a tensor to a Python boolean might cause the trace to be incorrect. We can't record the data flow of Python values, so this value will be treated as a constant in the future. This means that the trace might not generalize to other inputs!\n",
      "  if X.size(1) != Z.size(1):\n",
      "/Users/lucaskrieger/Documents/NLP-Project/NLP-Assignment/.conda/lib/python3.10/site-packages/pyro/contrib/gp/kernels/isotropic.py:49: TracerWarning: Converting a tensor to a Python boolean might cause the trace to be incorrect. We can't record the data flow of Python values, so this value will be treated as a constant in the future. This means that the trace might not generalize to other inputs!\n",
      "  if X.size(1) != Z.size(1):\n",
      "/Users/lucaskrieger/Documents/NLP-Project/NLP-Assignment/.conda/lib/python3.10/site-packages/pyro/contrib/gp/kernels/periodic.py:73: TracerWarning: Converting a tensor to a Python boolean might cause the trace to be incorrect. We can't record the data flow of Python values, so this value will be treated as a constant in the future. This means that the trace might not generalize to other inputs!\n",
      "  if X.size(1) != Z.size(1):\n",
      "/Users/lucaskrieger/Documents/NLP-Project/NLP-Assignment/.conda/lib/python3.10/site-packages/pyro/contrib/gp/kernels/isotropic.py:49: TracerWarning: Converting a tensor to a Python boolean might cause the trace to be incorrect. We can't record the data flow of Python values, so this value will be treated as a constant in the future. This means that the trace might not generalize to other inputs!\n",
      "  if X.size(1) != Z.size(1):\n",
      "/Users/lucaskrieger/Documents/NLP-Project/NLP-Assignment/.conda/lib/python3.10/site-packages/pyro/contrib/gp/kernels/periodic.py:73: TracerWarning: Converting a tensor to a Python boolean might cause the trace to be incorrect. We can't record the data flow of Python values, so this value will be treated as a constant in the future. This means that the trace might not generalize to other inputs!\n",
      "  if X.size(1) != Z.size(1):\n"
     ]
    },
    {
     "name": "stdout",
     "output_type": "stream",
     "text": [
      "                           mean     sd  hdi_3%  hdi_97%  mcse_mean  mcse_sd  \\\n",
      "kernel.kern0.lengthscale  0.625  0.197   0.288    0.978      0.012    0.009   \n",
      "kernel.kern1.lengthscale  0.967  0.269   0.485    1.492      0.013    0.009   \n",
      "kernel.kern1.period       0.340  0.011   0.321    0.358      0.001    0.000   \n",
      "\n",
      "                          ess_bulk  ess_tail  r_hat  \n",
      "kernel.kern0.lengthscale     256.0     292.0    1.0  \n",
      "kernel.kern1.lengthscale     402.0     248.0    1.0  \n",
      "kernel.kern1.period          285.0     250.0    1.0  \n"
     ]
    },
    {
     "data": {
      "application/vnd.jupyter.widget-view+json": {
       "model_id": "e0ee28633d37496b9a2c08928e7d6fc7",
       "version_major": 2,
       "version_minor": 0
      },
      "text/plain": [
       "Warmup [1]:   0%|          | 0/350 [00:00, ?it/s]"
      ]
     },
     "metadata": {},
     "output_type": "display_data"
    },
    {
     "data": {
      "application/vnd.jupyter.widget-view+json": {
       "model_id": "769b053fc5aa47efbb908af7fa0a24df",
       "version_major": 2,
       "version_minor": 0
      },
      "text/plain": [
       "Warmup [2]:   0%|          | 0/350 [00:00, ?it/s]"
      ]
     },
     "metadata": {},
     "output_type": "display_data"
    },
    {
     "name": "stderr",
     "output_type": "stream",
     "text": [
      "/Users/lucaskrieger/Documents/NLP-Project/NLP-Assignment/.conda/lib/python3.10/site-packages/torch/__init__.py:614: UserWarning: torch.set_default_tensor_type() is deprecated as of PyTorch 2.1, please use torch.set_default_dtype() and torch.set_default_device() as alternatives. (Triggered internally at /Users/runner/work/pytorch/pytorch/pytorch/torch/csrc/tensor/python_tensor.cpp:453.)\n",
      "  _C._set_default_tensor_type(t)\n",
      "/Users/lucaskrieger/Documents/NLP-Project/NLP-Assignment/.conda/lib/python3.10/site-packages/torch/__init__.py:614: UserWarning: torch.set_default_tensor_type() is deprecated as of PyTorch 2.1, please use torch.set_default_dtype() and torch.set_default_device() as alternatives. (Triggered internally at /Users/runner/work/pytorch/pytorch/pytorch/torch/csrc/tensor/python_tensor.cpp:453.)\n",
      "  _C._set_default_tensor_type(t)\n",
      "/Users/lucaskrieger/Documents/NLP-Project/NLP-Assignment/.conda/lib/python3.10/site-packages/pyro/contrib/gp/kernels/isotropic.py:49: TracerWarning: Converting a tensor to a Python boolean might cause the trace to be incorrect. We can't record the data flow of Python values, so this value will be treated as a constant in the future. This means that the trace might not generalize to other inputs!\n",
      "  if X.size(1) != Z.size(1):\n",
      "/Users/lucaskrieger/Documents/NLP-Project/NLP-Assignment/.conda/lib/python3.10/site-packages/pyro/contrib/gp/kernels/periodic.py:73: TracerWarning: Converting a tensor to a Python boolean might cause the trace to be incorrect. We can't record the data flow of Python values, so this value will be treated as a constant in the future. This means that the trace might not generalize to other inputs!\n",
      "  if X.size(1) != Z.size(1):\n",
      "/Users/lucaskrieger/Documents/NLP-Project/NLP-Assignment/.conda/lib/python3.10/site-packages/pyro/contrib/gp/kernels/isotropic.py:49: TracerWarning: Converting a tensor to a Python boolean might cause the trace to be incorrect. We can't record the data flow of Python values, so this value will be treated as a constant in the future. This means that the trace might not generalize to other inputs!\n",
      "  if X.size(1) != Z.size(1):\n",
      "/Users/lucaskrieger/Documents/NLP-Project/NLP-Assignment/.conda/lib/python3.10/site-packages/pyro/contrib/gp/kernels/periodic.py:73: TracerWarning: Converting a tensor to a Python boolean might cause the trace to be incorrect. We can't record the data flow of Python values, so this value will be treated as a constant in the future. This means that the trace might not generalize to other inputs!\n",
      "  if X.size(1) != Z.size(1):\n",
      "/Users/lucaskrieger/Documents/NLP-Project/NLP-Assignment/.conda/lib/python3.10/site-packages/pyro/contrib/gp/kernels/isotropic.py:49: TracerWarning: Converting a tensor to a Python boolean might cause the trace to be incorrect. We can't record the data flow of Python values, so this value will be treated as a constant in the future. This means that the trace might not generalize to other inputs!\n",
      "  if X.size(1) != Z.size(1):\n",
      "/Users/lucaskrieger/Documents/NLP-Project/NLP-Assignment/.conda/lib/python3.10/site-packages/pyro/contrib/gp/kernels/periodic.py:73: TracerWarning: Converting a tensor to a Python boolean might cause the trace to be incorrect. We can't record the data flow of Python values, so this value will be treated as a constant in the future. This means that the trace might not generalize to other inputs!\n",
      "  if X.size(1) != Z.size(1):\n"
     ]
    },
    {
     "name": "stdout",
     "output_type": "stream",
     "text": [
      "                           mean     sd  hdi_3%  hdi_97%  mcse_mean  mcse_sd  \\\n",
      "kernel.kern0.lengthscale  0.696  0.218   0.327    1.093      0.010    0.007   \n",
      "kernel.kern1.lengthscale  0.845  0.260   0.373    1.349      0.087    0.064   \n",
      "kernel.kern1.period       0.416  0.085   0.315    0.518      0.059    0.049   \n",
      "\n",
      "                          ess_bulk  ess_tail  r_hat  \n",
      "kernel.kern0.lengthscale     426.0     325.0   1.00  \n",
      "kernel.kern1.lengthscale       9.0     269.0   1.18  \n",
      "kernel.kern1.period            3.0     209.0   1.83  \n"
     ]
    },
    {
     "data": {
      "application/vnd.jupyter.widget-view+json": {
       "model_id": "2254d1e91dd74a28945ab7765de74adc",
       "version_major": 2,
       "version_minor": 0
      },
      "text/plain": [
       "Warmup [1]:   0%|          | 0/350 [00:00, ?it/s]"
      ]
     },
     "metadata": {},
     "output_type": "display_data"
    },
    {
     "data": {
      "application/vnd.jupyter.widget-view+json": {
       "model_id": "1aea15a71ffb4b37875ff4e1a7f5fb49",
       "version_major": 2,
       "version_minor": 0
      },
      "text/plain": [
       "Warmup [2]:   0%|          | 0/350 [00:00, ?it/s]"
      ]
     },
     "metadata": {},
     "output_type": "display_data"
    },
    {
     "name": "stderr",
     "output_type": "stream",
     "text": [
      "/Users/lucaskrieger/Documents/NLP-Project/NLP-Assignment/.conda/lib/python3.10/site-packages/torch/__init__.py:614: UserWarning: torch.set_default_tensor_type() is deprecated as of PyTorch 2.1, please use torch.set_default_dtype() and torch.set_default_device() as alternatives. (Triggered internally at /Users/runner/work/pytorch/pytorch/pytorch/torch/csrc/tensor/python_tensor.cpp:453.)\n",
      "  _C._set_default_tensor_type(t)\n",
      "/Users/lucaskrieger/Documents/NLP-Project/NLP-Assignment/.conda/lib/python3.10/site-packages/pyro/contrib/gp/kernels/isotropic.py:49: TracerWarning: Converting a tensor to a Python boolean might cause the trace to be incorrect. We can't record the data flow of Python values, so this value will be treated as a constant in the future. This means that the trace might not generalize to other inputs!\n",
      "  if X.size(1) != Z.size(1):\n",
      "/Users/lucaskrieger/Documents/NLP-Project/NLP-Assignment/.conda/lib/python3.10/site-packages/torch/__init__.py:614: UserWarning: torch.set_default_tensor_type() is deprecated as of PyTorch 2.1, please use torch.set_default_dtype() and torch.set_default_device() as alternatives. (Triggered internally at /Users/runner/work/pytorch/pytorch/pytorch/torch/csrc/tensor/python_tensor.cpp:453.)\n",
      "  _C._set_default_tensor_type(t)\n",
      "/Users/lucaskrieger/Documents/NLP-Project/NLP-Assignment/.conda/lib/python3.10/site-packages/pyro/contrib/gp/kernels/periodic.py:73: TracerWarning: Converting a tensor to a Python boolean might cause the trace to be incorrect. We can't record the data flow of Python values, so this value will be treated as a constant in the future. This means that the trace might not generalize to other inputs!\n",
      "  if X.size(1) != Z.size(1):\n",
      "/Users/lucaskrieger/Documents/NLP-Project/NLP-Assignment/.conda/lib/python3.10/site-packages/pyro/contrib/gp/kernels/isotropic.py:49: TracerWarning: Converting a tensor to a Python boolean might cause the trace to be incorrect. We can't record the data flow of Python values, so this value will be treated as a constant in the future. This means that the trace might not generalize to other inputs!\n",
      "  if X.size(1) != Z.size(1):\n",
      "/Users/lucaskrieger/Documents/NLP-Project/NLP-Assignment/.conda/lib/python3.10/site-packages/pyro/contrib/gp/kernels/periodic.py:73: TracerWarning: Converting a tensor to a Python boolean might cause the trace to be incorrect. We can't record the data flow of Python values, so this value will be treated as a constant in the future. This means that the trace might not generalize to other inputs!\n",
      "  if X.size(1) != Z.size(1):\n",
      "/Users/lucaskrieger/Documents/NLP-Project/NLP-Assignment/.conda/lib/python3.10/site-packages/pyro/contrib/gp/kernels/isotropic.py:49: TracerWarning: Converting a tensor to a Python boolean might cause the trace to be incorrect. We can't record the data flow of Python values, so this value will be treated as a constant in the future. This means that the trace might not generalize to other inputs!\n",
      "  if X.size(1) != Z.size(1):\n",
      "/Users/lucaskrieger/Documents/NLP-Project/NLP-Assignment/.conda/lib/python3.10/site-packages/pyro/contrib/gp/kernels/periodic.py:73: TracerWarning: Converting a tensor to a Python boolean might cause the trace to be incorrect. We can't record the data flow of Python values, so this value will be treated as a constant in the future. This means that the trace might not generalize to other inputs!\n",
      "  if X.size(1) != Z.size(1):\n"
     ]
    },
    {
     "name": "stdout",
     "output_type": "stream",
     "text": [
      "                           mean     sd  hdi_3%  hdi_97%  mcse_mean  mcse_sd  \\\n",
      "kernel.kern0.lengthscale  0.717  0.261   0.310    1.153      0.073    0.053   \n",
      "kernel.kern1.lengthscale  0.753  0.302   0.320    1.344      0.155    0.119   \n",
      "kernel.kern1.period       0.540  0.216   0.313    0.861      0.143    0.118   \n",
      "\n",
      "                          ess_bulk  ess_tail  r_hat  \n",
      "kernel.kern0.lengthscale      14.0     339.0   1.10  \n",
      "kernel.kern1.lengthscale       4.0     304.0   1.47  \n",
      "kernel.kern1.period            3.0      17.0   1.87  \n"
     ]
    },
    {
     "data": {
      "application/vnd.jupyter.widget-view+json": {
       "model_id": "63726fecb89844478233db2b84eb35a9",
       "version_major": 2,
       "version_minor": 0
      },
      "text/plain": [
       "Warmup [1]:   0%|          | 0/350 [00:00, ?it/s]"
      ]
     },
     "metadata": {},
     "output_type": "display_data"
    },
    {
     "data": {
      "application/vnd.jupyter.widget-view+json": {
       "model_id": "e11c526e71c048e782dcf1a782f46e90",
       "version_major": 2,
       "version_minor": 0
      },
      "text/plain": [
       "Warmup [2]:   0%|          | 0/350 [00:00, ?it/s]"
      ]
     },
     "metadata": {},
     "output_type": "display_data"
    },
    {
     "name": "stderr",
     "output_type": "stream",
     "text": [
      "/Users/lucaskrieger/Documents/NLP-Project/NLP-Assignment/.conda/lib/python3.10/site-packages/torch/__init__.py:614: UserWarning: torch.set_default_tensor_type() is deprecated as of PyTorch 2.1, please use torch.set_default_dtype() and torch.set_default_device() as alternatives. (Triggered internally at /Users/runner/work/pytorch/pytorch/pytorch/torch/csrc/tensor/python_tensor.cpp:453.)\n",
      "  _C._set_default_tensor_type(t)\n",
      "/Users/lucaskrieger/Documents/NLP-Project/NLP-Assignment/.conda/lib/python3.10/site-packages/torch/__init__.py:614: UserWarning: torch.set_default_tensor_type() is deprecated as of PyTorch 2.1, please use torch.set_default_dtype() and torch.set_default_device() as alternatives. (Triggered internally at /Users/runner/work/pytorch/pytorch/pytorch/torch/csrc/tensor/python_tensor.cpp:453.)\n",
      "  _C._set_default_tensor_type(t)\n",
      "/Users/lucaskrieger/Documents/NLP-Project/NLP-Assignment/.conda/lib/python3.10/site-packages/pyro/contrib/gp/kernels/isotropic.py:49: TracerWarning: Converting a tensor to a Python boolean might cause the trace to be incorrect. We can't record the data flow of Python values, so this value will be treated as a constant in the future. This means that the trace might not generalize to other inputs!\n",
      "  if X.size(1) != Z.size(1):\n",
      "/Users/lucaskrieger/Documents/NLP-Project/NLP-Assignment/.conda/lib/python3.10/site-packages/pyro/contrib/gp/kernels/periodic.py:73: TracerWarning: Converting a tensor to a Python boolean might cause the trace to be incorrect. We can't record the data flow of Python values, so this value will be treated as a constant in the future. This means that the trace might not generalize to other inputs!\n",
      "  if X.size(1) != Z.size(1):\n",
      "/Users/lucaskrieger/Documents/NLP-Project/NLP-Assignment/.conda/lib/python3.10/site-packages/pyro/contrib/gp/kernels/isotropic.py:49: TracerWarning: Converting a tensor to a Python boolean might cause the trace to be incorrect. We can't record the data flow of Python values, so this value will be treated as a constant in the future. This means that the trace might not generalize to other inputs!\n",
      "  if X.size(1) != Z.size(1):\n",
      "/Users/lucaskrieger/Documents/NLP-Project/NLP-Assignment/.conda/lib/python3.10/site-packages/pyro/contrib/gp/kernels/periodic.py:73: TracerWarning: Converting a tensor to a Python boolean might cause the trace to be incorrect. We can't record the data flow of Python values, so this value will be treated as a constant in the future. This means that the trace might not generalize to other inputs!\n",
      "  if X.size(1) != Z.size(1):\n",
      "/Users/lucaskrieger/Documents/NLP-Project/NLP-Assignment/.conda/lib/python3.10/site-packages/pyro/contrib/gp/kernels/isotropic.py:49: TracerWarning: Converting a tensor to a Python boolean might cause the trace to be incorrect. We can't record the data flow of Python values, so this value will be treated as a constant in the future. This means that the trace might not generalize to other inputs!\n",
      "  if X.size(1) != Z.size(1):\n",
      "/Users/lucaskrieger/Documents/NLP-Project/NLP-Assignment/.conda/lib/python3.10/site-packages/pyro/contrib/gp/kernels/periodic.py:73: TracerWarning: Converting a tensor to a Python boolean might cause the trace to be incorrect. We can't record the data flow of Python values, so this value will be treated as a constant in the future. This means that the trace might not generalize to other inputs!\n",
      "  if X.size(1) != Z.size(1):\n"
     ]
    },
    {
     "name": "stdout",
     "output_type": "stream",
     "text": [
      "                           mean     sd  hdi_3%  hdi_97%  mcse_mean  mcse_sd  \\\n",
      "kernel.kern0.lengthscale  0.657  0.302   0.258    1.131      0.067    0.048   \n",
      "kernel.kern1.lengthscale  0.999  0.301   0.426    1.451      0.047    0.033   \n",
      "kernel.kern1.period       0.451  0.365   0.161    1.180      0.104    0.076   \n",
      "\n",
      "                          ess_bulk  ess_tail  r_hat  \n",
      "kernel.kern0.lengthscale      16.0     112.0   1.09  \n",
      "kernel.kern1.lengthscale      47.0     152.0   1.02  \n",
      "kernel.kern1.period           15.0      38.0   1.89  \n"
     ]
    },
    {
     "data": {
      "application/vnd.jupyter.widget-view+json": {
       "model_id": "61b4db23d06f428282f005df6b6d5c54",
       "version_major": 2,
       "version_minor": 0
      },
      "text/plain": [
       "Warmup [1]:   0%|          | 0/350 [00:00, ?it/s]"
      ]
     },
     "metadata": {},
     "output_type": "display_data"
    },
    {
     "data": {
      "application/vnd.jupyter.widget-view+json": {
       "model_id": "9ecb9a0028994a31b4bd1f49641fc354",
       "version_major": 2,
       "version_minor": 0
      },
      "text/plain": [
       "Warmup [2]:   0%|          | 0/350 [00:00, ?it/s]"
      ]
     },
     "metadata": {},
     "output_type": "display_data"
    },
    {
     "name": "stderr",
     "output_type": "stream",
     "text": [
      "/Users/lucaskrieger/Documents/NLP-Project/NLP-Assignment/.conda/lib/python3.10/site-packages/torch/__init__.py:614: UserWarning: torch.set_default_tensor_type() is deprecated as of PyTorch 2.1, please use torch.set_default_dtype() and torch.set_default_device() as alternatives. (Triggered internally at /Users/runner/work/pytorch/pytorch/pytorch/torch/csrc/tensor/python_tensor.cpp:453.)\n",
      "  _C._set_default_tensor_type(t)\n",
      "/Users/lucaskrieger/Documents/NLP-Project/NLP-Assignment/.conda/lib/python3.10/site-packages/torch/__init__.py:614: UserWarning: torch.set_default_tensor_type() is deprecated as of PyTorch 2.1, please use torch.set_default_dtype() and torch.set_default_device() as alternatives. (Triggered internally at /Users/runner/work/pytorch/pytorch/pytorch/torch/csrc/tensor/python_tensor.cpp:453.)\n",
      "  _C._set_default_tensor_type(t)\n",
      "/Users/lucaskrieger/Documents/NLP-Project/NLP-Assignment/.conda/lib/python3.10/site-packages/pyro/contrib/gp/kernels/isotropic.py:49: TracerWarning: Converting a tensor to a Python boolean might cause the trace to be incorrect. We can't record the data flow of Python values, so this value will be treated as a constant in the future. This means that the trace might not generalize to other inputs!\n",
      "  if X.size(1) != Z.size(1):\n",
      "/Users/lucaskrieger/Documents/NLP-Project/NLP-Assignment/.conda/lib/python3.10/site-packages/pyro/contrib/gp/kernels/isotropic.py:49: TracerWarning: Converting a tensor to a Python boolean might cause the trace to be incorrect. We can't record the data flow of Python values, so this value will be treated as a constant in the future. This means that the trace might not generalize to other inputs!\n",
      "  if X.size(1) != Z.size(1):\n",
      "/Users/lucaskrieger/Documents/NLP-Project/NLP-Assignment/.conda/lib/python3.10/site-packages/pyro/contrib/gp/kernels/periodic.py:73: TracerWarning: Converting a tensor to a Python boolean might cause the trace to be incorrect. We can't record the data flow of Python values, so this value will be treated as a constant in the future. This means that the trace might not generalize to other inputs!\n",
      "  if X.size(1) != Z.size(1):\n",
      "/Users/lucaskrieger/Documents/NLP-Project/NLP-Assignment/.conda/lib/python3.10/site-packages/pyro/contrib/gp/kernels/periodic.py:73: TracerWarning: Converting a tensor to a Python boolean might cause the trace to be incorrect. We can't record the data flow of Python values, so this value will be treated as a constant in the future. This means that the trace might not generalize to other inputs!\n",
      "  if X.size(1) != Z.size(1):\n",
      "/Users/lucaskrieger/Documents/NLP-Project/NLP-Assignment/.conda/lib/python3.10/site-packages/pyro/contrib/gp/kernels/isotropic.py:49: TracerWarning: Converting a tensor to a Python boolean might cause the trace to be incorrect. We can't record the data flow of Python values, so this value will be treated as a constant in the future. This means that the trace might not generalize to other inputs!\n",
      "  if X.size(1) != Z.size(1):\n",
      "/Users/lucaskrieger/Documents/NLP-Project/NLP-Assignment/.conda/lib/python3.10/site-packages/pyro/contrib/gp/kernels/periodic.py:73: TracerWarning: Converting a tensor to a Python boolean might cause the trace to be incorrect. We can't record the data flow of Python values, so this value will be treated as a constant in the future. This means that the trace might not generalize to other inputs!\n",
      "  if X.size(1) != Z.size(1):\n"
     ]
    },
    {
     "name": "stdout",
     "output_type": "stream",
     "text": [
      "                           mean     sd  hdi_3%  hdi_97%  mcse_mean  mcse_sd  \\\n",
      "kernel.kern0.lengthscale  0.572  0.166   0.302    0.875      0.014    0.010   \n",
      "kernel.kern1.lengthscale  1.015  0.458   0.323    1.826      0.061    0.043   \n",
      "kernel.kern1.period       0.256  0.086   0.163    0.355      0.060    0.050   \n",
      "\n",
      "                          ess_bulk  ess_tail  r_hat  \n",
      "kernel.kern0.lengthscale     134.0     213.0   1.01  \n",
      "kernel.kern1.lengthscale      52.0      96.0   1.08  \n",
      "kernel.kern1.period            3.0     147.0   1.83  \n"
     ]
    },
    {
     "data": {
      "application/vnd.jupyter.widget-view+json": {
       "model_id": "bd20a52cfcde447b9c13f7fd5db49dc9",
       "version_major": 2,
       "version_minor": 0
      },
      "text/plain": [
       "Warmup [1]:   0%|          | 0/350 [00:00, ?it/s]"
      ]
     },
     "metadata": {},
     "output_type": "display_data"
    },
    {
     "data": {
      "application/vnd.jupyter.widget-view+json": {
       "model_id": "de6943f4995d416482b50c576c49611d",
       "version_major": 2,
       "version_minor": 0
      },
      "text/plain": [
       "Warmup [2]:   0%|          | 0/350 [00:00, ?it/s]"
      ]
     },
     "metadata": {},
     "output_type": "display_data"
    },
    {
     "name": "stderr",
     "output_type": "stream",
     "text": [
      "/Users/lucaskrieger/Documents/NLP-Project/NLP-Assignment/.conda/lib/python3.10/site-packages/torch/__init__.py:614: UserWarning: torch.set_default_tensor_type() is deprecated as of PyTorch 2.1, please use torch.set_default_dtype() and torch.set_default_device() as alternatives. (Triggered internally at /Users/runner/work/pytorch/pytorch/pytorch/torch/csrc/tensor/python_tensor.cpp:453.)\n",
      "  _C._set_default_tensor_type(t)\n",
      "/Users/lucaskrieger/Documents/NLP-Project/NLP-Assignment/.conda/lib/python3.10/site-packages/torch/__init__.py:614: UserWarning: torch.set_default_tensor_type() is deprecated as of PyTorch 2.1, please use torch.set_default_dtype() and torch.set_default_device() as alternatives. (Triggered internally at /Users/runner/work/pytorch/pytorch/pytorch/torch/csrc/tensor/python_tensor.cpp:453.)\n",
      "  _C._set_default_tensor_type(t)\n",
      "/Users/lucaskrieger/Documents/NLP-Project/NLP-Assignment/.conda/lib/python3.10/site-packages/pyro/contrib/gp/kernels/isotropic.py:49: TracerWarning: Converting a tensor to a Python boolean might cause the trace to be incorrect. We can't record the data flow of Python values, so this value will be treated as a constant in the future. This means that the trace might not generalize to other inputs!\n",
      "  if X.size(1) != Z.size(1):\n",
      "/Users/lucaskrieger/Documents/NLP-Project/NLP-Assignment/.conda/lib/python3.10/site-packages/pyro/contrib/gp/kernels/periodic.py:73: TracerWarning: Converting a tensor to a Python boolean might cause the trace to be incorrect. We can't record the data flow of Python values, so this value will be treated as a constant in the future. This means that the trace might not generalize to other inputs!\n",
      "  if X.size(1) != Z.size(1):\n",
      "/Users/lucaskrieger/Documents/NLP-Project/NLP-Assignment/.conda/lib/python3.10/site-packages/pyro/contrib/gp/kernels/isotropic.py:49: TracerWarning: Converting a tensor to a Python boolean might cause the trace to be incorrect. We can't record the data flow of Python values, so this value will be treated as a constant in the future. This means that the trace might not generalize to other inputs!\n",
      "  if X.size(1) != Z.size(1):\n",
      "/Users/lucaskrieger/Documents/NLP-Project/NLP-Assignment/.conda/lib/python3.10/site-packages/pyro/contrib/gp/kernels/periodic.py:73: TracerWarning: Converting a tensor to a Python boolean might cause the trace to be incorrect. We can't record the data flow of Python values, so this value will be treated as a constant in the future. This means that the trace might not generalize to other inputs!\n",
      "  if X.size(1) != Z.size(1):\n",
      "/Users/lucaskrieger/Documents/NLP-Project/NLP-Assignment/.conda/lib/python3.10/site-packages/pyro/contrib/gp/kernels/isotropic.py:49: TracerWarning: Converting a tensor to a Python boolean might cause the trace to be incorrect. We can't record the data flow of Python values, so this value will be treated as a constant in the future. This means that the trace might not generalize to other inputs!\n",
      "  if X.size(1) != Z.size(1):\n",
      "/Users/lucaskrieger/Documents/NLP-Project/NLP-Assignment/.conda/lib/python3.10/site-packages/pyro/contrib/gp/kernels/periodic.py:73: TracerWarning: Converting a tensor to a Python boolean might cause the trace to be incorrect. We can't record the data flow of Python values, so this value will be treated as a constant in the future. This means that the trace might not generalize to other inputs!\n",
      "  if X.size(1) != Z.size(1):\n"
     ]
    },
    {
     "name": "stdout",
     "output_type": "stream",
     "text": [
      "                           mean     sd  hdi_3%  hdi_97%  mcse_mean  mcse_sd  \\\n",
      "kernel.kern0.lengthscale  0.690  0.210   0.370    1.119      0.053    0.038   \n",
      "kernel.kern1.lengthscale  0.821  0.276   0.407    1.346      0.110    0.082   \n",
      "kernel.kern1.period       0.481  0.190   0.325    0.715      0.107    0.084   \n",
      "\n",
      "                          ess_bulk  ess_tail  r_hat  \n",
      "kernel.kern0.lengthscale      15.0     184.0   1.10  \n",
      "kernel.kern1.lengthscale       6.0      91.0   1.29  \n",
      "kernel.kern1.period            3.0      79.0   1.98  \n"
     ]
    },
    {
     "data": {
      "application/vnd.jupyter.widget-view+json": {
       "model_id": "79cca24d3e074e578e023e275a2005ba",
       "version_major": 2,
       "version_minor": 0
      },
      "text/plain": [
       "Warmup [1]:   0%|          | 0/350 [00:00, ?it/s]"
      ]
     },
     "metadata": {},
     "output_type": "display_data"
    },
    {
     "data": {
      "application/vnd.jupyter.widget-view+json": {
       "model_id": "7c84ff14c006474aa05c9541650cd6d0",
       "version_major": 2,
       "version_minor": 0
      },
      "text/plain": [
       "Warmup [2]:   0%|          | 0/350 [00:00, ?it/s]"
      ]
     },
     "metadata": {},
     "output_type": "display_data"
    },
    {
     "name": "stderr",
     "output_type": "stream",
     "text": [
      "/Users/lucaskrieger/Documents/NLP-Project/NLP-Assignment/.conda/lib/python3.10/site-packages/torch/__init__.py:614: UserWarning: torch.set_default_tensor_type() is deprecated as of PyTorch 2.1, please use torch.set_default_dtype() and torch.set_default_device() as alternatives. (Triggered internally at /Users/runner/work/pytorch/pytorch/pytorch/torch/csrc/tensor/python_tensor.cpp:453.)\n",
      "  _C._set_default_tensor_type(t)\n",
      "/Users/lucaskrieger/Documents/NLP-Project/NLP-Assignment/.conda/lib/python3.10/site-packages/torch/__init__.py:614: UserWarning: torch.set_default_tensor_type() is deprecated as of PyTorch 2.1, please use torch.set_default_dtype() and torch.set_default_device() as alternatives. (Triggered internally at /Users/runner/work/pytorch/pytorch/pytorch/torch/csrc/tensor/python_tensor.cpp:453.)\n",
      "  _C._set_default_tensor_type(t)\n",
      "/Users/lucaskrieger/Documents/NLP-Project/NLP-Assignment/.conda/lib/python3.10/site-packages/pyro/contrib/gp/kernels/isotropic.py:49: TracerWarning: Converting a tensor to a Python boolean might cause the trace to be incorrect. We can't record the data flow of Python values, so this value will be treated as a constant in the future. This means that the trace might not generalize to other inputs!\n",
      "  if X.size(1) != Z.size(1):\n",
      "/Users/lucaskrieger/Documents/NLP-Project/NLP-Assignment/.conda/lib/python3.10/site-packages/pyro/contrib/gp/kernels/isotropic.py:49: TracerWarning: Converting a tensor to a Python boolean might cause the trace to be incorrect. We can't record the data flow of Python values, so this value will be treated as a constant in the future. This means that the trace might not generalize to other inputs!\n",
      "  if X.size(1) != Z.size(1):\n",
      "/Users/lucaskrieger/Documents/NLP-Project/NLP-Assignment/.conda/lib/python3.10/site-packages/pyro/contrib/gp/kernels/periodic.py:73: TracerWarning: Converting a tensor to a Python boolean might cause the trace to be incorrect. We can't record the data flow of Python values, so this value will be treated as a constant in the future. This means that the trace might not generalize to other inputs!\n",
      "  if X.size(1) != Z.size(1):\n",
      "/Users/lucaskrieger/Documents/NLP-Project/NLP-Assignment/.conda/lib/python3.10/site-packages/pyro/contrib/gp/kernels/periodic.py:73: TracerWarning: Converting a tensor to a Python boolean might cause the trace to be incorrect. We can't record the data flow of Python values, so this value will be treated as a constant in the future. This means that the trace might not generalize to other inputs!\n",
      "  if X.size(1) != Z.size(1):\n",
      "/Users/lucaskrieger/Documents/NLP-Project/NLP-Assignment/.conda/lib/python3.10/site-packages/pyro/contrib/gp/kernels/isotropic.py:49: TracerWarning: Converting a tensor to a Python boolean might cause the trace to be incorrect. We can't record the data flow of Python values, so this value will be treated as a constant in the future. This means that the trace might not generalize to other inputs!\n",
      "  if X.size(1) != Z.size(1):\n",
      "/Users/lucaskrieger/Documents/NLP-Project/NLP-Assignment/.conda/lib/python3.10/site-packages/pyro/contrib/gp/kernels/periodic.py:73: TracerWarning: Converting a tensor to a Python boolean might cause the trace to be incorrect. We can't record the data flow of Python values, so this value will be treated as a constant in the future. This means that the trace might not generalize to other inputs!\n",
      "  if X.size(1) != Z.size(1):\n"
     ]
    },
    {
     "name": "stdout",
     "output_type": "stream",
     "text": [
      "                           mean     sd  hdi_3%  hdi_97%  mcse_mean  mcse_sd  \\\n",
      "kernel.kern0.lengthscale  0.699  0.262   0.285    1.038      0.027    0.019   \n",
      "kernel.kern1.lengthscale  0.929  0.334   0.418    1.585      0.083    0.060   \n",
      "kernel.kern1.period       0.537  0.294   0.305    1.125      0.126    0.094   \n",
      "\n",
      "                          ess_bulk  ess_tail  r_hat  \n",
      "kernel.kern0.lengthscale     134.0     123.0   1.06  \n",
      "kernel.kern1.lengthscale      14.0     167.0   1.10  \n",
      "kernel.kern1.period            4.0      83.0   1.42  \n"
     ]
    },
    {
     "data": {
      "application/vnd.jupyter.widget-view+json": {
       "model_id": "181430085cd649e38399302a3fea8643",
       "version_major": 2,
       "version_minor": 0
      },
      "text/plain": [
       "Warmup [1]:   0%|          | 0/350 [00:00, ?it/s]"
      ]
     },
     "metadata": {},
     "output_type": "display_data"
    },
    {
     "data": {
      "application/vnd.jupyter.widget-view+json": {
       "model_id": "1ef3f65890604bfdb99de5dd8cc07f68",
       "version_major": 2,
       "version_minor": 0
      },
      "text/plain": [
       "Warmup [2]:   0%|          | 0/350 [00:00, ?it/s]"
      ]
     },
     "metadata": {},
     "output_type": "display_data"
    },
    {
     "name": "stderr",
     "output_type": "stream",
     "text": [
      "/Users/lucaskrieger/Documents/NLP-Project/NLP-Assignment/.conda/lib/python3.10/site-packages/torch/__init__.py:614: UserWarning: torch.set_default_tensor_type() is deprecated as of PyTorch 2.1, please use torch.set_default_dtype() and torch.set_default_device() as alternatives. (Triggered internally at /Users/runner/work/pytorch/pytorch/pytorch/torch/csrc/tensor/python_tensor.cpp:453.)\n",
      "  _C._set_default_tensor_type(t)\n",
      "/Users/lucaskrieger/Documents/NLP-Project/NLP-Assignment/.conda/lib/python3.10/site-packages/torch/__init__.py:614: UserWarning: torch.set_default_tensor_type() is deprecated as of PyTorch 2.1, please use torch.set_default_dtype() and torch.set_default_device() as alternatives. (Triggered internally at /Users/runner/work/pytorch/pytorch/pytorch/torch/csrc/tensor/python_tensor.cpp:453.)\n",
      "  _C._set_default_tensor_type(t)\n",
      "/Users/lucaskrieger/Documents/NLP-Project/NLP-Assignment/.conda/lib/python3.10/site-packages/pyro/contrib/gp/kernels/isotropic.py:49: TracerWarning: Converting a tensor to a Python boolean might cause the trace to be incorrect. We can't record the data flow of Python values, so this value will be treated as a constant in the future. This means that the trace might not generalize to other inputs!\n",
      "  if X.size(1) != Z.size(1):\n",
      "/Users/lucaskrieger/Documents/NLP-Project/NLP-Assignment/.conda/lib/python3.10/site-packages/pyro/contrib/gp/kernels/periodic.py:73: TracerWarning: Converting a tensor to a Python boolean might cause the trace to be incorrect. We can't record the data flow of Python values, so this value will be treated as a constant in the future. This means that the trace might not generalize to other inputs!\n",
      "  if X.size(1) != Z.size(1):\n",
      "/Users/lucaskrieger/Documents/NLP-Project/NLP-Assignment/.conda/lib/python3.10/site-packages/pyro/contrib/gp/kernels/isotropic.py:49: TracerWarning: Converting a tensor to a Python boolean might cause the trace to be incorrect. We can't record the data flow of Python values, so this value will be treated as a constant in the future. This means that the trace might not generalize to other inputs!\n",
      "  if X.size(1) != Z.size(1):\n",
      "/Users/lucaskrieger/Documents/NLP-Project/NLP-Assignment/.conda/lib/python3.10/site-packages/pyro/contrib/gp/kernels/periodic.py:73: TracerWarning: Converting a tensor to a Python boolean might cause the trace to be incorrect. We can't record the data flow of Python values, so this value will be treated as a constant in the future. This means that the trace might not generalize to other inputs!\n",
      "  if X.size(1) != Z.size(1):\n",
      "/Users/lucaskrieger/Documents/NLP-Project/NLP-Assignment/.conda/lib/python3.10/site-packages/pyro/contrib/gp/kernels/isotropic.py:49: TracerWarning: Converting a tensor to a Python boolean might cause the trace to be incorrect. We can't record the data flow of Python values, so this value will be treated as a constant in the future. This means that the trace might not generalize to other inputs!\n",
      "  if X.size(1) != Z.size(1):\n",
      "/Users/lucaskrieger/Documents/NLP-Project/NLP-Assignment/.conda/lib/python3.10/site-packages/pyro/contrib/gp/kernels/periodic.py:73: TracerWarning: Converting a tensor to a Python boolean might cause the trace to be incorrect. We can't record the data flow of Python values, so this value will be treated as a constant in the future. This means that the trace might not generalize to other inputs!\n",
      "  if X.size(1) != Z.size(1):\n"
     ]
    },
    {
     "name": "stdout",
     "output_type": "stream",
     "text": [
      "                           mean     sd  hdi_3%  hdi_97%  mcse_mean  mcse_sd  \\\n",
      "kernel.kern0.lengthscale  0.684  0.226   0.343    1.129      0.014    0.010   \n",
      "kernel.kern1.lengthscale  0.747  0.302   0.225    1.287      0.125    0.093   \n",
      "kernel.kern1.period       0.213  0.127   0.085    0.349      0.088    0.074   \n",
      "\n",
      "                          ess_bulk  ess_tail  r_hat  \n",
      "kernel.kern0.lengthscale     305.0     215.0   1.02  \n",
      "kernel.kern1.lengthscale       6.0     210.0   1.27  \n",
      "kernel.kern1.period            3.0      64.0   1.84  \n"
     ]
    },
    {
     "data": {
      "application/vnd.jupyter.widget-view+json": {
       "model_id": "ad93e134b5f840beb5547630702faa51",
       "version_major": 2,
       "version_minor": 0
      },
      "text/plain": [
       "Warmup [1]:   0%|          | 0/350 [00:00, ?it/s]"
      ]
     },
     "metadata": {},
     "output_type": "display_data"
    },
    {
     "data": {
      "application/vnd.jupyter.widget-view+json": {
       "model_id": "18506d32f43b4896a144ddcc803e066f",
       "version_major": 2,
       "version_minor": 0
      },
      "text/plain": [
       "Warmup [2]:   0%|          | 0/350 [00:00, ?it/s]"
      ]
     },
     "metadata": {},
     "output_type": "display_data"
    },
    {
     "name": "stderr",
     "output_type": "stream",
     "text": [
      "/Users/lucaskrieger/Documents/NLP-Project/NLP-Assignment/.conda/lib/python3.10/site-packages/torch/__init__.py:614: UserWarning: torch.set_default_tensor_type() is deprecated as of PyTorch 2.1, please use torch.set_default_dtype() and torch.set_default_device() as alternatives. (Triggered internally at /Users/runner/work/pytorch/pytorch/pytorch/torch/csrc/tensor/python_tensor.cpp:453.)\n",
      "  _C._set_default_tensor_type(t)\n",
      "/Users/lucaskrieger/Documents/NLP-Project/NLP-Assignment/.conda/lib/python3.10/site-packages/torch/__init__.py:614: UserWarning: torch.set_default_tensor_type() is deprecated as of PyTorch 2.1, please use torch.set_default_dtype() and torch.set_default_device() as alternatives. (Triggered internally at /Users/runner/work/pytorch/pytorch/pytorch/torch/csrc/tensor/python_tensor.cpp:453.)\n",
      "  _C._set_default_tensor_type(t)\n",
      "/Users/lucaskrieger/Documents/NLP-Project/NLP-Assignment/.conda/lib/python3.10/site-packages/pyro/contrib/gp/kernels/isotropic.py:49: TracerWarning: Converting a tensor to a Python boolean might cause the trace to be incorrect. We can't record the data flow of Python values, so this value will be treated as a constant in the future. This means that the trace might not generalize to other inputs!\n",
      "  if X.size(1) != Z.size(1):\n",
      "/Users/lucaskrieger/Documents/NLP-Project/NLP-Assignment/.conda/lib/python3.10/site-packages/pyro/contrib/gp/kernels/isotropic.py:49: TracerWarning: Converting a tensor to a Python boolean might cause the trace to be incorrect. We can't record the data flow of Python values, so this value will be treated as a constant in the future. This means that the trace might not generalize to other inputs!\n",
      "  if X.size(1) != Z.size(1):\n",
      "/Users/lucaskrieger/Documents/NLP-Project/NLP-Assignment/.conda/lib/python3.10/site-packages/pyro/contrib/gp/kernels/periodic.py:73: TracerWarning: Converting a tensor to a Python boolean might cause the trace to be incorrect. We can't record the data flow of Python values, so this value will be treated as a constant in the future. This means that the trace might not generalize to other inputs!\n",
      "  if X.size(1) != Z.size(1):\n",
      "/Users/lucaskrieger/Documents/NLP-Project/NLP-Assignment/.conda/lib/python3.10/site-packages/pyro/contrib/gp/kernels/periodic.py:73: TracerWarning: Converting a tensor to a Python boolean might cause the trace to be incorrect. We can't record the data flow of Python values, so this value will be treated as a constant in the future. This means that the trace might not generalize to other inputs!\n",
      "  if X.size(1) != Z.size(1):\n",
      "/Users/lucaskrieger/Documents/NLP-Project/NLP-Assignment/.conda/lib/python3.10/site-packages/pyro/contrib/gp/kernels/isotropic.py:49: TracerWarning: Converting a tensor to a Python boolean might cause the trace to be incorrect. We can't record the data flow of Python values, so this value will be treated as a constant in the future. This means that the trace might not generalize to other inputs!\n",
      "  if X.size(1) != Z.size(1):\n",
      "/Users/lucaskrieger/Documents/NLP-Project/NLP-Assignment/.conda/lib/python3.10/site-packages/pyro/contrib/gp/kernels/periodic.py:73: TracerWarning: Converting a tensor to a Python boolean might cause the trace to be incorrect. We can't record the data flow of Python values, so this value will be treated as a constant in the future. This means that the trace might not generalize to other inputs!\n",
      "  if X.size(1) != Z.size(1):\n"
     ]
    },
    {
     "name": "stdout",
     "output_type": "stream",
     "text": [
      "                           mean     sd  hdi_3%  hdi_97%  mcse_mean  mcse_sd  \\\n",
      "kernel.kern0.lengthscale  0.755  0.318   0.299    1.333      0.031    0.022   \n",
      "kernel.kern1.lengthscale  0.997  0.422   0.259    1.644      0.046    0.032   \n",
      "kernel.kern1.period       0.250  0.082   0.161    0.350      0.057    0.048   \n",
      "\n",
      "                          ess_bulk  ess_tail  r_hat  \n",
      "kernel.kern0.lengthscale     117.0     162.0   1.04  \n",
      "kernel.kern1.lengthscale      64.0      49.0   1.08  \n",
      "kernel.kern1.period            3.0     182.0   1.83  \n"
     ]
    }
   ],
   "source": [
    "map_likelihood_collection = []\n",
    "nuts_likelihood_collection = []\n",
    "\n",
    "for i in range(20):    \n",
    "    # create dataset\n",
    "    X = torch.linspace(0, 1, SIZE)\n",
    "    y = g(X) + np.random.normal(scale = 0.01, size = (SIZE,))\n",
    "    choose = np.random.choice(SIZE, int(SIZE * 2/3), replace= False)\n",
    "    non_choosen = np.setdiff1d(np.arange(SIZE), choose)\n",
    "    X_train, X_test = X[choose], X[non_choosen]\n",
    "    y_train, y_test = y[choose], y[non_choosen]\n",
    "    \n",
    "    # train MAP model\n",
    "    pyro.clear_param_store()\n",
    "    model1 = gen_model()\n",
    "    train_model(model1)\n",
    "    plot_model(model1, X_train, X_test, y_train, y_test)\n",
    "    plt.tight_layout()\n",
    "    plt.savefig(\"./images/map_predictions_\" + str(i) + \".png\")\n",
    "    plt.close()\n",
    "    map_likelihood = MAP_likelihood(model1, X_test, y_test)\n",
    "    \n",
    "    #train NUTS model\n",
    "    pyro.clear_param_store()\n",
    "    model2 = gen_model()\n",
    "    nuts_likelihood = NUTS_likelihood(model2, X_test, y_test, i = i)\n",
    "    \n",
    "    map_likelihood_collection.append(map_likelihood)\n",
    "    nuts_likelihood_collection.append(nuts_likelihood.item())"
   ]
  },
  {
   "cell_type": "code",
   "execution_count": 129,
   "metadata": {},
   "outputs": [
    {
     "name": "stdout",
     "output_type": "stream",
     "text": [
      "Mean 101072845773.469, SD 415103310565.748\n"
     ]
    }
   ],
   "source": [
    "map_likelihood_collection\n",
    "print(f\"Mean {np.mean(map_likelihood_collection):.3f}, SD {np.std(map_likelihood_collection):.3f}\")"
   ]
  },
  {
   "cell_type": "code",
   "execution_count": 130,
   "metadata": {},
   "outputs": [
    {
     "name": "stdout",
     "output_type": "stream",
     "text": [
      "Mean 0.213, SD 0.140\n"
     ]
    }
   ],
   "source": [
    "nuts_likelihood_collection\n",
    "print(f\"Mean {np.mean(nuts_likelihood_collection):.3f}, SD {np.std(nuts_likelihood_collection):.3f}\")"
   ]
  },
  {
   "cell_type": "code",
   "execution_count": 131,
   "metadata": {},
   "outputs": [
    {
     "data": {
      "image/png": "[encoded data removed]",
      "text/plain": [
       "<Figure size 640x480 with 1 Axes>"
      ]
     },
     "metadata": {},
     "output_type": "display_data"
    }
   ],
   "source": [
    "plt.scatter(range(1, 21), np.log(map_likelihood_collection), label = \"MAP\")\n",
    "plt.scatter(range(1, 21), np.log(nuts_likelihood_collection), label = \"Approximate Posterior Likelihood\")\n",
    "plt.ylabel(\"Loglikelihood\")\n",
    "plt.xlabel(\"Iteration number\")\n",
    "plt.xticks(range(1, 4))\n",
    "plt.title(\"Comparison of loglikelihoods on test data\")\n",
    "plt.tight_layout()\n",
    "plt.savefig(\"Likelihood_comparison.png\")\n",
    "plt.legend()\n",
    "plt.show()"
   ]
  }
 ],
 "metadata": {
  "kernelspec": {
   "display_name": "Python 3",
   "language": "python",
   "name": "python3"
  },
  "language_info": {
   "codemirror_mode": {
    "name": "ipython",
    "version": 3
   },
   "file_extension": ".py",
   "mimetype": "text/x-python",
   "name": "python",
   "nbconvert_exporter": "python",
   "pygments_lexer": "ipython3",
   "version": "3.10.13"
  },
  "orig_nbformat": 4
 },
 "nbformat": 4,
 "nbformat_minor": 2
}
